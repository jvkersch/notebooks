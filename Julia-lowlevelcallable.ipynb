{
 "cells": [
  {
   "cell_type": "code",
   "execution_count": 15,
   "metadata": {
    "collapsed": true,
    "deletable": true,
    "editable": true
   },
   "outputs": [],
   "source": [
    "JULIA = \"/usr/local/bin/julia\""
   ]
  },
  {
   "cell_type": "code",
   "execution_count": 16,
   "metadata": {
    "collapsed": true,
    "deletable": true,
    "editable": true
   },
   "outputs": [],
   "source": [
    "import subprocess\n",
    "\n",
    "def find_juliac(julia):\n",
    "    snippet = 'normpath(Base.find_package(\"PackageCompiler\"), \"..\", \"..\", \"juliac.jl\")'\n",
    "    out = subprocess.check_output(\n",
    "        [JULIA, \"--startup-file=no\", \"-E\", snippet],\n",
    "        encoding='utf-8'\n",
    "    )\n",
    "    return out.splitlines()[0][1:-1]"
   ]
  },
  {
   "cell_type": "code",
   "execution_count": 17,
   "metadata": {
    "collapsed": false,
    "deletable": true,
    "editable": true
   },
   "outputs": [
    {
     "name": "stdout",
     "output_type": "stream",
     "text": [
      "/Users/jvankerschaver/.julia/packages/PackageCompiler/jBqfm/juliac.jl\n"
     ]
    }
   ],
   "source": [
    "JULIAC_PATH = find_juliac(JULIA)\n",
    "\n",
    "print(JULIAC_PATH)"
   ]
  },
  {
   "cell_type": "code",
   "execution_count": 18,
   "metadata": {
    "collapsed": true,
    "deletable": true,
    "editable": true
   },
   "outputs": [],
   "source": [
    "julia_snippet = \"\"\"\n",
    "Base.@ccallable function nbmin(buffer::Ptr{Cdouble},\n",
    "                               filter_size::Int,\n",
    "                               return_value::Ptr{Cdouble},\n",
    "                               user_data::Ptr{Cvoid})::Cint\n",
    "\n",
    "    minval = Base.Inf\n",
    "    for i = 1:filter_size\n",
    "        value = unsafe_load(buffer, i)\n",
    "        if value < minval\n",
    "            minval = value\n",
    "        end\n",
    "    end\n",
    "\n",
    "    unsafe_store!(return_value, 1, minval)\n",
    "        \n",
    "    return 1  # success\n",
    "end\n",
    "\n",
    "\"\"\""
   ]
  },
  {
   "cell_type": "code",
   "execution_count": 25,
   "metadata": {
    "collapsed": true,
    "deletable": true,
    "editable": true
   },
   "outputs": [],
   "source": [
    "julia_snippet = \"\"\"\n",
    "Base.@ccallable function nbmin(buffer::Ptr{Cdouble},\n",
    "                               filter_size::Int,\n",
    "                               return_value::Ptr{Cdouble},\n",
    "                               user_data::Ptr{Cvoid})::Cint\n",
    "\n",
    "\n",
    "    value = unsafe_load(buffer, 1)\n",
    "    unsafe_store!(return_value, 1, value)\n",
    "        \n",
    "    return 1  # success\n",
    "end\n",
    "\n",
    "\"\"\""
   ]
  },
  {
   "cell_type": "code",
   "execution_count": 26,
   "metadata": {
    "collapsed": true,
    "deletable": true,
    "editable": true
   },
   "outputs": [],
   "source": [
    "\n",
    "\n",
    "import os\n",
    "\n",
    "def invoke_juliac(fname, builddir=None):\n",
    "    cmd = [JULIA, JULIAC_PATH, '-vas', fname]\n",
    "    if builddir:\n",
    "        cmd += ['-d', builddir]\n",
    "    subprocess.check_call(cmd)"
   ]
  },
  {
   "cell_type": "code",
   "execution_count": 27,
   "metadata": {
    "collapsed": false,
    "deletable": true,
    "editable": true
   },
   "outputs": [],
   "source": [
    "# invoke_juliac(\"/Users/jvankerschaver/tmp/xyz.jl\")"
   ]
  },
  {
   "cell_type": "code",
   "execution_count": 28,
   "metadata": {
    "collapsed": false,
    "deletable": true,
    "editable": true
   },
   "outputs": [],
   "source": [
    "import uuid\n",
    "\n",
    "def generate_temp_folder():\n",
    "    fname = \"juliac-{}\".format(uuid.uuid4().hex)\n",
    "    os.makedirs(fname)\n",
    "    return fname\n",
    "\n",
    "def compile_snippet(code):\n",
    "    builddir = generate_temp_folder()\n",
    "    \n",
    "    code_fname = os.path.join(builddir, \"code.jl\")\n",
    "    with open(code_fname, \"w\") as fp:\n",
    "        fp.write(code)\n",
    "        \n",
    "    invoke_juliac(code_fname, builddir)\n",
    "    lib_fname = os.path.abspath(os.path.join(builddir, \"code.dylib\"))\n",
    "    return lib_fname"
   ]
  },
  {
   "cell_type": "code",
   "execution_count": 29,
   "metadata": {
    "collapsed": false,
    "deletable": true,
    "editable": true
   },
   "outputs": [],
   "source": [
    "image = compile_snippet(julia_snippet)"
   ]
  },
  {
   "cell_type": "code",
   "execution_count": 30,
   "metadata": {
    "collapsed": false,
    "deletable": true,
    "editable": true
   },
   "outputs": [
    {
     "data": {
      "text/plain": [
       "'/Users/jvankerschaver/tmp/juliac-e767934a23dd4df8bb233f1a588aa642/code.dylib'"
      ]
     },
     "execution_count": 30,
     "metadata": {},
     "output_type": "execute_result"
    }
   ],
   "source": [
    "image"
   ]
  },
  {
   "cell_type": "code",
   "execution_count": 2,
   "metadata": {
    "collapsed": true,
    "deletable": true,
    "editable": true
   },
   "outputs": [],
   "source": [
    "import ctypes"
   ]
  },
  {
   "cell_type": "code",
   "execution_count": 4,
   "metadata": {
    "collapsed": true,
    "deletable": true,
    "editable": true
   },
   "outputs": [],
   "source": [
    "image = '/Users/jvankerschaver/tmp/juliac-b363fb048d5a4def953195da1bd89e03/code.dylib'"
   ]
  },
  {
   "cell_type": "code",
   "execution_count": 5,
   "metadata": {
    "collapsed": false,
    "deletable": true,
    "editable": true
   },
   "outputs": [
    {
     "data": {
      "text/plain": [
       "44131840"
      ]
     },
     "execution_count": 5,
     "metadata": {},
     "output_type": "execute_result"
    }
   ],
   "source": [
    "julia_dll = ctypes.CDLL(image, ctypes.RTLD_GLOBAL)\n",
    "\n",
    "try:\n",
    "    jl_init_with_image = julia_dll.jl_init_with_image\n",
    "except AttributeError:\n",
    "    jl_init_with_image = julia_dll.jl_init_with_image__threading\n",
    "    \n",
    "jl_init_with_image.argtypes = [ctypes.c_char_p, ctypes.c_char_p]\n",
    "\n",
    "jl_init_with_image(None, image.encode(\"utf-8\"))"
   ]
  },
  {
   "cell_type": "code",
   "execution_count": 6,
   "metadata": {
    "collapsed": true,
    "deletable": true,
    "editable": true
   },
   "outputs": [],
   "source": [
    "py_buffer = [1.0, 0.3, 2.5]\n",
    "buffer = (ctypes.c_double * len(py_buffer))(*py_buffer)\n",
    "\n",
    "filter_size = len(py_buffer)\n",
    "\n",
    "py_result = [0]\n",
    "result = (ctypes.c_double * len(py_result))(*py_result)"
   ]
  },
  {
   "cell_type": "code",
   "execution_count": 8,
   "metadata": {
    "collapsed": false,
    "deletable": true,
    "editable": true
   },
   "outputs": [
    {
     "data": {
      "text/plain": [
       "<__main__.c_double_Array_3 at 0x1080a0048>"
      ]
     },
     "execution_count": 8,
     "metadata": {},
     "output_type": "execute_result"
    }
   ],
   "source": [
    "buffer"
   ]
  },
  {
   "cell_type": "code",
   "execution_count": 7,
   "metadata": {
    "collapsed": true,
    "deletable": true,
    "editable": true
   },
   "outputs": [],
   "source": [
    "# Call directly\n",
    "julia_dll.nbmin.res_type = ctypes.c_int\n",
    "julia_dll.nbmin.argtypes = (\n",
    "    ctypes.POINTER(ctypes.c_double),\n",
    "    ctypes.c_int,\n",
    "    ctypes.POINTER(ctypes.c_double),\n",
    "    ctypes.c_void_p\n",
    ")"
   ]
  },
  {
   "cell_type": "code",
   "execution_count": 9,
   "metadata": {
    "collapsed": false,
    "deletable": true,
    "editable": true
   },
   "outputs": [
    {
     "ename": "ArgumentError",
     "evalue": "argument 1: <class 'TypeError'>: expected LP_c_double instance instead of pointer to c_double_Array_3",
     "output_type": "error",
     "traceback": [
      "\u001b[0;31m---------------------------------------------------------------------------\u001b[0m",
      "\u001b[0;31mArgumentError\u001b[0m                             Traceback (most recent call last)",
      "\u001b[0;32m<ipython-input-9-1b243be061af>\u001b[0m in \u001b[0;36m<module>\u001b[0;34m()\u001b[0m\n\u001b[0;32m----> 1\u001b[0;31m \u001b[0mjulia_dll\u001b[0m\u001b[0;34m.\u001b[0m\u001b[0mnbmin\u001b[0m\u001b[0;34m(\u001b[0m\u001b[0mctypes\u001b[0m\u001b[0;34m.\u001b[0m\u001b[0mbyref\u001b[0m\u001b[0;34m(\u001b[0m\u001b[0mbuffer\u001b[0m\u001b[0;34m)\u001b[0m\u001b[0;34m,\u001b[0m \u001b[0mfilter_size\u001b[0m\u001b[0;34m,\u001b[0m \u001b[0mctypes\u001b[0m\u001b[0;34m.\u001b[0m\u001b[0mbyref\u001b[0m\u001b[0;34m(\u001b[0m\u001b[0mresult\u001b[0m\u001b[0;34m)\u001b[0m\u001b[0;34m,\u001b[0m \u001b[0;32mNone\u001b[0m\u001b[0;34m)\u001b[0m\u001b[0;34m\u001b[0m\u001b[0m\n\u001b[0m",
      "\u001b[0;31mArgumentError\u001b[0m: argument 1: <class 'TypeError'>: expected LP_c_double instance instead of pointer to c_double_Array_3"
     ]
    }
   ],
   "source": [
    "julia_dll.nbmin(ctypes.byref(buffer), filter_size, ctypes.byref(result), None)"
   ]
  },
  {
   "cell_type": "code",
   "execution_count": null,
   "metadata": {
    "collapsed": true,
    "deletable": true,
    "editable": true
   },
   "outputs": [],
   "source": []
  }
 ],
 "metadata": {
  "kernelspec": {
   "display_name": "Python 3",
   "language": "python",
   "name": "python3"
  },
  "language_info": {
   "codemirror_mode": {
    "name": "ipython",
    "version": 3
   },
   "file_extension": ".py",
   "mimetype": "text/x-python",
   "name": "python",
   "nbconvert_exporter": "python",
   "pygments_lexer": "ipython3",
   "version": "3.6.0"
  }
 },
 "nbformat": 4,
 "nbformat_minor": 2
}
