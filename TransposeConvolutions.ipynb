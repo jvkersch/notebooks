{
 "cells": [
  {
   "cell_type": "markdown",
   "id": "6ebcd26a",
   "metadata": {},
   "source": [
    "## The 1D case"
   ]
  },
  {
   "cell_type": "code",
   "execution_count": 1,
   "id": "270e9cd6",
   "metadata": {},
   "outputs": [],
   "source": [
    "import torch\n",
    "import torch.nn.functional as F"
   ]
  },
  {
   "cell_type": "code",
   "execution_count": 2,
   "id": "32e5563c",
   "metadata": {},
   "outputs": [],
   "source": [
    "x = torch.arange(10.0, 15.0).reshape(1, 1, 5)\n",
    "w = torch.Tensor([[[1.0, 2.0, -1.0]]])"
   ]
  },
  {
   "cell_type": "code",
   "execution_count": 3,
   "id": "d052a768",
   "metadata": {},
   "outputs": [
    {
     "data": {
      "text/plain": [
       "torch.Size([1, 1, 5])"
      ]
     },
     "execution_count": 3,
     "metadata": {},
     "output_type": "execute_result"
    }
   ],
   "source": [
    "x.shape"
   ]
  },
  {
   "cell_type": "code",
   "execution_count": 4,
   "id": "04fc8469",
   "metadata": {},
   "outputs": [
    {
     "data": {
      "text/plain": [
       "torch.Size([1, 1, 3])"
      ]
     },
     "execution_count": 4,
     "metadata": {},
     "output_type": "execute_result"
    }
   ],
   "source": [
    "w.shape"
   ]
  },
  {
   "cell_type": "code",
   "execution_count": 5,
   "id": "cec13b4a",
   "metadata": {},
   "outputs": [
    {
     "data": {
      "text/plain": [
       "tensor([[[ 9., 20., 22., 24., 41.]]])"
      ]
     },
     "execution_count": 5,
     "metadata": {},
     "output_type": "execute_result"
    }
   ],
   "source": [
    "F.conv1d(x, w, padding=1)"
   ]
  },
  {
   "cell_type": "code",
   "execution_count": 6,
   "id": "51a6082b",
   "metadata": {},
   "outputs": [],
   "source": [
    "W = torch.zeros((5, 5))\n",
    "W[range(5), range(5)] = 2.0\n",
    "W[range(4), range(1, 5)] = -1.0\n",
    "W[range(1, 5), range(4)] = 1.0"
   ]
  },
  {
   "cell_type": "code",
   "execution_count": 7,
   "id": "de9bc758",
   "metadata": {},
   "outputs": [
    {
     "data": {
      "text/plain": [
       "tensor([[ 2., -1.,  0.,  0.,  0.],\n",
       "        [ 1.,  2., -1.,  0.,  0.],\n",
       "        [ 0.,  1.,  2., -1.,  0.],\n",
       "        [ 0.,  0.,  1.,  2., -1.],\n",
       "        [ 0.,  0.,  0.,  1.,  2.]])"
      ]
     },
     "execution_count": 7,
     "metadata": {},
     "output_type": "execute_result"
    }
   ],
   "source": [
    "W"
   ]
  },
  {
   "cell_type": "code",
   "execution_count": 8,
   "id": "e685ee0e",
   "metadata": {},
   "outputs": [
    {
     "data": {
      "text/plain": [
       "tensor([ 9., 20., 22., 24., 41.])"
      ]
     },
     "execution_count": 8,
     "metadata": {},
     "output_type": "execute_result"
    }
   ],
   "source": [
    "W @ x.squeeze()"
   ]
  },
  {
   "cell_type": "code",
   "execution_count": 9,
   "id": "66d4a913",
   "metadata": {},
   "outputs": [],
   "source": [
    "delta_x = torch.zeros_like(x)\n",
    "delta_x[0, 0, 2] = 1.0\n",
    "\n",
    "eps = 1e-2"
   ]
  },
  {
   "cell_type": "code",
   "execution_count": 10,
   "id": "3907ebc5",
   "metadata": {},
   "outputs": [
    {
     "data": {
      "text/plain": [
       "tensor([[[ 0.0000, -1.0000,  2.0000,  1.0000,  0.0000]]])"
      ]
     },
     "execution_count": 10,
     "metadata": {},
     "output_type": "execute_result"
    }
   ],
   "source": [
    "(F.conv1d(x + eps*delta_x, w, padding=1) - F.conv1d(x - eps*delta_x, w, padding=1))/2/eps"
   ]
  },
  {
   "cell_type": "code",
   "execution_count": 11,
   "id": "924d5eec",
   "metadata": {},
   "outputs": [
    {
     "data": {
      "text/plain": [
       "tensor([ 0., -1.,  2.,  1.,  0.])"
      ]
     },
     "execution_count": 11,
     "metadata": {},
     "output_type": "execute_result"
    }
   ],
   "source": [
    "W @ delta_x.squeeze()"
   ]
  },
  {
   "cell_type": "code",
   "execution_count": 12,
   "id": "bc22b9c2",
   "metadata": {},
   "outputs": [
    {
     "data": {
      "text/plain": [
       "tensor([[[ 0., -1.,  2.,  1.,  0.]]])"
      ]
     },
     "execution_count": 12,
     "metadata": {},
     "output_type": "execute_result"
    }
   ],
   "source": [
    "F.conv1d(delta_x, w, padding=1)"
   ]
  },
  {
   "cell_type": "code",
   "execution_count": 13,
   "id": "48c4f37c",
   "metadata": {},
   "outputs": [
    {
     "data": {
      "text/plain": [
       "tensor([[[ 0., -1.,  2.,  1.,  0.]]])"
      ]
     },
     "execution_count": 13,
     "metadata": {},
     "output_type": "execute_result"
    }
   ],
   "source": [
    "F.conv_transpose1d(delta_x, w.flip(2), padding=1)"
   ]
  },
  {
   "cell_type": "markdown",
   "id": "ffdfd485",
   "metadata": {},
   "source": [
    "# The 2D case"
   ]
  },
  {
   "cell_type": "code",
   "execution_count": 26,
   "id": "d902299d",
   "metadata": {},
   "outputs": [],
   "source": [
    "W = torch.arange(9.0).reshape(1, 1, 3, 3)\n",
    "x = 10 * torch.arange(25.0).reshape(1, 5, 5)\n",
    "\n",
    "delta_x = torch.zeros_like(x)\n",
    "delta_x[0, 2, 2] = 1.0\n",
    "\n",
    "eps = 1e-3"
   ]
  },
  {
   "cell_type": "code",
   "execution_count": 30,
   "id": "55a92672",
   "metadata": {},
   "outputs": [
    {
     "data": {
      "text/plain": [
       "tensor([[[7.8125, 7.0801, 6.1035],\n",
       "         [4.8828, 3.9062, 2.9297],\n",
       "         [1.9531, 0.9766, 0.0000]]])"
      ]
     },
     "execution_count": 30,
     "metadata": {},
     "output_type": "execute_result"
    }
   ],
   "source": [
    "(F.conv2d(x + eps*delta_x, W, padding=0) - F.conv2d(x - eps*delta_x, W, padding=0))/2/eps"
   ]
  },
  {
   "cell_type": "code",
   "execution_count": 31,
   "id": "cb8cdb6a",
   "metadata": {},
   "outputs": [
    {
     "data": {
      "text/plain": [
       "tensor([[[0., 0., 0., 0., 0., 0., 0.],\n",
       "         [0., 0., 0., 0., 0., 0., 0.],\n",
       "         [0., 0., 8., 7., 6., 0., 0.],\n",
       "         [0., 0., 5., 4., 3., 0., 0.],\n",
       "         [0., 0., 2., 1., 0., 0., 0.],\n",
       "         [0., 0., 0., 0., 0., 0., 0.],\n",
       "         [0., 0., 0., 0., 0., 0., 0.]]])"
      ]
     },
     "execution_count": 31,
     "metadata": {},
     "output_type": "execute_result"
    }
   ],
   "source": [
    "F.conv_transpose2d(delta_x, W.flip(2).flip(3), padding=0)"
   ]
  },
  {
   "cell_type": "code",
   "execution_count": 32,
   "id": "a95fd65b",
   "metadata": {},
   "outputs": [
    {
     "data": {
      "text/plain": [
       "tensor([[[8., 7., 6.],\n",
       "         [5., 4., 3.],\n",
       "         [2., 1., 0.]]])"
      ]
     },
     "execution_count": 32,
     "metadata": {},
     "output_type": "execute_result"
    }
   ],
   "source": [
    "F.conv2d(delta_x, W, padding=0)"
   ]
  },
  {
   "cell_type": "code",
   "execution_count": null,
   "id": "46b7b196",
   "metadata": {},
   "outputs": [],
   "source": []
  }
 ],
 "metadata": {
  "kernelspec": {
   "display_name": "Python 3 (ipykernel)",
   "language": "python",
   "name": "python3"
  },
  "language_info": {
   "codemirror_mode": {
    "name": "ipython",
    "version": 3
   },
   "file_extension": ".py",
   "mimetype": "text/x-python",
   "name": "python",
   "nbconvert_exporter": "python",
   "pygments_lexer": "ipython3",
   "version": "3.9.13"
  }
 },
 "nbformat": 4,
 "nbformat_minor": 5
}
