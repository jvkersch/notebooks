{
 "cells": [
  {
   "cell_type": "markdown",
   "metadata": {
    "deletable": true,
    "editable": true
   },
   "source": [
    "The bias-variance tradeoff\n",
    "---\n",
    "\n",
    "In this notebook we explore the tradeoff between models with _high bias_ (simple models that do not fit the training data very well) and models with _high variance_ (complex models, often with many degrees of freedom, that fit the training data well but do not generalize well to new, unseen data)."
   ]
  },
  {
   "cell_type": "code",
   "execution_count": 1,
   "metadata": {
    "collapsed": true,
    "deletable": true,
    "editable": true
   },
   "outputs": [],
   "source": [
    "%matplotlib inline"
   ]
  },
  {
   "cell_type": "code",
   "execution_count": 2,
   "metadata": {
    "collapsed": true,
    "deletable": true,
    "editable": true
   },
   "outputs": [],
   "source": [
    "import numpy as np\n",
    "import matplotlib.pyplot as plt\n",
    "\n",
    "from sklearn.model_selection import train_test_split"
   ]
  },
  {
   "cell_type": "markdown",
   "metadata": {
    "deletable": true,
    "editable": true
   },
   "source": [
    "We begin by generating some sample data to work on. We generate 30 samples that are irregularly spaced in the $x$-direction, and for which the $y$-component is the cosine plus some Gaussian noise. These samples are split into training and test datasets, and the samples are plotted."
   ]
  },
  {
   "cell_type": "code",
   "execution_count": 3,
   "metadata": {
    "collapsed": false,
    "deletable": true,
    "editable": true
   },
   "outputs": [],
   "source": [
    "def true_fun(X):\n",
    "    return np.cos(1.5 * np.pi * X)\n",
    "\n",
    "np.random.seed(0)\n",
    "\n",
    "n_samples = 30\n",
    "\n",
    "x = np.sort(np.random.rand(n_samples))\n",
    "y = true_fun(x) + np.random.randn(n_samples) * 0.1\n",
    "\n",
    "X = x.reshape(-1, 1)"
   ]
  },
  {
   "cell_type": "code",
   "execution_count": 4,
   "metadata": {
    "collapsed": true,
    "deletable": true,
    "editable": true
   },
   "outputs": [],
   "source": [
    "X_train, X_test, y_train, y_test = train_test_split(X, y)"
   ]
  },
  {
   "cell_type": "code",
   "execution_count": 5,
   "metadata": {
    "collapsed": false,
    "deletable": true,
    "editable": true
   },
   "outputs": [
    {
     "data": {
      "image/png": "[encoded data removed]",
      "text/plain": [
       "<Figure size 432x288 with 1 Axes>"
      ]
     },
     "metadata": {
      "needs_background": "light"
     },
     "output_type": "display_data"
    }
   ],
   "source": [
    "plt.plot(X_train, y_train, 'ko', label='train')\n",
    "plt.plot(X_test, y_test, 'ro', label='test')\n",
    "plt.legend();"
   ]
  },
  {
   "cell_type": "markdown",
   "metadata": {
    "deletable": true,
    "editable": true
   },
   "source": [
    "We now try to fit a polynomial model to the training data. The main parameter for this model is the _degree_ of the polynomial, which determines (roughly speaking) how well the polynomial is able to \"wiggle about\" to fit the data. We start off with a degree-3 polynomial, which seems to do a reasonable job of fitting the data and reproducing the underlying model."
   ]
  },
  {
   "cell_type": "code",
   "execution_count": 6,
   "metadata": {
    "collapsed": true,
    "deletable": true,
    "editable": true
   },
   "outputs": [],
   "source": [
    "from sklearn.preprocessing import PolynomialFeatures\n",
    "from sklearn.linear_model import LinearRegression\n",
    "from sklearn.pipeline import Pipeline"
   ]
  },
  {
   "cell_type": "code",
   "execution_count": 7,
   "metadata": {
    "collapsed": true,
    "deletable": true,
    "editable": true
   },
   "outputs": [],
   "source": [
    "model = Pipeline([('poly', PolynomialFeatures(degree=3)), \n",
    "                  ('lm', LinearRegression())])"
   ]
  },
  {
   "cell_type": "code",
   "execution_count": 8,
   "metadata": {
    "collapsed": false,
    "deletable": true,
    "editable": true
   },
   "outputs": [
    {
     "data": {
      "text/plain": [
       "Pipeline(memory=None,\n",
       "     steps=[('poly', PolynomialFeatures(degree=3, include_bias=True, interaction_only=False)), ('lm', LinearRegression(copy_X=True, fit_intercept=True, n_jobs=None,\n",
       "         normalize=False))])"
      ]
     },
     "execution_count": 8,
     "metadata": {},
     "output_type": "execute_result"
    }
   ],
   "source": [
    "model.fit(X_train, y_train)"
   ]
  },
  {
   "cell_type": "code",
   "execution_count": 9,
   "metadata": {
    "collapsed": false,
    "deletable": true,
    "editable": true
   },
   "outputs": [
    {
     "data": {
      "image/png": "[encoded data removed]",
      "text/plain": [
       "<Figure size 432x288 with 1 Axes>"
      ]
     },
     "metadata": {
      "needs_background": "light"
     },
     "output_type": "display_data"
    }
   ],
   "source": [
    "plt.plot(X_train, y_train, 'ko', label='train')\n",
    "plt.plot(X_test, y_test, 'ro', label='test')\n",
    "\n",
    "plt.plot(X, model.predict(X), lw=2, label='fitted')\n",
    "\n",
    "plt.legend();"
   ]
  },
  {
   "cell_type": "markdown",
   "metadata": {
    "deletable": true,
    "editable": true
   },
   "source": [
    "To quickly visualize the effect of varying the degree of the polynomial, we put together an interactive IPython widget. Note: to use this you may have to install the `ipywidgets` library."
   ]
  },
  {
   "cell_type": "code",
   "execution_count": 10,
   "metadata": {
    "collapsed": false,
    "deletable": true,
    "editable": true,
    "scrolled": false
   },
   "outputs": [
    {
     "data": {
      "application/vnd.jupyter.widget-view+json": {
       "model_id": "49432febd9f940b89a61ac20fb79e7ba"
      }
     },
     "metadata": {},
     "output_type": "display_data"
    }
   ],
   "source": [
    "from ipywidgets import interact, IntSlider\n",
    "\n",
    "def make_and_train(deg):\n",
    "    model = Pipeline([('poly', PolynomialFeatures(degree=deg, include_bias=False)), \n",
    "                      ('lm', LinearRegression())])\n",
    "    model.fit(X_train, y_train)\n",
    "    return model\n",
    "\n",
    "def make_plot_for_degree(deg):\n",
    "    model = make_and_train(deg)\n",
    "    \n",
    "    plt.plot(X_train, y_train, 'ko')\n",
    "    plt.plot(X_test, y_test, 'ro')\n",
    "\n",
    "    plt.plot(X, model.predict(X), lw=2)\n",
    "    plt.show()\n",
    "    \n",
    "interact(make_plot_for_degree, deg=IntSlider(min=1, max=20, step=1, value=3));"
   ]
  },
  {
   "cell_type": "markdown",
   "metadata": {
    "deletable": true,
    "editable": true
   },
   "source": [
    "By moving around the slider and observing the fit on training and test data, it appears that there is a sweet spot for which the model fits the data reasonably well. Another way to visualize this is to plot the error on both training and test data: while the error on training data keeps decreasing with increasing degree (after all, we have more and more degrees of freedom), the error on the test data stabilises around degree 4-5, and then increases again."
   ]
  },
  {
   "cell_type": "code",
   "execution_count": 11,
   "metadata": {
    "collapsed": true,
    "deletable": true,
    "editable": true
   },
   "outputs": [],
   "source": [
    "degrees = list(range(2, 12))\n",
    "train_errors = []\n",
    "test_errors = []\n",
    "for deg in degrees:\n",
    "    model = make_and_train(deg)\n",
    "    train_err = 1 - model.score(X_train, y_train)\n",
    "    test_err = 1 - model.score(X_test, y_test)\n",
    "    train_errors.append(train_err)\n",
    "    test_errors.append(test_err)"
   ]
  },
  {
   "cell_type": "code",
   "execution_count": 12,
   "metadata": {
    "collapsed": false,
    "deletable": true,
    "editable": true
   },
   "outputs": [
    {
     "data": {
      "image/png": "[encoded data removed]",
      "text/plain": [
       "<Figure size 432x288 with 1 Axes>"
      ]
     },
     "metadata": {
      "needs_background": "light"
     },
     "output_type": "display_data"
    }
   ],
   "source": [
    "plt.plot(degrees, train_errors, 'b-o', label=\"Train error\")\n",
    "plt.plot(degrees, test_errors, 'r-o', label=\"Test error\")\n",
    "\n",
    "plt.xlabel(\"degree\")\n",
    "plt.ylabel(\"1 - R2\")\n",
    "plt.legend();"
   ]
  },
  {
   "cell_type": "code",
   "execution_count": null,
   "metadata": {
    "collapsed": true,
    "deletable": true,
    "editable": true
   },
   "outputs": [],
   "source": []
  }
 ],
 "metadata": {
  "kernelspec": {
   "display_name": "Python 3",
   "language": "python",
   "name": "python3"
  },
  "language_info": {
   "codemirror_mode": {
    "name": "ipython",
    "version": 3
   },
   "file_extension": ".py",
   "mimetype": "text/x-python",
   "name": "python",
   "nbconvert_exporter": "python",
   "pygments_lexer": "ipython3",
   "version": "3.6.0"
  }
 },
 "nbformat": 4,
 "nbformat_minor": 2
}
