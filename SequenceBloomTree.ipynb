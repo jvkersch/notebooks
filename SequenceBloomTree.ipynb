{
 "cells": [
  {
   "cell_type": "code",
   "execution_count": 1,
   "id": "94f1224d",
   "metadata": {},
   "outputs": [],
   "source": [
    "%matplotlib inline"
   ]
  },
  {
   "cell_type": "code",
   "execution_count": 2,
   "id": "03513ad0",
   "metadata": {},
   "outputs": [],
   "source": [
    "class BloomFilter:\n",
    "    \n",
    "    def __init__(self, m, k):\n",
    "        self._filter = [False]*m\n",
    "        self._hashes = [self._makehash(m, i) for i in range(k)]\n",
    "\n",
    "    def add(self, key):\n",
    "        for h in self._hashes:\n",
    "            self._filter[h(key)] = True        \n",
    "\n",
    "    @property\n",
    "    def fpr(self):\n",
    "        m = len(self._filter)\n",
    "        n = sum(self._filter)\n",
    "        k = len(self._hashes)\n",
    "        return (1 - (1-1/m)**(k*n))\n",
    "    \n",
    "    def __contains__(self, key):\n",
    "        return all(self._filter[h(key)] for h in self._hashes)\n",
    "    \n",
    "    def __str__(self):\n",
    "        line_length = 40\n",
    "        chars = \"\".join(\"🟩\" if el else \"⬜\" for el in self._filter)\n",
    "        lines = []\n",
    "        for i in range(0, len(chars), line_length):\n",
    "            lines.append(chars[i:i+line_length])\n",
    "        return \"\\n\".join(lines)\n",
    "    \n",
    "    def _makehash(self, m, i):\n",
    "        return lambda key: hash(f\"{key}-{i}\") % m"
   ]
  },
  {
   "cell_type": "code",
   "execution_count": 3,
   "id": "f9b91794",
   "metadata": {},
   "outputs": [],
   "source": [
    "bf = BloomFilter(160, 3)\n",
    "bf.add(\"foo\")"
   ]
  },
  {
   "cell_type": "code",
   "execution_count": 4,
   "id": "ce13ef19",
   "metadata": {},
   "outputs": [
    {
     "name": "stdout",
     "output_type": "stream",
     "text": [
      "⬜⬜⬜⬜⬜⬜⬜⬜⬜⬜⬜⬜⬜⬜⬜⬜⬜⬜⬜⬜⬜⬜⬜⬜⬜⬜⬜⬜⬜⬜⬜⬜⬜⬜⬜⬜⬜⬜⬜⬜\n",
      "⬜⬜⬜⬜⬜⬜⬜⬜⬜⬜⬜⬜⬜⬜⬜⬜⬜⬜⬜⬜⬜⬜⬜⬜⬜⬜⬜⬜⬜⬜⬜⬜⬜⬜⬜⬜⬜⬜⬜⬜\n",
      "⬜⬜⬜⬜⬜⬜⬜⬜⬜⬜⬜⬜⬜⬜⬜⬜⬜⬜⬜⬜⬜⬜⬜⬜⬜⬜⬜⬜⬜⬜⬜⬜⬜⬜⬜⬜⬜⬜⬜⬜\n",
      "⬜⬜⬜⬜⬜⬜⬜⬜⬜⬜⬜⬜⬜⬜⬜⬜⬜🟩🟩⬜⬜⬜⬜⬜⬜🟩⬜⬜⬜⬜⬜⬜⬜⬜⬜⬜⬜⬜⬜⬜\n"
     ]
    }
   ],
   "source": [
    "print(bf)"
   ]
  },
  {
   "cell_type": "code",
   "execution_count": 5,
   "id": "c369ba52",
   "metadata": {},
   "outputs": [
    {
     "data": {
      "text/plain": [
       "0.054864066748393836"
      ]
     },
     "execution_count": 5,
     "metadata": {},
     "output_type": "execute_result"
    }
   ],
   "source": [
    "bf.fpr"
   ]
  },
  {
   "cell_type": "code",
   "execution_count": 6,
   "id": "dfc46f72",
   "metadata": {},
   "outputs": [
    {
     "data": {
      "text/plain": [
       "True"
      ]
     },
     "execution_count": 6,
     "metadata": {},
     "output_type": "execute_result"
    }
   ],
   "source": [
    "\"foo\" in bf"
   ]
  },
  {
   "cell_type": "code",
   "execution_count": 7,
   "id": "9b9788de",
   "metadata": {},
   "outputs": [
    {
     "data": {
      "text/plain": [
       "False"
      ]
     },
     "execution_count": 7,
     "metadata": {},
     "output_type": "execute_result"
    }
   ],
   "source": [
    "\"bar\" in bf"
   ]
  },
  {
   "cell_type": "code",
   "execution_count": 8,
   "id": "85e70052",
   "metadata": {},
   "outputs": [],
   "source": [
    "bf.add(\"bar\")"
   ]
  },
  {
   "cell_type": "code",
   "execution_count": 9,
   "id": "2fef0031",
   "metadata": {},
   "outputs": [
    {
     "name": "stdout",
     "output_type": "stream",
     "text": [
      "⬜⬜⬜⬜⬜⬜⬜⬜⬜⬜⬜⬜⬜⬜⬜⬜⬜⬜⬜⬜⬜⬜⬜⬜⬜⬜⬜⬜⬜⬜⬜⬜⬜⬜⬜⬜⬜⬜⬜⬜\n",
      "⬜⬜⬜⬜⬜⬜⬜⬜⬜⬜⬜⬜⬜⬜⬜⬜⬜⬜⬜⬜⬜⬜⬜⬜⬜⬜⬜⬜⬜⬜⬜⬜⬜⬜⬜⬜⬜⬜⬜⬜\n",
      "⬜⬜⬜⬜⬜⬜⬜⬜⬜⬜⬜⬜⬜🟩⬜⬜⬜⬜⬜⬜⬜🟩⬜⬜⬜⬜⬜⬜⬜⬜⬜⬜⬜⬜⬜⬜⬜⬜⬜⬜\n",
      "⬜⬜⬜⬜⬜⬜⬜⬜🟩⬜⬜⬜⬜⬜⬜⬜⬜🟩🟩⬜⬜⬜⬜⬜⬜🟩⬜⬜⬜⬜⬜⬜⬜⬜⬜⬜⬜⬜⬜⬜\n"
     ]
    }
   ],
   "source": [
    "print(bf)"
   ]
  },
  {
   "cell_type": "code",
   "execution_count": 10,
   "id": "e673ea9e",
   "metadata": {},
   "outputs": [
    {
     "data": {
      "text/plain": [
       "0.10671806767661551"
      ]
     },
     "execution_count": 10,
     "metadata": {},
     "output_type": "execute_result"
    }
   ],
   "source": [
    "bf.fpr"
   ]
  },
  {
   "cell_type": "code",
   "execution_count": 11,
   "id": "cbb2703d",
   "metadata": {},
   "outputs": [
    {
     "data": {
      "text/plain": [
       "True"
      ]
     },
     "execution_count": 11,
     "metadata": {},
     "output_type": "execute_result"
    }
   ],
   "source": [
    "\"bar\" in bf"
   ]
  },
  {
   "cell_type": "code",
   "execution_count": 12,
   "id": "e91b1270",
   "metadata": {},
   "outputs": [
    {
     "name": "stdout",
     "output_type": "stream",
     "text": [
      "⬜⬜⬜⬜⬜⬜⬜⬜⬜⬜⬜⬜⬜⬜⬜⬜⬜⬜⬜⬜⬜⬜⬜⬜⬜⬜⬜⬜⬜⬜⬜⬜⬜⬜⬜⬜⬜⬜⬜⬜\n",
      "⬜⬜⬜⬜⬜⬜⬜⬜⬜⬜⬜⬜⬜⬜⬜⬜⬜⬜⬜⬜⬜⬜⬜⬜⬜⬜⬜⬜⬜⬜⬜⬜⬜⬜⬜⬜⬜⬜⬜⬜\n",
      "⬜⬜⬜⬜⬜⬜⬜⬜⬜⬜⬜⬜⬜🟩⬜⬜⬜⬜⬜⬜⬜🟩⬜⬜⬜⬜⬜⬜⬜⬜🟩⬜⬜⬜⬜⬜⬜⬜⬜⬜\n",
      "⬜⬜⬜⬜⬜⬜⬜🟩🟩⬜⬜⬜⬜⬜⬜⬜⬜🟩🟩⬜🟩⬜⬜⬜⬜🟩⬜⬜⬜⬜⬜⬜⬜⬜⬜⬜⬜⬜⬜⬜\n"
     ]
    }
   ],
   "source": [
    "bf.add(\"baz\")\n",
    "print(bf)"
   ]
  },
  {
   "cell_type": "code",
   "execution_count": 13,
   "id": "03b3a50b",
   "metadata": {},
   "outputs": [
    {
     "data": {
      "text/plain": [
       "0.15572714723673997"
      ]
     },
     "execution_count": 13,
     "metadata": {},
     "output_type": "execute_result"
    }
   ],
   "source": [
    "bf.fpr"
   ]
  },
  {
   "cell_type": "code",
   "execution_count": 14,
   "id": "12bfe252",
   "metadata": {},
   "outputs": [
    {
     "name": "stdout",
     "output_type": "stream",
     "text": [
      "⬜⬜⬜⬜⬜⬜⬜⬜⬜⬜⬜⬜⬜⬜⬜⬜⬜⬜⬜⬜⬜⬜⬜⬜⬜⬜⬜⬜⬜⬜⬜⬜⬜⬜⬜⬜⬜⬜⬜⬜\n",
      "⬜⬜⬜⬜⬜⬜🟩⬜⬜⬜⬜⬜⬜⬜⬜⬜⬜⬜⬜⬜⬜⬜⬜⬜⬜⬜⬜⬜⬜⬜⬜⬜⬜⬜⬜⬜⬜⬜⬜⬜\n",
      "⬜⬜⬜⬜⬜⬜⬜⬜⬜⬜⬜⬜⬜🟩⬜⬜⬜🟩⬜⬜⬜🟩⬜⬜⬜⬜⬜⬜⬜⬜🟩⬜⬜⬜⬜⬜⬜⬜⬜⬜\n",
      "⬜⬜⬜⬜⬜⬜⬜🟩🟩⬜⬜⬜⬜⬜⬜⬜⬜🟩🟩⬜🟩⬜⬜⬜🟩🟩⬜⬜⬜⬜⬜⬜⬜⬜⬜⬜⬜⬜⬜⬜\n"
     ]
    }
   ],
   "source": [
    "bf.add(\"baa\")\n",
    "print(bf)"
   ]
  },
  {
   "cell_type": "code",
   "execution_count": 15,
   "id": "7e6e21e4",
   "metadata": {},
   "outputs": [
    {
     "data": {
      "text/plain": [
       "0.20204738938460032"
      ]
     },
     "execution_count": 15,
     "metadata": {},
     "output_type": "execute_result"
    }
   ],
   "source": [
    "bf.fpr"
   ]
  },
  {
   "cell_type": "code",
   "execution_count": 16,
   "id": "143a2cdc",
   "metadata": {},
   "outputs": [
    {
     "name": "stdout",
     "output_type": "stream",
     "text": [
      "['aax', 'ehv', 'gts', 'iig', 'kak', 'maq', 'pxu', 'she', 'sym', 'uuq', 'yhk']\n"
     ]
    }
   ],
   "source": [
    "import string\n",
    "from itertools import product\n",
    "\n",
    "collisions = []\n",
    "for word in product(string.ascii_lowercase, repeat=3):\n",
    "    word = \"\".join(word)\n",
    "    if word in bf and word not in [\"foo\", \"bar\", \"baz\", \"baa\"]:\n",
    "        collisions.append(word)\n",
    "\n",
    "print(collisions)"
   ]
  },
  {
   "cell_type": "code",
   "execution_count": 17,
   "id": "f164a1bb",
   "metadata": {},
   "outputs": [],
   "source": [
    "def hamming(bf1, bf2):\n",
    "    if len(bf1._filter) != len(bf2._filter):\n",
    "        raise ValueError(\"Bloom filters must have equal length\")\n",
    "    return sum(x != y for (x, y) in zip(bf1._filter, bf2._filter))"
   ]
  },
  {
   "cell_type": "code",
   "execution_count": 18,
   "id": "412bf456",
   "metadata": {},
   "outputs": [],
   "source": [
    "def union(bf1, bf2):\n",
    "    if len(bf1._filter) != len(bf2._filter):\n",
    "        raise ValueError(\"Bloom filters must have equal length\")\n",
    "    \n",
    "    bf = BloomFilter(len(bf1._filter), len(bf1._hashes))\n",
    "    bf._filter = [x or y for (x, y) in zip(bf1._filter, bf2._filter)]\n",
    "    return bf"
   ]
  },
  {
   "cell_type": "code",
   "execution_count": 19,
   "id": "aa2b3b6b",
   "metadata": {},
   "outputs": [
    {
     "name": "stdout",
     "output_type": "stream",
     "text": [
      "⬜⬜⬜⬜⬜🟩⬜⬜⬜⬜⬜⬜⬜⬜⬜⬜⬜🟩🟩⬜\n",
      "⬜🟩⬜⬜⬜⬜⬜⬜🟩⬜⬜⬜⬜🟩⬜⬜⬜⬜⬜⬜\n",
      "⬜🟩⬜⬜⬜🟩⬜⬜🟩⬜⬜⬜⬜🟩⬜⬜⬜🟩🟩⬜\n"
     ]
    }
   ],
   "source": [
    "bf1 = BloomFilter(20, 3)\n",
    "bf2 = BloomFilter(20, 3)\n",
    "bf1.add(\"foo\")\n",
    "bf2.add(\"bar\")\n",
    "\n",
    "print(bf1)\n",
    "print(bf2)\n",
    "print(union(bf1, bf2))"
   ]
  },
  {
   "cell_type": "code",
   "execution_count": 20,
   "id": "5a82a855",
   "metadata": {},
   "outputs": [],
   "source": [
    "class SBT:\n",
    "    def __init__(self, name, value):\n",
    "        self.name = name\n",
    "        self.value = value\n",
    "        self.left = None\n",
    "        self.right = None\n",
    "    \n",
    "    @property\n",
    "    def value(self):\n",
    "        v = getattr(self, \"_value\")\n",
    "        if v is None:\n",
    "            if self.left and self.right:\n",
    "                v = union(self.left.value, self.right.value)\n",
    "            elif self.left:\n",
    "                v = self.right.value\n",
    "            else:\n",
    "                v = self.left.value\n",
    "            self._value = v\n",
    "        return self._value\n",
    "                \n",
    "    @value.setter\n",
    "    def value(self, v):\n",
    "        self._value = v\n",
    "    \n",
    "    @property\n",
    "    def is_leaf(self):\n",
    "        return self.left is None and self.right is None\n",
    "        \n",
    "    def insert(self, name, bf):\n",
    "        if self.is_leaf:\n",
    "            self.left = SBT(self.name, self.value)\n",
    "            self.right = SBT(name, bf)\n",
    "            self.value = None\n",
    "            self.name = \"Union\"\n",
    "        else:\n",
    "            if hamming(bf, self.left.value) <= hamming(bf, self.right.value):\n",
    "                self.left.insert(name, bf)\n",
    "            else:\n",
    "                self.right.insert(name, bf)"
   ]
  },
  {
   "cell_type": "code",
   "execution_count": 21,
   "id": "52f7af0c",
   "metadata": {},
   "outputs": [],
   "source": [
    "def make_bloom(*words):\n",
    "    bf = BloomFilter(30, 3)\n",
    "    for word in words:\n",
    "        bf.add(word)\n",
    "    return bf"
   ]
  },
  {
   "cell_type": "code",
   "execution_count": 22,
   "id": "f7f15515",
   "metadata": {},
   "outputs": [],
   "source": [
    "bf1 = make_bloom(\"abc\", \"def\", \"ghi\")\n",
    "bf2 = make_bloom(\"xyz\", \"uv\")\n",
    "bf3 = make_bloom(\"abc\", \"def\", \"xyz\")\n",
    "bf4 = make_bloom(\"abc\", \"def\", \"ghi\", \"jkl\")"
   ]
  },
  {
   "cell_type": "code",
   "execution_count": 23,
   "id": "976e7dc3",
   "metadata": {},
   "outputs": [
    {
     "name": "stdout",
     "output_type": "stream",
     "text": [
      "⬜⬜⬜⬜⬜🟩🟩⬜⬜⬜⬜⬜⬜⬜⬜🟩⬜⬜⬜⬜🟩⬜⬜⬜🟩⬜⬜🟩🟩🟩\n",
      "⬜🟩⬜⬜⬜⬜⬜⬜⬜⬜⬜⬜⬜🟩⬜🟩⬜🟩⬜⬜⬜⬜⬜⬜⬜⬜⬜🟩⬜🟩\n",
      "⬜🟩⬜⬜⬜⬜🟩⬜⬜⬜⬜⬜⬜🟩⬜🟩⬜🟩⬜⬜⬜⬜⬜⬜🟩⬜⬜🟩🟩🟩\n",
      "⬜⬜⬜⬜⬜🟩🟩⬜⬜⬜⬜⬜⬜⬜⬜🟩⬜🟩⬜⬜🟩⬜⬜⬜🟩⬜⬜🟩🟩🟩\n"
     ]
    }
   ],
   "source": [
    "print(bf1)\n",
    "print(bf2)\n",
    "print(bf3)\n",
    "print(bf4)"
   ]
  },
  {
   "cell_type": "code",
   "execution_count": 24,
   "id": "a9bcf4a5",
   "metadata": {},
   "outputs": [],
   "source": [
    "tree = SBT(\"bf1\", bf1)\n",
    "tree.insert(\"bf2\", bf2)\n",
    "tree.insert(\"bf3\", bf3)\n",
    "tree.insert(\"bf4\", bf4)"
   ]
  },
  {
   "cell_type": "code",
   "execution_count": 25,
   "id": "edbcddf6",
   "metadata": {},
   "outputs": [],
   "source": [
    "from graphviz import Digraph\n",
    "\n",
    "g = Digraph()\n",
    "\n",
    "def node_id(sbt):\n",
    "    return str(hash(sbt))\n",
    "\n",
    "def node_label(sbt):\n",
    "    return f\"{sbt.name}: {sbt.value}\"\n",
    "\n",
    "def add_node(g, node_id, node_label):\n",
    "    g.node(node_id, label=node_label, shape=\"box\")\n",
    "    \n",
    "def add_edge(g, node_id1, node_id2):\n",
    "    g.edges([(node_id1, node_id2)])\n",
    "\n",
    "add_node(g, node_id(tree), node_label(tree))\n",
    "nodes = [tree]\n",
    "while nodes:\n",
    "    current = nodes.pop()\n",
    "    current_id = node_id(current)\n",
    "    left, right = current.left, current.right\n",
    "    if left:        \n",
    "        left_id = node_id(left)\n",
    "        add_node(g, left_id, node_label(left))\n",
    "        add_edge(g, current_id, left_id)        \n",
    "        nodes.append(left)\n",
    "    if right:\n",
    "        right_id = node_id(right)\n",
    "        add_node(g, right_id, node_label(right))\n",
    "        add_edge(g, current_id, right_id)\n",
    "        nodes.append(right)"
   ]
  },
  {
   "cell_type": "code",
   "execution_count": 29,
   "id": "ffcb5a08",
   "metadata": {},
   "outputs": [
    {
     "data": {
      "image/svg+xml": [
       "<?xml version=\"1.0\" encoding=\"UTF-8\" standalone=\"no\"?>\n",
       "<!DOCTYPE svg PUBLIC \"-//W3C//DTD SVG 1.1//EN\"\n",
       " \"http://www.w3.org/Graphics/SVG/1.1/DTD/svg11.dtd\">\n",
       "<!-- Generated by graphviz version 2.50.0 (0)\n",
       " -->\n",
       "<!-- Pages: 1 -->\n",
       "<svg width=\"1949pt\" height=\"188pt\"\n",
       " viewBox=\"0.00 0.00 1949.00 188.00\" xmlns=\"http://www.w3.org/2000/svg\" xmlns:xlink=\"http://www.w3.org/1999/xlink\">\n",
       "<g id=\"graph0\" class=\"graph\" transform=\"scale(1 1) rotate(0) translate(4 184)\">\n",
       "<polygon fill=\"white\" stroke=\"transparent\" points=\"-4,4 -4,-184 1945,-184 1945,4 -4,4\"/>\n",
       "<!-- 301371597 -->\n",
       "<g id=\"node1\" class=\"node\">\n",
       "<title>301371597</title>\n",
       "<polygon fill=\"none\" stroke=\"black\" points=\"1212.5,-180 727.5,-180 727.5,-144 1212.5,-144 1212.5,-180\"/>\n",
       "<text text-anchor=\"middle\" x=\"970\" y=\"-158.3\" font-family=\"Times,serif\" font-size=\"14.00\">Union: ⬜🟩⬜⬜⬜🟩🟩⬜⬜⬜⬜⬜⬜🟩⬜🟩⬜🟩⬜⬜🟩⬜⬜⬜🟩⬜⬜🟩🟩🟩</text>\n",
       "</g>\n",
       "<!-- 301371423 -->\n",
       "<g id=\"node2\" class=\"node\">\n",
       "<title>301371423</title>\n",
       "<polygon fill=\"none\" stroke=\"black\" points=\"961.5,-108 476.5,-108 476.5,-72 961.5,-72 961.5,-108\"/>\n",
       "<text text-anchor=\"middle\" x=\"719\" y=\"-86.3\" font-family=\"Times,serif\" font-size=\"14.00\">Union: ⬜⬜⬜⬜⬜🟩🟩⬜⬜⬜⬜⬜⬜⬜⬜🟩⬜🟩⬜⬜🟩⬜⬜⬜🟩⬜⬜🟩🟩🟩</text>\n",
       "</g>\n",
       "<!-- 301371597&#45;&gt;301371423 -->\n",
       "<g id=\"edge1\" class=\"edge\">\n",
       "<title>301371597&#45;&gt;301371423</title>\n",
       "<path fill=\"none\" stroke=\"black\" d=\"M908.92,-143.97C873.09,-133.97 827.64,-121.3 790.19,-110.85\"/>\n",
       "<polygon fill=\"black\" stroke=\"black\" points=\"790.93,-107.43 780.35,-108.11 789.05,-114.17 790.93,-107.43\"/>\n",
       "</g>\n",
       "<!-- 301371426 -->\n",
       "<g id=\"node3\" class=\"node\">\n",
       "<title>301371426</title>\n",
       "<polygon fill=\"none\" stroke=\"black\" points=\"1464.5,-108 979.5,-108 979.5,-72 1464.5,-72 1464.5,-108\"/>\n",
       "<text text-anchor=\"middle\" x=\"1222\" y=\"-86.3\" font-family=\"Times,serif\" font-size=\"14.00\">Union: ⬜🟩⬜⬜⬜⬜🟩⬜⬜⬜⬜⬜⬜🟩⬜🟩⬜🟩⬜⬜⬜⬜⬜⬜🟩⬜⬜🟩🟩🟩</text>\n",
       "</g>\n",
       "<!-- 301371597&#45;&gt;301371426 -->\n",
       "<g id=\"edge2\" class=\"edge\">\n",
       "<title>301371597&#45;&gt;301371426</title>\n",
       "<path fill=\"none\" stroke=\"black\" d=\"M1031.32,-143.97C1067.3,-133.97 1112.93,-121.3 1150.53,-110.85\"/>\n",
       "<polygon fill=\"black\" stroke=\"black\" points=\"1151.7,-114.16 1160.4,-108.11 1149.83,-107.42 1151.7,-114.16\"/>\n",
       "</g>\n",
       "<!-- 301371468 -->\n",
       "<g id=\"node6\" class=\"node\">\n",
       "<title>301371468</title>\n",
       "<polygon fill=\"none\" stroke=\"black\" points=\"470,-36 0,-36 0,0 470,0 470,-36\"/>\n",
       "<text text-anchor=\"middle\" x=\"235\" y=\"-14.3\" font-family=\"Times,serif\" font-size=\"14.00\">bf1: ⬜⬜⬜⬜⬜🟩🟩⬜⬜⬜⬜⬜⬜⬜⬜🟩⬜⬜⬜⬜🟩⬜⬜⬜🟩⬜⬜🟩🟩🟩</text>\n",
       "</g>\n",
       "<!-- 301371423&#45;&gt;301371468 -->\n",
       "<g id=\"edge5\" class=\"edge\">\n",
       "<title>301371423&#45;&gt;301371468</title>\n",
       "<path fill=\"none\" stroke=\"black\" d=\"M601.22,-71.97C529.2,-61.55 437.03,-48.22 363.18,-37.54\"/>\n",
       "<polygon fill=\"black\" stroke=\"black\" points=\"363.29,-34.02 352.89,-36.05 362.28,-40.95 363.29,-34.02\"/>\n",
       "</g>\n",
       "<!-- 301384343 -->\n",
       "<g id=\"node7\" class=\"node\">\n",
       "<title>301384343</title>\n",
       "<polygon fill=\"none\" stroke=\"black\" points=\"958,-36 488,-36 488,0 958,0 958,-36\"/>\n",
       "<text text-anchor=\"middle\" x=\"723\" y=\"-14.3\" font-family=\"Times,serif\" font-size=\"14.00\">bf4: ⬜⬜⬜⬜⬜🟩🟩⬜⬜⬜⬜⬜⬜⬜⬜🟩⬜🟩⬜⬜🟩⬜⬜⬜🟩⬜⬜🟩🟩🟩</text>\n",
       "</g>\n",
       "<!-- 301371423&#45;&gt;301384343 -->\n",
       "<g id=\"edge6\" class=\"edge\">\n",
       "<title>301371423&#45;&gt;301384343</title>\n",
       "<path fill=\"none\" stroke=\"black\" d=\"M719.99,-71.7C720.43,-63.98 720.96,-54.71 721.45,-46.11\"/>\n",
       "<polygon fill=\"black\" stroke=\"black\" points=\"724.95,-46.29 722.02,-36.1 717.96,-45.89 724.95,-46.29\"/>\n",
       "</g>\n",
       "<!-- 301371504 -->\n",
       "<g id=\"node4\" class=\"node\">\n",
       "<title>301371504</title>\n",
       "<polygon fill=\"none\" stroke=\"black\" points=\"1453,-36 983,-36 983,0 1453,0 1453,-36\"/>\n",
       "<text text-anchor=\"middle\" x=\"1218\" y=\"-14.3\" font-family=\"Times,serif\" font-size=\"14.00\">bf2: ⬜🟩⬜⬜⬜⬜⬜⬜⬜⬜⬜⬜⬜🟩⬜🟩⬜🟩⬜⬜⬜⬜⬜⬜⬜⬜⬜🟩⬜🟩</text>\n",
       "</g>\n",
       "<!-- 301371426&#45;&gt;301371504 -->\n",
       "<g id=\"edge3\" class=\"edge\">\n",
       "<title>301371426&#45;&gt;301371504</title>\n",
       "<path fill=\"none\" stroke=\"black\" d=\"M1221.01,-71.7C1220.57,-63.98 1220.04,-54.71 1219.55,-46.11\"/>\n",
       "<polygon fill=\"black\" stroke=\"black\" points=\"1223.04,-45.89 1218.98,-36.1 1216.05,-46.29 1223.04,-45.89\"/>\n",
       "</g>\n",
       "<!-- 301371486 -->\n",
       "<g id=\"node5\" class=\"node\">\n",
       "<title>301371486</title>\n",
       "<polygon fill=\"none\" stroke=\"black\" points=\"1941,-36 1471,-36 1471,0 1941,0 1941,-36\"/>\n",
       "<text text-anchor=\"middle\" x=\"1706\" y=\"-14.3\" font-family=\"Times,serif\" font-size=\"14.00\">bf3: ⬜🟩⬜⬜⬜⬜🟩⬜⬜⬜⬜⬜⬜🟩⬜🟩⬜🟩⬜⬜⬜⬜⬜⬜🟩⬜⬜🟩🟩🟩</text>\n",
       "</g>\n",
       "<!-- 301371426&#45;&gt;301371486 -->\n",
       "<g id=\"edge4\" class=\"edge\">\n",
       "<title>301371426&#45;&gt;301371486</title>\n",
       "<path fill=\"none\" stroke=\"black\" d=\"M1339.78,-71.97C1411.8,-61.55 1503.97,-48.22 1577.82,-37.54\"/>\n",
       "<polygon fill=\"black\" stroke=\"black\" points=\"1578.72,-40.95 1588.11,-36.05 1577.71,-34.02 1578.72,-40.95\"/>\n",
       "</g>\n",
       "</g>\n",
       "</svg>\n"
      ],
      "text/plain": [
       "<graphviz.graphs.Digraph at 0x11f6cfaf0>"
      ]
     },
     "execution_count": 29,
     "metadata": {},
     "output_type": "execute_result"
    }
   ],
   "source": [
    "g\n"
   ]
  },
  {
   "cell_type": "code",
   "execution_count": 26,
   "id": "cabdc279",
   "metadata": {},
   "outputs": [
    {
     "data": {
      "text/plain": [
       "'digraph {\\n\\t301371597 [label=\"Union: ⬜🟩⬜⬜⬜🟩🟩⬜⬜⬜⬜⬜⬜🟩⬜🟩⬜🟩⬜⬜🟩⬜⬜⬜🟩⬜⬜🟩🟩🟩\" shape=box]\\n\\t301371423 [label=\"Union: ⬜⬜⬜⬜⬜🟩🟩⬜⬜⬜⬜⬜⬜⬜⬜🟩⬜🟩⬜⬜🟩⬜⬜⬜🟩⬜⬜🟩🟩🟩\" shape=box]\\n\\t301371597 -> 301371423\\n\\t301371426 [label=\"Union: ⬜🟩⬜⬜⬜⬜🟩⬜⬜⬜⬜⬜⬜🟩⬜🟩⬜🟩⬜⬜⬜⬜⬜⬜🟩⬜⬜🟩🟩🟩\" shape=box]\\n\\t301371597 -> 301371426\\n\\t301371504 [label=\"bf2: ⬜🟩⬜⬜⬜⬜⬜⬜⬜⬜⬜⬜⬜🟩⬜🟩⬜🟩⬜⬜⬜⬜⬜⬜⬜⬜⬜🟩⬜🟩\" shape=box]\\n\\t301371426 -> 301371504\\n\\t301371486 [label=\"bf3: ⬜🟩⬜⬜⬜⬜🟩⬜⬜⬜⬜⬜⬜🟩⬜🟩⬜🟩⬜⬜⬜⬜⬜⬜🟩⬜⬜🟩🟩🟩\" shape=box]\\n\\t301371426 -> 301371486\\n\\t301371468 [label=\"bf1: ⬜⬜⬜⬜⬜🟩🟩⬜⬜⬜⬜⬜⬜⬜⬜🟩⬜⬜⬜⬜🟩⬜⬜⬜🟩⬜⬜🟩🟩🟩\" shape=box]\\n\\t301371423 -> 301371468\\n\\t301384343 [label=\"bf4: ⬜⬜⬜⬜⬜🟩🟩⬜⬜⬜⬜⬜⬜⬜⬜🟩⬜🟩⬜⬜🟩⬜⬜⬜🟩⬜⬜🟩🟩🟩\" shape=box]\\n\\t301371423 -> 301384343\\n}\\n'"
      ]
     },
     "execution_count": 26,
     "metadata": {},
     "output_type": "execute_result"
    }
   ],
   "source": [
    "str(g)"
   ]
  },
  {
   "cell_type": "code",
   "execution_count": 27,
   "id": "552fe949",
   "metadata": {},
   "outputs": [
    {
     "data": {
      "text/plain": [
       "'graph.dot.pdf'"
      ]
     },
     "execution_count": 27,
     "metadata": {},
     "output_type": "execute_result"
    }
   ],
   "source": [
    "g.render(\"graph.dot\")"
   ]
  },
  {
   "cell_type": "code",
   "execution_count": null,
   "id": "f2df23d8",
   "metadata": {},
   "outputs": [],
   "source": []
  }
 ],
 "metadata": {
  "kernelspec": {
   "display_name": "Python 3 (ipykernel)",
   "language": "python",
   "name": "python3"
  },
  "language_info": {
   "codemirror_mode": {
    "name": "ipython",
    "version": 3
   },
   "file_extension": ".py",
   "mimetype": "text/x-python",
   "name": "python",
   "nbconvert_exporter": "python",
   "pygments_lexer": "ipython3",
   "version": "3.9.7"
  }
 },
 "nbformat": 4,
 "nbformat_minor": 5
}
