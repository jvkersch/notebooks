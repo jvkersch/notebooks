{
 "cells": [
  {
   "cell_type": "code",
   "execution_count": 1,
   "id": "41de5698",
   "metadata": {},
   "outputs": [],
   "source": [
    "%matplotlib inline"
   ]
  },
  {
   "cell_type": "code",
   "execution_count": 2,
   "id": "1d31071d",
   "metadata": {},
   "outputs": [],
   "source": [
    "import numpy as np"
   ]
  },
  {
   "cell_type": "code",
   "execution_count": 3,
   "id": "fec66a67",
   "metadata": {},
   "outputs": [],
   "source": [
    "nodes = np.asarray([0, 50, 70, 90, 100])/100\n",
    "colors = [\"red\", \"orange\", \"yellow\", \"cornflowerblue\", \"blue\"]"
   ]
  },
  {
   "cell_type": "code",
   "execution_count": 4,
   "id": "aa744128",
   "metadata": {},
   "outputs": [],
   "source": [
    "from matplotlib.colors import LinearSegmentedColormap"
   ]
  },
  {
   "cell_type": "code",
   "execution_count": 5,
   "id": "2305f108",
   "metadata": {},
   "outputs": [],
   "source": [
    "alphafold = LinearSegmentedColormap.from_list(\"alphafold\", list(zip(nodes, colors)))"
   ]
  },
  {
   "cell_type": "code",
   "execution_count": 6,
   "id": "db0f9caa",
   "metadata": {},
   "outputs": [],
   "source": [
    "import matplotlib.pyplot as plt"
   ]
  },
  {
   "cell_type": "code",
   "execution_count": 7,
   "id": "ad511474",
   "metadata": {},
   "outputs": [],
   "source": [
    "prng = np.random.RandomState(seed=1234)\n",
    "data = prng.uniform(size=(10, 10))"
   ]
  },
  {
   "cell_type": "code",
   "execution_count": 8,
   "id": "512b6cae",
   "metadata": {},
   "outputs": [
    {
     "data": {
      "text/plain": [
       "<matplotlib.colorbar.Colorbar at 0x13c3dd550>"
      ]
     },
     "execution_count": 8,
     "metadata": {},
     "output_type": "execute_result"
    },
    {
     "data": {
      "image/png": "[encoded data removed]",
      "text/plain": [
       "<Figure size 432x288 with 2 Axes>"
      ]
     },
     "metadata": {
      "needs_background": "light"
     },
     "output_type": "display_data"
    }
   ],
   "source": [
    "plt.imshow(data, cmap=alphafold)\n",
    "plt.colorbar()"
   ]
  },
  {
   "cell_type": "code",
   "execution_count": null,
   "id": "136189ec",
   "metadata": {},
   "outputs": [],
   "source": []
  }
 ],
 "metadata": {
  "kernelspec": {
   "display_name": "Python 3 (ipykernel)",
   "language": "python",
   "name": "python3"
  },
  "language_info": {
   "codemirror_mode": {
    "name": "ipython",
    "version": 3
   },
   "file_extension": ".py",
   "mimetype": "text/x-python",
   "name": "python",
   "nbconvert_exporter": "python",
   "pygments_lexer": "ipython3",
   "version": "3.9.7"
  }
 },
 "nbformat": 4,
 "nbformat_minor": 5
}
