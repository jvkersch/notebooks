{
 "cells": [
  {
   "cell_type": "code",
   "execution_count": 1,
   "id": "18113841",
   "metadata": {},
   "outputs": [],
   "source": [
    "%matplotlib inline"
   ]
  },
  {
   "cell_type": "code",
   "execution_count": 2,
   "id": "a0942de6",
   "metadata": {},
   "outputs": [],
   "source": [
    "import numpy as np\n",
    "import matplotlib.pyplot as plt"
   ]
  },
  {
   "cell_type": "code",
   "execution_count": 3,
   "id": "8057ec99",
   "metadata": {},
   "outputs": [],
   "source": [
    "np.random.seed(1234)\n",
    "x = np.random.uniform(0, 3, size=50)\n",
    "y = 0.5 * x + 1 + 0.2*np.random.normal(size=50)\n",
    "\n",
    "X = x.reshape(-1, 1)"
   ]
  },
  {
   "cell_type": "code",
   "execution_count": 4,
   "id": "af5c7da2",
   "metadata": {},
   "outputs": [
    {
     "data": {
      "text/plain": [
       "[<matplotlib.lines.Line2D at 0x11cc5dd60>]"
      ]
     },
     "execution_count": 4,
     "metadata": {},
     "output_type": "execute_result"
    },
    {
     "data": {
      "image/png": "[encoded data removed]",
      "text/plain": [
       "<Figure size 432x288 with 1 Axes>"
      ]
     },
     "metadata": {
      "needs_background": "light"
     },
     "output_type": "display_data"
    }
   ],
   "source": [
    "plt.plot(x, y, 'o')"
   ]
  },
  {
   "cell_type": "code",
   "execution_count": 5,
   "id": "4aa2b859",
   "metadata": {},
   "outputs": [
    {
     "data": {
      "text/plain": [
       "0.6945121828134233"
      ]
     },
     "execution_count": 5,
     "metadata": {},
     "output_type": "execute_result"
    }
   ],
   "source": [
    "from sklearn.linear_model import LinearRegression\n",
    "from sklearn.model_selection import train_test_split\n",
    "from sklearn.metrics import mean_squared_error\n",
    "\n",
    "X_train, X_test, y_train, y_test = train_test_split(X, y, test_size=0.25)\n",
    "\n",
    "def score_mse(model, X_test, y_test):\n",
    "    y_pred = model.predict(X_test)\n",
    "    return mean_squared_error(y_pred, y_test)\n",
    "\n",
    "def score_r2(model, X_test, y_test):\n",
    "    return model.score(X_test, y_test)\n",
    "\n",
    "score = score_mse\n",
    "score = score_r2\n",
    "\n",
    "model = LinearRegression()\n",
    "model.fit(X_train, y_train)\n",
    "score_full = score(model, X_test, y_test)\n",
    "score_full"
   ]
  },
  {
   "cell_type": "markdown",
   "id": "5802a455",
   "metadata": {},
   "source": [
    "# Our approach\n",
    "\n",
    "1. Split data into train and test data\n",
    "2. Bootstrap on training set and evaluate on fixed test data\n",
    "\n",
    "Leads to bootstrap estimates that are negatively biased, since bootstrapped estimator sees less data to train on (famous 63.2% percentage)."
   ]
  },
  {
   "cell_type": "code",
   "execution_count": 6,
   "id": "1e25e7d4",
   "metadata": {},
   "outputs": [
    {
     "data": {
      "text/plain": [
       "<matplotlib.lines.Line2D at 0x1203f7850>"
      ]
     },
     "execution_count": 6,
     "metadata": {},
     "output_type": "execute_result"
    },
    {
     "data": {
      "image/png": "[encoded data removed]",
      "text/plain": [
       "<Figure size 432x288 with 1 Axes>"
      ]
     },
     "metadata": {
      "needs_background": "light"
     },
     "output_type": "display_data"
    }
   ],
   "source": [
    "from mlxtend.evaluate import BootstrapOutOfBag\n",
    "\n",
    "n_splits = 200\n",
    "\n",
    "scores = np.empty(n_splits)\n",
    "oob = BootstrapOutOfBag(n_splits=n_splits)\n",
    "\n",
    "for i, (bootstrap, _) in enumerate(oob.split(X_train)):\n",
    "    model = LinearRegression()\n",
    "    model.fit(X_train[bootstrap], y_train[bootstrap])\n",
    "    scores[i] = score(model, X_test, y_test)\n",
    "    \n",
    "plt.hist(scores)\n",
    "plt.axvline(score_full, color=\"red\")\n",
    "plt.axvline(np.mean(scores), color=\"red\", linestyle=\"dashed\")"
   ]
  },
  {
   "cell_type": "code",
   "execution_count": 7,
   "id": "a3af09e0",
   "metadata": {},
   "outputs": [
    {
     "data": {
      "text/plain": [
       "0.006411759395608452"
      ]
     },
     "execution_count": 7,
     "metadata": {},
     "output_type": "execute_result"
    }
   ],
   "source": [
    "# Gap between bootstrap estimate and point estimate\n",
    "score_full - np.mean(scores)"
   ]
  },
  {
   "cell_type": "code",
   "execution_count": 8,
   "id": "9f3dd5dc",
   "metadata": {},
   "outputs": [],
   "source": [
    "def experiment(n_splits=200):\n",
    "\n",
    "    scores = np.empty(n_splits)\n",
    "    oob = BootstrapOutOfBag(n_splits=n_splits)\n",
    "    \n",
    "    for i, (bootstrap, _) in enumerate(oob.split(X_train)):\n",
    "        model = LinearRegression()\n",
    "        model.fit(X_train[bootstrap], y_train[bootstrap])\n",
    "        scores[i] = score(model, X_test, y_test)\n",
    "\n",
    "    return np.mean(scores)\n",
    "\n",
    "\n",
    "experiment_scores = np.array([experiment() for _ in range(100)])"
   ]
  },
  {
   "cell_type": "code",
   "execution_count": 9,
   "id": "a34092e6",
   "metadata": {},
   "outputs": [
    {
     "data": {
      "text/plain": [
       "<matplotlib.lines.Line2D at 0x12049f220>"
      ]
     },
     "execution_count": 9,
     "metadata": {},
     "output_type": "execute_result"
    },
    {
     "data": {
      "image/png": "[encoded data removed]",
      "text/plain": [
       "<Figure size 432x288 with 1 Axes>"
      ]
     },
     "metadata": {
      "needs_background": "light"
     },
     "output_type": "display_data"
    }
   ],
   "source": [
    "plt.hist(experiment_scores)\n",
    "plt.axvline(score_full, color=\"red\")"
   ]
  },
  {
   "cell_type": "markdown",
   "id": "dbbf9c5a",
   "metadata": {},
   "source": [
    "# Leave-one-out bootstrapping"
   ]
  },
  {
   "cell_type": "code",
   "execution_count": 10,
   "id": "c676ff03",
   "metadata": {},
   "outputs": [
    {
     "data": {
      "text/plain": [
       "(50, 1)"
      ]
     },
     "execution_count": 10,
     "metadata": {},
     "output_type": "execute_result"
    }
   ],
   "source": [
    "X.shape"
   ]
  },
  {
   "cell_type": "code",
   "execution_count": 11,
   "id": "faf4e7bf",
   "metadata": {},
   "outputs": [
    {
     "data": {
      "text/plain": [
       "<matplotlib.lines.Line2D at 0x12056c340>"
      ]
     },
     "execution_count": 11,
     "metadata": {},
     "output_type": "execute_result"
    },
    {
     "data": {
      "image/png": "[encoded data removed]",
      "text/plain": [
       "<Figure size 432x288 with 1 Axes>"
      ]
     },
     "metadata": {
      "needs_background": "light"
     },
     "output_type": "display_data"
    }
   ],
   "source": [
    "from mlxtend.evaluate import BootstrapOutOfBag\n",
    "\n",
    "n_splits = 200\n",
    "\n",
    "scores = np.empty(n_splits)\n",
    "oob = BootstrapOutOfBag(n_splits=n_splits)\n",
    "\n",
    "for i, (train, test) in enumerate(oob.split(X)):\n",
    "    model = LinearRegression()\n",
    "    model.fit(X[train], y[train])\n",
    "    scores[i] = score(model, X[test], y[test])\n",
    "    \n",
    "plt.hist(scores)\n",
    "plt.axvline(score_full, color=\"red\")\n",
    "plt.axvline(np.mean(scores), color=\"red\", linestyle=\"dashed\")"
   ]
  },
  {
   "cell_type": "code",
   "execution_count": 12,
   "id": "b6ab7382",
   "metadata": {},
   "outputs": [],
   "source": [
    "def experiment(n_splits=200):\n",
    "    scores_b = np.empty(n_splits)  # bootstrap scores\n",
    "    scores_r = np.empty(n_splits)  # resubstitution scores\n",
    "    oob = BootstrapOutOfBag(n_splits=n_splits)\n",
    "\n",
    "    for i, (train, test) in enumerate(oob.split(X)):\n",
    "        model = LinearRegression()\n",
    "        model.fit(X[train], y[train])\n",
    "        scores_b[i] = score(model, X[test], y[test])\n",
    "        scores_r[i] = score(model, X, y)\n",
    "    \n",
    "    return np.mean(scores_b), np.mean(scores_r)"
   ]
  },
  {
   "cell_type": "code",
   "execution_count": 13,
   "id": "9cb3392c",
   "metadata": {},
   "outputs": [],
   "source": [
    "agg_scores_b, agg_scores_r = np.asarray([experiment() for _ in range(100)]).T"
   ]
  },
  {
   "cell_type": "code",
   "execution_count": 14,
   "id": "df0f80c5",
   "metadata": {},
   "outputs": [
    {
     "data": {
      "text/plain": [
       "<matplotlib.lines.Line2D at 0x1205da070>"
      ]
     },
     "execution_count": 14,
     "metadata": {},
     "output_type": "execute_result"
    },
    {
     "data": {
      "image/png": "[encoded data removed]",
      "text/plain": [
       "<Figure size 432x288 with 1 Axes>"
      ]
     },
     "metadata": {
      "needs_background": "light"
     },
     "output_type": "display_data"
    }
   ],
   "source": [
    "plt.hist(agg_scores_b)\n",
    "plt.hist(agg_scores_r)\n",
    "plt.axvline(score_full, color=\"red\")"
   ]
  },
  {
   "cell_type": "code",
   "execution_count": null,
   "id": "3e8c8ef8",
   "metadata": {},
   "outputs": [],
   "source": []
  }
 ],
 "metadata": {
  "kernelspec": {
   "display_name": "datascience",
   "language": "python",
   "name": "datascience"
  },
  "language_info": {
   "codemirror_mode": {
    "name": "ipython",
    "version": 3
   },
   "file_extension": ".py",
   "mimetype": "text/x-python",
   "name": "python",
   "nbconvert_exporter": "python",
   "pygments_lexer": "ipython3",
   "version": "3.9.7"
  }
 },
 "nbformat": 4,
 "nbformat_minor": 5
}
