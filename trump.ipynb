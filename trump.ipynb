{
 "cells": [
  {
   "cell_type": "code",
   "execution_count": 1,
   "metadata": {
    "collapsed": true,
    "deletable": true,
    "editable": true
   },
   "outputs": [],
   "source": [
    "%matplotlib inline"
   ]
  },
  {
   "cell_type": "code",
   "execution_count": 2,
   "metadata": {
    "collapsed": true,
    "deletable": true,
    "editable": true
   },
   "outputs": [],
   "source": [
    "import matplotlib.pyplot as plt\n",
    "import numpy as np\n",
    "import pandas as pd"
   ]
  },
  {
   "cell_type": "markdown",
   "metadata": {
    "deletable": true,
    "editable": true
   },
   "source": [
    "We begin by reading in the dataset with Trump approval ratings from the website [FiveThirtyEight](https://fivethirtyeight.com). The dataset comes as a CSV file and can be read in with `pd.read_csv`.  The `parse_dates` argument indicates that those columns are dates, and that Pandas should parse them as such."
   ]
  },
  {
   "cell_type": "code",
   "execution_count": 3,
   "metadata": {
    "collapsed": false,
    "deletable": true,
    "editable": true
   },
   "outputs": [],
   "source": [
    "url = \"https://projects.fivethirtyeight.com/trump-approval-data/approval_polllist.csv\"\n",
    "df = pd.read_csv(url, parse_dates=[2, 3, 4])"
   ]
  },
  {
   "cell_type": "markdown",
   "metadata": {
    "deletable": true,
    "editable": true
   },
   "source": [
    "Let's print some statistics about our dataset, and some representative quantities to make sure that parsing went alright (this is often _not_ the case, in which case you need to go back and tweak the parameters for `pd.read_csv`)."
   ]
  },
  {
   "cell_type": "code",
   "execution_count": 4,
   "metadata": {
    "collapsed": false,
    "deletable": true,
    "editable": true
   },
   "outputs": [
    {
     "data": {
      "text/html": [
       "<div>\n",
       "<table border=\"1\" class=\"dataframe\">\n",
       "  <thead>\n",
       "    <tr style=\"text-align: right;\">\n",
       "      <th></th>\n",
       "      <th>president</th>\n",
       "      <th>subgroup</th>\n",
       "      <th>modeldate</th>\n",
       "      <th>startdate</th>\n",
       "      <th>enddate</th>\n",
       "      <th>pollster</th>\n",
       "      <th>grade</th>\n",
       "      <th>samplesize</th>\n",
       "      <th>population</th>\n",
       "      <th>weight</th>\n",
       "      <th>...</th>\n",
       "      <th>disapprove</th>\n",
       "      <th>adjusted_approve</th>\n",
       "      <th>adjusted_disapprove</th>\n",
       "      <th>multiversions</th>\n",
       "      <th>tracking</th>\n",
       "      <th>url</th>\n",
       "      <th>poll_id</th>\n",
       "      <th>question_id</th>\n",
       "      <th>createddate</th>\n",
       "      <th>timestamp</th>\n",
       "    </tr>\n",
       "  </thead>\n",
       "  <tbody>\n",
       "    <tr>\n",
       "      <th>0</th>\n",
       "      <td>Donald Trump</td>\n",
       "      <td>All polls</td>\n",
       "      <td>2017-11-21</td>\n",
       "      <td>2017-01-20</td>\n",
       "      <td>2017-01-22</td>\n",
       "      <td>Morning Consult</td>\n",
       "      <td>NaN</td>\n",
       "      <td>1992</td>\n",
       "      <td>rv</td>\n",
       "      <td>0.798422</td>\n",
       "      <td>...</td>\n",
       "      <td>37.0</td>\n",
       "      <td>42.21507</td>\n",
       "      <td>40.12803</td>\n",
       "      <td>NaN</td>\n",
       "      <td>NaN</td>\n",
       "      <td>http://www.politico.com/story/2017/01/poll-vot...</td>\n",
       "      <td>49249</td>\n",
       "      <td>77261</td>\n",
       "      <td>1/23/2017</td>\n",
       "      <td>13:11:16 21 Nov 2017</td>\n",
       "    </tr>\n",
       "    <tr>\n",
       "      <th>1</th>\n",
       "      <td>Donald Trump</td>\n",
       "      <td>All polls</td>\n",
       "      <td>2017-11-21</td>\n",
       "      <td>2017-01-20</td>\n",
       "      <td>2017-01-22</td>\n",
       "      <td>Gallup</td>\n",
       "      <td>B-</td>\n",
       "      <td>1500</td>\n",
       "      <td>a</td>\n",
       "      <td>0.229544</td>\n",
       "      <td>...</td>\n",
       "      <td>45.0</td>\n",
       "      <td>46.21328</td>\n",
       "      <td>43.19894</td>\n",
       "      <td>NaN</td>\n",
       "      <td>T</td>\n",
       "      <td>http://www.gallup.com/poll/201617/gallup-daily...</td>\n",
       "      <td>49253</td>\n",
       "      <td>77265</td>\n",
       "      <td>1/23/2017</td>\n",
       "      <td>13:11:16 21 Nov 2017</td>\n",
       "    </tr>\n",
       "    <tr>\n",
       "      <th>2</th>\n",
       "      <td>Donald Trump</td>\n",
       "      <td>All polls</td>\n",
       "      <td>2017-11-21</td>\n",
       "      <td>2017-01-20</td>\n",
       "      <td>2017-01-24</td>\n",
       "      <td>Ipsos</td>\n",
       "      <td>A-</td>\n",
       "      <td>1632</td>\n",
       "      <td>a</td>\n",
       "      <td>0.287416</td>\n",
       "      <td>...</td>\n",
       "      <td>45.2</td>\n",
       "      <td>42.13569</td>\n",
       "      <td>44.41069</td>\n",
       "      <td>NaN</td>\n",
       "      <td>T</td>\n",
       "      <td>http://polling.reuters.com/#poll/CP3_2/</td>\n",
       "      <td>49426</td>\n",
       "      <td>77599</td>\n",
       "      <td>3/1/2017</td>\n",
       "      <td>13:11:16 21 Nov 2017</td>\n",
       "    </tr>\n",
       "    <tr>\n",
       "      <th>3</th>\n",
       "      <td>Donald Trump</td>\n",
       "      <td>All polls</td>\n",
       "      <td>2017-11-21</td>\n",
       "      <td>2017-01-21</td>\n",
       "      <td>2017-01-23</td>\n",
       "      <td>Gallup</td>\n",
       "      <td>B-</td>\n",
       "      <td>1500</td>\n",
       "      <td>a</td>\n",
       "      <td>0.211740</td>\n",
       "      <td>...</td>\n",
       "      <td>46.0</td>\n",
       "      <td>46.21328</td>\n",
       "      <td>44.19894</td>\n",
       "      <td>NaN</td>\n",
       "      <td>T</td>\n",
       "      <td>http://www.gallup.com/poll/201617/gallup-daily...</td>\n",
       "      <td>49262</td>\n",
       "      <td>77274</td>\n",
       "      <td>1/24/2017</td>\n",
       "      <td>13:11:16 21 Nov 2017</td>\n",
       "    </tr>\n",
       "    <tr>\n",
       "      <th>4</th>\n",
       "      <td>Donald Trump</td>\n",
       "      <td>All polls</td>\n",
       "      <td>2017-11-21</td>\n",
       "      <td>2017-01-21</td>\n",
       "      <td>2017-01-25</td>\n",
       "      <td>Ipsos</td>\n",
       "      <td>A-</td>\n",
       "      <td>1651</td>\n",
       "      <td>a</td>\n",
       "      <td>0.272001</td>\n",
       "      <td>...</td>\n",
       "      <td>45.8</td>\n",
       "      <td>42.33569</td>\n",
       "      <td>45.01069</td>\n",
       "      <td>NaN</td>\n",
       "      <td>T</td>\n",
       "      <td>http://polling.reuters.com/#poll/CP3_2/</td>\n",
       "      <td>49425</td>\n",
       "      <td>77598</td>\n",
       "      <td>3/1/2017</td>\n",
       "      <td>13:11:16 21 Nov 2017</td>\n",
       "    </tr>\n",
       "  </tbody>\n",
       "</table>\n",
       "<p>5 rows × 22 columns</p>\n",
       "</div>"
      ],
      "text/plain": [
       "      president   subgroup  modeldate  startdate    enddate         pollster  \\\n",
       "0  Donald Trump  All polls 2017-11-21 2017-01-20 2017-01-22  Morning Consult   \n",
       "1  Donald Trump  All polls 2017-11-21 2017-01-20 2017-01-22           Gallup   \n",
       "2  Donald Trump  All polls 2017-11-21 2017-01-20 2017-01-24            Ipsos   \n",
       "3  Donald Trump  All polls 2017-11-21 2017-01-21 2017-01-23           Gallup   \n",
       "4  Donald Trump  All polls 2017-11-21 2017-01-21 2017-01-25            Ipsos   \n",
       "\n",
       "  grade  samplesize population    weight          ...           disapprove  \\\n",
       "0   NaN        1992         rv  0.798422          ...                 37.0   \n",
       "1    B-        1500          a  0.229544          ...                 45.0   \n",
       "2    A-        1632          a  0.287416          ...                 45.2   \n",
       "3    B-        1500          a  0.211740          ...                 46.0   \n",
       "4    A-        1651          a  0.272001          ...                 45.8   \n",
       "\n",
       "   adjusted_approve  adjusted_disapprove  multiversions  tracking  \\\n",
       "0          42.21507             40.12803            NaN       NaN   \n",
       "1          46.21328             43.19894            NaN         T   \n",
       "2          42.13569             44.41069            NaN         T   \n",
       "3          46.21328             44.19894            NaN         T   \n",
       "4          42.33569             45.01069            NaN         T   \n",
       "\n",
       "                                                 url poll_id question_id  \\\n",
       "0  http://www.politico.com/story/2017/01/poll-vot...   49249       77261   \n",
       "1  http://www.gallup.com/poll/201617/gallup-daily...   49253       77265   \n",
       "2            http://polling.reuters.com/#poll/CP3_2/   49426       77599   \n",
       "3  http://www.gallup.com/poll/201617/gallup-daily...   49262       77274   \n",
       "4            http://polling.reuters.com/#poll/CP3_2/   49425       77598   \n",
       "\n",
       "   createddate             timestamp  \n",
       "0    1/23/2017  13:11:16 21 Nov 2017  \n",
       "1    1/23/2017  13:11:16 21 Nov 2017  \n",
       "2     3/1/2017  13:11:16 21 Nov 2017  \n",
       "3    1/24/2017  13:11:16 21 Nov 2017  \n",
       "4     3/1/2017  13:11:16 21 Nov 2017  \n",
       "\n",
       "[5 rows x 22 columns]"
      ]
     },
     "execution_count": 4,
     "metadata": {},
     "output_type": "execute_result"
    }
   ],
   "source": [
    "df.head()"
   ]
  },
  {
   "cell_type": "code",
   "execution_count": 5,
   "metadata": {
    "collapsed": false,
    "deletable": true,
    "editable": true
   },
   "outputs": [
    {
     "data": {
      "text/html": [
       "<div>\n",
       "<table border=\"1\" class=\"dataframe\">\n",
       "  <thead>\n",
       "    <tr style=\"text-align: right;\">\n",
       "      <th></th>\n",
       "      <th>samplesize</th>\n",
       "      <th>weight</th>\n",
       "      <th>influence</th>\n",
       "      <th>approve</th>\n",
       "      <th>disapprove</th>\n",
       "      <th>adjusted_approve</th>\n",
       "      <th>adjusted_disapprove</th>\n",
       "      <th>poll_id</th>\n",
       "      <th>question_id</th>\n",
       "    </tr>\n",
       "  </thead>\n",
       "  <tbody>\n",
       "    <tr>\n",
       "      <th>count</th>\n",
       "      <td>2676.000000</td>\n",
       "      <td>2676.000000</td>\n",
       "      <td>2676.000000</td>\n",
       "      <td>2676.000000</td>\n",
       "      <td>2676.000000</td>\n",
       "      <td>2676.000000</td>\n",
       "      <td>2676.000000</td>\n",
       "      <td>2676.000000</td>\n",
       "      <td>2676.000000</td>\n",
       "    </tr>\n",
       "    <tr>\n",
       "      <th>mean</th>\n",
       "      <td>2003.757848</td>\n",
       "      <td>0.418671</td>\n",
       "      <td>0.015375</td>\n",
       "      <td>41.161936</td>\n",
       "      <td>54.220904</td>\n",
       "      <td>40.506663</td>\n",
       "      <td>53.505067</td>\n",
       "      <td>49891.349776</td>\n",
       "      <td>78392.992152</td>\n",
       "    </tr>\n",
       "    <tr>\n",
       "      <th>std</th>\n",
       "      <td>2439.026525</td>\n",
       "      <td>0.475495</td>\n",
       "      <td>0.098497</td>\n",
       "      <td>4.256372</td>\n",
       "      <td>4.099231</td>\n",
       "      <td>3.517417</td>\n",
       "      <td>3.762514</td>\n",
       "      <td>352.750785</td>\n",
       "      <td>638.557942</td>\n",
       "    </tr>\n",
       "    <tr>\n",
       "      <th>min</th>\n",
       "      <td>121.000000</td>\n",
       "      <td>0.020602</td>\n",
       "      <td>0.000000</td>\n",
       "      <td>32.000000</td>\n",
       "      <td>35.000000</td>\n",
       "      <td>33.125050</td>\n",
       "      <td>37.419640</td>\n",
       "      <td>49232.000000</td>\n",
       "      <td>77244.000000</td>\n",
       "    </tr>\n",
       "    <tr>\n",
       "      <th>25%</th>\n",
       "      <td>1472.000000</td>\n",
       "      <td>0.136530</td>\n",
       "      <td>0.000000</td>\n",
       "      <td>38.000000</td>\n",
       "      <td>52.000000</td>\n",
       "      <td>37.843635</td>\n",
       "      <td>51.313367</td>\n",
       "      <td>49597.000000</td>\n",
       "      <td>77865.000000</td>\n",
       "    </tr>\n",
       "    <tr>\n",
       "      <th>50%</th>\n",
       "      <td>1500.000000</td>\n",
       "      <td>0.210729</td>\n",
       "      <td>0.000000</td>\n",
       "      <td>41.000000</td>\n",
       "      <td>55.000000</td>\n",
       "      <td>39.868720</td>\n",
       "      <td>54.198940</td>\n",
       "      <td>49900.000000</td>\n",
       "      <td>78409.500000</td>\n",
       "    </tr>\n",
       "    <tr>\n",
       "      <th>75%</th>\n",
       "      <td>1660.000000</td>\n",
       "      <td>0.496404</td>\n",
       "      <td>0.000000</td>\n",
       "      <td>44.000000</td>\n",
       "      <td>57.000000</td>\n",
       "      <td>42.651160</td>\n",
       "      <td>56.198940</td>\n",
       "      <td>50195.250000</td>\n",
       "      <td>78877.250000</td>\n",
       "    </tr>\n",
       "    <tr>\n",
       "      <th>max</th>\n",
       "      <td>20020.000000</td>\n",
       "      <td>3.141890</td>\n",
       "      <td>1.704441</td>\n",
       "      <td>59.000000</td>\n",
       "      <td>68.000000</td>\n",
       "      <td>55.651160</td>\n",
       "      <td>63.436860</td>\n",
       "      <td>50494.000000</td>\n",
       "      <td>79684.000000</td>\n",
       "    </tr>\n",
       "  </tbody>\n",
       "</table>\n",
       "</div>"
      ],
      "text/plain": [
       "         samplesize       weight    influence      approve   disapprove  \\\n",
       "count   2676.000000  2676.000000  2676.000000  2676.000000  2676.000000   \n",
       "mean    2003.757848     0.418671     0.015375    41.161936    54.220904   \n",
       "std     2439.026525     0.475495     0.098497     4.256372     4.099231   \n",
       "min      121.000000     0.020602     0.000000    32.000000    35.000000   \n",
       "25%     1472.000000     0.136530     0.000000    38.000000    52.000000   \n",
       "50%     1500.000000     0.210729     0.000000    41.000000    55.000000   \n",
       "75%     1660.000000     0.496404     0.000000    44.000000    57.000000   \n",
       "max    20020.000000     3.141890     1.704441    59.000000    68.000000   \n",
       "\n",
       "       adjusted_approve  adjusted_disapprove       poll_id   question_id  \n",
       "count       2676.000000          2676.000000   2676.000000   2676.000000  \n",
       "mean          40.506663            53.505067  49891.349776  78392.992152  \n",
       "std            3.517417             3.762514    352.750785    638.557942  \n",
       "min           33.125050            37.419640  49232.000000  77244.000000  \n",
       "25%           37.843635            51.313367  49597.000000  77865.000000  \n",
       "50%           39.868720            54.198940  49900.000000  78409.500000  \n",
       "75%           42.651160            56.198940  50195.250000  78877.250000  \n",
       "max           55.651160            63.436860  50494.000000  79684.000000  "
      ]
     },
     "execution_count": 5,
     "metadata": {},
     "output_type": "execute_result"
    }
   ],
   "source": [
    "df.describe()"
   ]
  },
  {
   "cell_type": "code",
   "execution_count": 6,
   "metadata": {
    "collapsed": false,
    "deletable": true,
    "editable": true
   },
   "outputs": [
    {
     "data": {
      "text/plain": [
       "president                      object\n",
       "subgroup                       object\n",
       "modeldate              datetime64[ns]\n",
       "startdate              datetime64[ns]\n",
       "enddate                datetime64[ns]\n",
       "pollster                       object\n",
       "grade                          object\n",
       "samplesize                      int64\n",
       "population                     object\n",
       "weight                        float64\n",
       "influence                     float64\n",
       "approve                       float64\n",
       "disapprove                    float64\n",
       "adjusted_approve              float64\n",
       "adjusted_disapprove           float64\n",
       "multiversions                  object\n",
       "tracking                       object\n",
       "url                            object\n",
       "poll_id                         int64\n",
       "question_id                     int64\n",
       "createddate                    object\n",
       "timestamp                      object\n",
       "dtype: object"
      ]
     },
     "execution_count": 6,
     "metadata": {},
     "output_type": "execute_result"
    }
   ],
   "source": [
    "df.dtypes"
   ]
  },
  {
   "cell_type": "markdown",
   "metadata": {
    "deletable": true,
    "editable": true
   },
   "source": [
    "The dataset has a whole bunch of quantities relating to polls taken by various organizations to measure Trump's approval ratings. Here we only care about the poll start date, the pollster, the sample size, and the approval and disapproval ratings, so let's lift out those columns. Let's also set the poll start date to be the index in our dataframe."
   ]
  },
  {
   "cell_type": "code",
   "execution_count": 7,
   "metadata": {
    "collapsed": true,
    "deletable": true,
    "editable": true
   },
   "outputs": [],
   "source": [
    "selected_df = df[['startdate', 'pollster', 'samplesize', 'approve', 'disapprove']]\n",
    "selected_df.set_index('startdate', inplace=True)"
   ]
  },
  {
   "cell_type": "code",
   "execution_count": 8,
   "metadata": {
    "collapsed": false,
    "deletable": true,
    "editable": true
   },
   "outputs": [
    {
     "data": {
      "text/html": [
       "<div>\n",
       "<table border=\"1\" class=\"dataframe\">\n",
       "  <thead>\n",
       "    <tr style=\"text-align: right;\">\n",
       "      <th></th>\n",
       "      <th>pollster</th>\n",
       "      <th>samplesize</th>\n",
       "      <th>approve</th>\n",
       "      <th>disapprove</th>\n",
       "    </tr>\n",
       "    <tr>\n",
       "      <th>startdate</th>\n",
       "      <th></th>\n",
       "      <th></th>\n",
       "      <th></th>\n",
       "      <th></th>\n",
       "    </tr>\n",
       "  </thead>\n",
       "  <tbody>\n",
       "    <tr>\n",
       "      <th>2017-01-20</th>\n",
       "      <td>Morning Consult</td>\n",
       "      <td>1992</td>\n",
       "      <td>46.0</td>\n",
       "      <td>37.0</td>\n",
       "    </tr>\n",
       "    <tr>\n",
       "      <th>2017-01-20</th>\n",
       "      <td>Gallup</td>\n",
       "      <td>1500</td>\n",
       "      <td>45.0</td>\n",
       "      <td>45.0</td>\n",
       "    </tr>\n",
       "    <tr>\n",
       "      <th>2017-01-20</th>\n",
       "      <td>Ipsos</td>\n",
       "      <td>1632</td>\n",
       "      <td>42.1</td>\n",
       "      <td>45.2</td>\n",
       "    </tr>\n",
       "    <tr>\n",
       "      <th>2017-01-21</th>\n",
       "      <td>Gallup</td>\n",
       "      <td>1500</td>\n",
       "      <td>45.0</td>\n",
       "      <td>46.0</td>\n",
       "    </tr>\n",
       "    <tr>\n",
       "      <th>2017-01-21</th>\n",
       "      <td>Ipsos</td>\n",
       "      <td>1651</td>\n",
       "      <td>42.3</td>\n",
       "      <td>45.8</td>\n",
       "    </tr>\n",
       "  </tbody>\n",
       "</table>\n",
       "</div>"
      ],
      "text/plain": [
       "                   pollster  samplesize  approve  disapprove\n",
       "startdate                                                   \n",
       "2017-01-20  Morning Consult        1992     46.0        37.0\n",
       "2017-01-20           Gallup        1500     45.0        45.0\n",
       "2017-01-20            Ipsos        1632     42.1        45.2\n",
       "2017-01-21           Gallup        1500     45.0        46.0\n",
       "2017-01-21            Ipsos        1651     42.3        45.8"
      ]
     },
     "execution_count": 8,
     "metadata": {},
     "output_type": "execute_result"
    }
   ],
   "source": [
    "selected_df.head()"
   ]
  },
  {
   "cell_type": "markdown",
   "metadata": {
    "deletable": true,
    "editable": true
   },
   "source": [
    "Who are the pollsters whose results are used to make up this dataset?"
   ]
  },
  {
   "cell_type": "code",
   "execution_count": 9,
   "metadata": {
    "collapsed": false,
    "deletable": true,
    "editable": true
   },
   "outputs": [
    {
     "data": {
      "text/plain": [
       "array(['Morning Consult', 'Gallup', 'Ipsos',\n",
       "       'Rasmussen Reports/Pulse Opinion Research', 'Quinnipiac University',\n",
       "       'Public Policy Polling', 'YouGov', 'SurveyMonkey', 'IBD/TIPP',\n",
       "       'CNN/Opinion Research Corp.', 'CBS News',\n",
       "       'Zogby Interactive/JZ Analytics', 'McLaughlin & Associates',\n",
       "       'Emerson College', 'Pew Research Center', 'Harris Interactive',\n",
       "       'Fox News', 'Marist College', 'American Research Group',\n",
       "       'NBC News/Wall Street Journal', 'Suffolk University',\n",
       "       'Monmouth University', 'Garin-Hart-Yang / Global Strategy Group',\n",
       "       'Saint Leo University', 'Kaiser Family Foundation', 'icitizen',\n",
       "       'National Opinion Research Center', 'ABC News/Washington Post',\n",
       "       'Gravis Marketing', 'Selzer & Company', 'SurveyUSA', 'CNN/SSRS',\n",
       "       'Lake/Tarrance', 'Opinion Savvy', 'Lucid'], dtype=object)"
      ]
     },
     "execution_count": 9,
     "metadata": {},
     "output_type": "execute_result"
    }
   ],
   "source": [
    "selected_df['pollster'].unique()"
   ]
  },
  {
   "cell_type": "markdown",
   "metadata": {
    "deletable": true,
    "editable": true
   },
   "source": [
    "How many polls are there?"
   ]
  },
  {
   "cell_type": "code",
   "execution_count": 10,
   "metadata": {
    "collapsed": false,
    "deletable": true,
    "editable": true
   },
   "outputs": [
    {
     "data": {
      "text/plain": [
       "2676"
      ]
     },
     "execution_count": 10,
     "metadata": {},
     "output_type": "execute_result"
    }
   ],
   "source": [
    "len(selected_df)"
   ]
  },
  {
   "cell_type": "markdown",
   "metadata": {
    "deletable": true,
    "editable": true
   },
   "source": [
    "How many polls are there with at least 1500 participants?"
   ]
  },
  {
   "cell_type": "code",
   "execution_count": 11,
   "metadata": {
    "collapsed": false,
    "deletable": true,
    "editable": true
   },
   "outputs": [
    {
     "data": {
      "text/plain": [
       "1994"
      ]
     },
     "execution_count": 11,
     "metadata": {},
     "output_type": "execute_result"
    }
   ],
   "source": [
    "len(selected_df[selected_df.samplesize >= 1500])"
   ]
  },
  {
   "cell_type": "markdown",
   "metadata": {
    "deletable": true,
    "editable": true
   },
   "source": [
    "How many polls are there with at least 1500 participants, and conducted by Gallup?"
   ]
  },
  {
   "cell_type": "code",
   "execution_count": 12,
   "metadata": {
    "collapsed": false,
    "deletable": true,
    "editable": true
   },
   "outputs": [
    {
     "data": {
      "text/plain": [
       "600"
      ]
     },
     "execution_count": 12,
     "metadata": {},
     "output_type": "execute_result"
    }
   ],
   "source": [
    "len(selected_df[(selected_df.samplesize >= 1500) & (selected_df.pollster == 'Gallup')])"
   ]
  },
  {
   "cell_type": "markdown",
   "metadata": {
    "deletable": true,
    "editable": true
   },
   "source": [
    "Let's take only the latter (polls at least 1500 respondents, conducted by Gallup) and make a plot of approval and disapproval ratings."
   ]
  },
  {
   "cell_type": "code",
   "execution_count": 13,
   "metadata": {
    "collapsed": true,
    "deletable": true,
    "editable": true
   },
   "outputs": [],
   "source": [
    "# Note: I'm reusing the name of the dataframe here.\n",
    "selected_df = selected_df[(selected_df.samplesize >= 1500) & (selected_df.pollster == 'Gallup')]"
   ]
  },
  {
   "cell_type": "code",
   "execution_count": 14,
   "metadata": {
    "collapsed": false,
    "deletable": true,
    "editable": true
   },
   "outputs": [
    {
     "data": {
      "text/plain": [
       "<matplotlib.axes._subplots.AxesSubplot at 0x112b89198>"
      ]
     },
     "execution_count": 14,
     "metadata": {},
     "output_type": "execute_result"
    },
    {
     "data": {
      "image/png": "[encoded data removed]",
      "text/plain": [
       "<matplotlib.figure.Figure at 0x1140a9588>"
      ]
     },
     "metadata": {},
     "output_type": "display_data"
    }
   ],
   "source": [
    "selected_df[['approve', 'disapprove']].plot()"
   ]
  },
  {
   "cell_type": "markdown",
   "metadata": {
    "deletable": true,
    "editable": true
   },
   "source": [
    "Let's aggregate the data month by month to get a nice table of monthly approval ratings."
   ]
  },
  {
   "cell_type": "code",
   "execution_count": 15,
   "metadata": {
    "collapsed": false,
    "deletable": true,
    "editable": true
   },
   "outputs": [
    {
     "data": {
      "text/html": [
       "<div>\n",
       "<table border=\"1\" class=\"dataframe\">\n",
       "  <thead>\n",
       "    <tr style=\"text-align: right;\">\n",
       "      <th></th>\n",
       "      <th>approve</th>\n",
       "      <th>disapprove</th>\n",
       "    </tr>\n",
       "    <tr>\n",
       "      <th>startdate</th>\n",
       "      <th></th>\n",
       "      <th></th>\n",
       "    </tr>\n",
       "  </thead>\n",
       "  <tbody>\n",
       "    <tr>\n",
       "      <th>2017-01-31</th>\n",
       "      <td>43.833333</td>\n",
       "      <td>48.916667</td>\n",
       "    </tr>\n",
       "    <tr>\n",
       "      <th>2017-02-28</th>\n",
       "      <td>41.571429</td>\n",
       "      <td>53.035714</td>\n",
       "    </tr>\n",
       "    <tr>\n",
       "      <th>2017-03-31</th>\n",
       "      <td>40.193548</td>\n",
       "      <td>54.096774</td>\n",
       "    </tr>\n",
       "    <tr>\n",
       "      <th>2017-04-30</th>\n",
       "      <td>40.896552</td>\n",
       "      <td>53.310345</td>\n",
       "    </tr>\n",
       "    <tr>\n",
       "      <th>2017-05-31</th>\n",
       "      <td>39.483871</td>\n",
       "      <td>54.741935</td>\n",
       "    </tr>\n",
       "    <tr>\n",
       "      <th>2017-06-30</th>\n",
       "      <td>37.933333</td>\n",
       "      <td>56.933333</td>\n",
       "    </tr>\n",
       "    <tr>\n",
       "      <th>2017-07-31</th>\n",
       "      <td>37.827586</td>\n",
       "      <td>56.827586</td>\n",
       "    </tr>\n",
       "    <tr>\n",
       "      <th>2017-08-31</th>\n",
       "      <td>35.741935</td>\n",
       "      <td>58.580645</td>\n",
       "    </tr>\n",
       "    <tr>\n",
       "      <th>2017-09-30</th>\n",
       "      <td>37.500000</td>\n",
       "      <td>56.600000</td>\n",
       "    </tr>\n",
       "    <tr>\n",
       "      <th>2017-10-31</th>\n",
       "      <td>36.741935</td>\n",
       "      <td>57.967742</td>\n",
       "    </tr>\n",
       "    <tr>\n",
       "      <th>2017-11-30</th>\n",
       "      <td>37.611111</td>\n",
       "      <td>56.611111</td>\n",
       "    </tr>\n",
       "  </tbody>\n",
       "</table>\n",
       "</div>"
      ],
      "text/plain": [
       "              approve  disapprove\n",
       "startdate                        \n",
       "2017-01-31  43.833333   48.916667\n",
       "2017-02-28  41.571429   53.035714\n",
       "2017-03-31  40.193548   54.096774\n",
       "2017-04-30  40.896552   53.310345\n",
       "2017-05-31  39.483871   54.741935\n",
       "2017-06-30  37.933333   56.933333\n",
       "2017-07-31  37.827586   56.827586\n",
       "2017-08-31  35.741935   58.580645\n",
       "2017-09-30  37.500000   56.600000\n",
       "2017-10-31  36.741935   57.967742\n",
       "2017-11-30  37.611111   56.611111"
      ]
     },
     "execution_count": 15,
     "metadata": {},
     "output_type": "execute_result"
    }
   ],
   "source": [
    "approval_df = selected_df[['approve', 'disapprove']]\n",
    "approval_df.resample('M').mean()\n"
   ]
  },
  {
   "cell_type": "markdown",
   "metadata": {
    "deletable": true,
    "editable": true
   },
   "source": [
    "Let's take a 10-day rolling mean of this data to get a smoother version of the approval ratings curves. Note that the result of `.rolling().mean()` will have 9 initial rows that are all NaN, as there aren't enough observations yet to produce an average yet, so let's drop those rows. Last, let's rename the columns to something more appropriate."
   ]
  },
  {
   "cell_type": "code",
   "execution_count": 16,
   "metadata": {
    "collapsed": false,
    "deletable": true,
    "editable": true
   },
   "outputs": [],
   "source": [
    "smoothed_df = approval_df.rolling(window=10).mean()\n",
    "smoothed_df.dropna(inplace=True)\n",
    "\n",
    "smoothed_df.rename(columns={\n",
    "    'approve': 'approve (10-day average)', 'disapprove': 'disapprove (10-day average)'\n",
    "}, inplace=True)"
   ]
  },
  {
   "cell_type": "code",
   "execution_count": 17,
   "metadata": {
    "collapsed": false,
    "deletable": true,
    "editable": true
   },
   "outputs": [
    {
     "data": {
      "text/html": [
       "<div>\n",
       "<table border=\"1\" class=\"dataframe\">\n",
       "  <thead>\n",
       "    <tr style=\"text-align: right;\">\n",
       "      <th></th>\n",
       "      <th>approve (10-day average)</th>\n",
       "      <th>disapprove (10-day average)</th>\n",
       "    </tr>\n",
       "    <tr>\n",
       "      <th>startdate</th>\n",
       "      <th></th>\n",
       "      <th></th>\n",
       "    </tr>\n",
       "  </thead>\n",
       "  <tbody>\n",
       "    <tr>\n",
       "      <th>2017-01-29</th>\n",
       "      <td>44.0</td>\n",
       "      <td>48.3</td>\n",
       "    </tr>\n",
       "    <tr>\n",
       "      <th>2017-01-30</th>\n",
       "      <td>43.8</td>\n",
       "      <td>49.0</td>\n",
       "    </tr>\n",
       "    <tr>\n",
       "      <th>2017-01-31</th>\n",
       "      <td>43.6</td>\n",
       "      <td>49.6</td>\n",
       "    </tr>\n",
       "    <tr>\n",
       "      <th>2017-02-01</th>\n",
       "      <td>43.4</td>\n",
       "      <td>50.1</td>\n",
       "    </tr>\n",
       "    <tr>\n",
       "      <th>2017-02-02</th>\n",
       "      <td>43.0</td>\n",
       "      <td>50.9</td>\n",
       "    </tr>\n",
       "  </tbody>\n",
       "</table>\n",
       "</div>"
      ],
      "text/plain": [
       "            approve (10-day average)  disapprove (10-day average)\n",
       "startdate                                                        \n",
       "2017-01-29                      44.0                         48.3\n",
       "2017-01-30                      43.8                         49.0\n",
       "2017-01-31                      43.6                         49.6\n",
       "2017-02-01                      43.4                         50.1\n",
       "2017-02-02                      43.0                         50.9"
      ]
     },
     "execution_count": 17,
     "metadata": {},
     "output_type": "execute_result"
    }
   ],
   "source": [
    "smoothed_df.head()"
   ]
  },
  {
   "cell_type": "code",
   "execution_count": 18,
   "metadata": {
    "collapsed": false,
    "deletable": true,
    "editable": true
   },
   "outputs": [
    {
     "data": {
      "text/plain": [
       "591"
      ]
     },
     "execution_count": 18,
     "metadata": {},
     "output_type": "execute_result"
    }
   ],
   "source": [
    "len(smoothed_df)"
   ]
  },
  {
   "cell_type": "markdown",
   "metadata": {
    "deletable": true,
    "editable": true
   },
   "source": [
    "Finally, let's make a plot of both the original and the smoothed data. It is possible to achieve this by making a plot of one dataset first, and then adding the other dataset to the plot. Here I first join the two datasets together, and then plot the result in one go. This wouldn't be quite recommended for large datasets (as we're basically creating a copy of all the data), but it serves as an illustration here of how Pandas is able to automatically join dataframes on datetime indices."
   ]
  },
  {
   "cell_type": "code",
   "execution_count": 19,
   "metadata": {
    "collapsed": false,
    "deletable": true,
    "editable": true,
    "scrolled": false
   },
   "outputs": [],
   "source": [
    "joined_df = pd.merge(approval_df, smoothed_df, how='outer', left_index=True, right_index=True)"
   ]
  },
  {
   "cell_type": "code",
   "execution_count": 20,
   "metadata": {
    "collapsed": false,
    "deletable": true,
    "editable": true
   },
   "outputs": [
    {
     "data": {
      "text/plain": [
       "<matplotlib.axes._subplots.AxesSubplot at 0x1145d7630>"
      ]
     },
     "execution_count": 20,
     "metadata": {},
     "output_type": "execute_result"
    },
    {
     "data": {
      "image/png": "[encoded data removed]",
      "text/plain": [
       "<matplotlib.figure.Figure at 0x1145afda0>"
      ]
     },
     "metadata": {},
     "output_type": "display_data"
    }
   ],
   "source": [
    "joined_df.plot()"
   ]
  },
  {
   "cell_type": "markdown",
   "metadata": {
    "deletable": true,
    "editable": true
   },
   "source": [
    "You can see that there is a bit of lag in the smoothed curve compared to the raw data. This is due to our mean filter. If you wish, you can explore the arguments of `.rolling()` a bit more in detail to produce other aggregates that perhaps follow the trend a little closer."
   ]
  }
 ],
 "metadata": {
  "kernelspec": {
   "display_name": "Python 3",
   "language": "python",
   "name": "python3"
  },
  "language_info": {
   "codemirror_mode": {
    "name": "ipython",
    "version": 3
   },
   "file_extension": ".py",
   "mimetype": "text/x-python",
   "name": "python",
   "nbconvert_exporter": "python",
   "pygments_lexer": "ipython3",
   "version": "3.6.0"
  }
 },
 "nbformat": 4,
 "nbformat_minor": 2
}
