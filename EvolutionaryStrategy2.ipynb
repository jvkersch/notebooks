{
 "cells": [
  {
   "cell_type": "code",
   "execution_count": 1,
   "id": "6592dc8e",
   "metadata": {},
   "outputs": [],
   "source": [
    "%matplotlib inline"
   ]
  },
  {
   "cell_type": "code",
   "execution_count": 2,
   "id": "c052ce98",
   "metadata": {},
   "outputs": [],
   "source": [
    "import numpy as np\n",
    "import matplotlib.pyplot as plt"
   ]
  },
  {
   "cell_type": "code",
   "execution_count": 3,
   "id": "c62044d3",
   "metadata": {},
   "outputs": [],
   "source": [
    "def take_best_n(items, n):\n",
    "    return np.argpartition(items, -n)[-n:]"
   ]
  },
  {
   "cell_type": "code",
   "execution_count": 4,
   "id": "b150243a",
   "metadata": {},
   "outputs": [],
   "source": [
    "class EvolutionaryStrategy:\n",
    "    \n",
    "    def __init__(self, n, m, d):\n",
    "        self._x = np.random.uniform(-10, 10, size=(n, d))\n",
    "        self._v = np.random.normal(size=(n, d))\n",
    "\n",
    "        self._m = m\n",
    "        self._n = n\n",
    "        self._d = d\n",
    "    \n",
    "    def ask(self):\n",
    "        # Take m copies of each parent\n",
    "        x = np.repeat(self._x, self._m, axis=0)\n",
    "        v = np.repeat(self._v, self._m, axis=0)\n",
    "\n",
    "        # Update variabilities\n",
    "        theta = np.random.normal(size=v.shape)/self._d**0.5\n",
    "        self._v = v*np.exp(theta)\n",
    "\n",
    "        # Update positions\n",
    "        self._x = x + v*np.random.normal(size=v.shape)\n",
    "\n",
    "        return self._x, self._v\n",
    "    \n",
    "    def tell(self, fitness):\n",
    "        idx = take_best_n(fitness, self._n)\n",
    "        self._x = self._x[idx]\n",
    "        self._v = self._v[idx]\n",
    "        self._f = fitness[idx]\n",
    "        \n",
    "    def result(self):\n",
    "        return self._x, self._v, self._f"
   ]
  },
  {
   "cell_type": "code",
   "execution_count": 5,
   "id": "1ec7977b",
   "metadata": {},
   "outputs": [
    {
     "data": {
      "text/plain": [
       "(array([[ 0.79981957,  8.46990619,  5.15223031, -3.93370273, -1.15860893,\n",
       "         -6.55669895, -3.74425827],\n",
       "        [ 1.07447324,  7.18279803,  5.49457768, -4.21882083, -1.37477295,\n",
       "         -7.04333807, -3.01778117],\n",
       "        [-0.97559074, -6.2604579 , -2.5648583 ,  7.29160404,  5.24235718,\n",
       "         -4.28555493,  3.304162  ]]),\n",
       " array([[-0.57999799, -0.54170956,  1.00304793, -1.4437322 , -0.22618292,\n",
       "         -0.87399004, -0.29533785],\n",
       "        [-0.44658492, -0.37383264,  2.28715429, -1.83804065, -0.16586823,\n",
       "         -1.52066353, -0.32676453],\n",
       "        [-0.42601332,  0.55199349,  1.05439315,  0.0995765 , -0.73132425,\n",
       "         -0.52082519, -1.58360141]]),\n",
       " array([-172.75066229, -161.34152833, -156.65687432]))"
      ]
     },
     "execution_count": 5,
     "metadata": {},
     "output_type": "execute_result"
    }
   ],
   "source": [
    "def radial_fitness(x):\n",
    "    return -np.sum(x**2, axis=1)\n",
    "\n",
    "opt = EvolutionaryStrategy(3, 5, 7)\n",
    "x, v = opt.ask()\n",
    "opt.tell(radial_fitness(x))\n",
    "opt.result()\n"
   ]
  },
  {
   "cell_type": "code",
   "execution_count": 6,
   "id": "21f7ec8d",
   "metadata": {},
   "outputs": [],
   "source": [
    "def computational_experiment(n, m, n_iter=100, d=7):\n",
    "\n",
    "    optimizer = EvolutionaryStrategy(n, m, d)\n",
    "\n",
    "    history = []\n",
    "    for _ in range(n_iter):\n",
    "        x, v = optimizer.ask()\n",
    "        optimizer.tell(radial_fitness(x))\n",
    "        x, v, f = optimizer.result()\n",
    "        history.append((x, v, f))\n",
    "\n",
    "    history_x = np.stack([item[0] for item in history], axis=-1)\n",
    "    history_v = np.stack([item[1] for item in history], axis=-1)\n",
    "    history_f = np.stack([item[2] for item in history], axis=-1)\n",
    "\n",
    "    return history_x, history_v, history_f"
   ]
  },
  {
   "cell_type": "code",
   "execution_count": 7,
   "id": "7d055382",
   "metadata": {},
   "outputs": [
    {
     "data": {
      "text/plain": [
       "(3, 7, 100)"
      ]
     },
     "execution_count": 7,
     "metadata": {},
     "output_type": "execute_result"
    }
   ],
   "source": [
    "computational_experiment(3, 5)[0].shape"
   ]
  },
  {
   "cell_type": "code",
   "execution_count": 8,
   "id": "4ef8154f",
   "metadata": {},
   "outputs": [
    {
     "data": {
      "image/png": "[encoded data removed]",
      "text/plain": [
       "<Figure size 432x288 with 1 Axes>"
      ]
     },
     "metadata": {
      "needs_background": "light"
     },
     "output_type": "display_data"
    }
   ],
   "source": [
    "for _ in range(50):\n",
    "    xs, vs, fs = computational_experiment(10, 100)\n",
    "    plt.plot(fs.mean(axis=0), color=\"gray\")"
   ]
  },
  {
   "cell_type": "code",
   "execution_count": 15,
   "id": "cac597f9",
   "metadata": {},
   "outputs": [],
   "source": [
    "xs, vs, fs = computational_experiment(2, 10, d=2)"
   ]
  },
  {
   "cell_type": "code",
   "execution_count": 16,
   "id": "be29755d",
   "metadata": {},
   "outputs": [
    {
     "data": {
      "text/plain": [
       "(2, 2, 100)"
      ]
     },
     "execution_count": 16,
     "metadata": {},
     "output_type": "execute_result"
    }
   ],
   "source": [
    "xs.shape"
   ]
  },
  {
   "cell_type": "code",
   "execution_count": 18,
   "id": "fb4066ce",
   "metadata": {},
   "outputs": [
    {
     "data": {
      "text/plain": [
       "[<matplotlib.lines.Line2D at 0x13097c400>]"
      ]
     },
     "execution_count": 18,
     "metadata": {},
     "output_type": "execute_result"
    },
    {
     "data": {
      "image/png": "[encoded data removed]",
      "text/plain": [
       "<Figure size 432x288 with 1 Axes>"
      ]
     },
     "metadata": {
      "needs_background": "light"
     },
     "output_type": "display_data"
    }
   ],
   "source": [
    "plt.plot(xs[0, 0, :], xs[0, 1, :])\n",
    "plt.plot(xs[1, 0, :], xs[1, 1, :])"
   ]
  },
  {
   "cell_type": "code",
   "execution_count": 19,
   "id": "9bf58374",
   "metadata": {},
   "outputs": [
    {
     "data": {
      "text/plain": [
       "'img-003.png'"
      ]
     },
     "execution_count": 19,
     "metadata": {},
     "output_type": "execute_result"
    }
   ],
   "source": [
    "n = 3\n",
    "f\"img-{n:03d}.png\""
   ]
  },
  {
   "cell_type": "markdown",
   "id": "3a5b58a7",
   "metadata": {},
   "source": [
    "image = np.frombuffer(fig.canvas.tostring_rgb(), dtype='uint8')\n",
    "    ...:     images.append(image.reshape(300, 500, 3)) ## Y×X"
   ]
  },
  {
   "cell_type": "code",
   "execution_count": 25,
   "id": "a6c23401",
   "metadata": {},
   "outputs": [],
   "source": [
    "import imageio"
   ]
  },
  {
   "cell_type": "code",
   "execution_count": 32,
   "id": "415bac5a",
   "metadata": {},
   "outputs": [],
   "source": [
    "def get_imagedata(fig):\n",
    "    w, h = fig.get_size_inches()*fig.dpi\n",
    "    imgdata = np.frombuffer(fig.canvas.tostring_rgb(), dtype='uint8')\n",
    "    return imgdata.reshape(int(h), int(w), 3)"
   ]
  },
  {
   "cell_type": "code",
   "execution_count": 38,
   "id": "f076629f",
   "metadata": {},
   "outputs": [
    {
     "data": {
      "image/png": "[encoded data removed]",
      "text/plain": [
       "<Figure size 432x288 with 1 Axes>"
      ]
     },
     "metadata": {
      "needs_background": "light"
     },
     "output_type": "display_data"
    }
   ],
   "source": [
    "fig, ax = plt.subplots()\n",
    "ax.set_xlim((-3, 3))\n",
    "ax.set_ylim((-3, 3))\n",
    "\n",
    "images = []\n",
    "for k in range(xs.shape[-1]):\n",
    "    ax.set_xlim((-3, 3))\n",
    "    ax.set_ylim((-3, 3))\n",
    "    x = xs[:, 0, k]\n",
    "    y = xs[:, 1, k]\n",
    "    ax.scatter(x, y)    \n",
    "    \n",
    "    fig.canvas.draw()\n",
    "    imgdata = get_imagedata(fig)\n",
    "    images.append(imgdata)\n",
    "    ax.clear()\n",
    "    \n",
    "    \n",
    "imageio.mimsave(\"animation.gif\", images)"
   ]
  },
  {
   "cell_type": "code",
   "execution_count": 35,
   "id": "5956606e",
   "metadata": {},
   "outputs": [],
   "source": [
    "fig.clear()"
   ]
  },
  {
   "cell_type": "code",
   "execution_count": 29,
   "id": "49fe03cd",
   "metadata": {},
   "outputs": [
    {
     "data": {
      "text/plain": [
       "array([432., 288.])"
      ]
     },
     "execution_count": 29,
     "metadata": {},
     "output_type": "execute_result"
    }
   ],
   "source": [
    "fig.get_size_inches()*fig.dpi"
   ]
  },
  {
   "cell_type": "code",
   "execution_count": null,
   "id": "7030634c",
   "metadata": {},
   "outputs": [],
   "source": []
  }
 ],
 "metadata": {
  "kernelspec": {
   "display_name": "datascience",
   "language": "python",
   "name": "datascience"
  },
  "language_info": {
   "codemirror_mode": {
    "name": "ipython",
    "version": 3
   },
   "file_extension": ".py",
   "mimetype": "text/x-python",
   "name": "python",
   "nbconvert_exporter": "python",
   "pygments_lexer": "ipython3",
   "version": "3.9.7"
  }
 },
 "nbformat": 4,
 "nbformat_minor": 5
}
