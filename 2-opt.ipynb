{
 "cells": [
  {
   "cell_type": "code",
   "execution_count": 1,
   "metadata": {},
   "outputs": [],
   "source": [
    "%matplotlib inline"
   ]
  },
  {
   "cell_type": "code",
   "execution_count": 2,
   "metadata": {},
   "outputs": [],
   "source": [
    "import numpy as np"
   ]
  },
  {
   "cell_type": "code",
   "execution_count": 73,
   "metadata": {},
   "outputs": [],
   "source": [
    "import matplotlib.pyplot as plt"
   ]
  },
  {
   "cell_type": "code",
   "execution_count": 74,
   "metadata": {},
   "outputs": [],
   "source": [
    "from scipy.spatial.distance import pdist, squareform"
   ]
  },
  {
   "cell_type": "code",
   "execution_count": 87,
   "metadata": {},
   "outputs": [],
   "source": [
    "def add_arrows(ax, scale, bc=0.3):\n",
    "    for line in ax.get_lines():\n",
    "        xdata = line.get_xdata()\n",
    "        ydata = line.get_ydata()\n",
    "        for i in range(len(xdata) - 1):\n",
    "            xs = xdata[i:i+2]\n",
    "            ys = ydata[i:i+2]\n",
    "            xm = bc*xs[0] + (1 - bc)*xs[1]\n",
    "            ym = bc*ys[0] + (1 - bc)*ys[1]\n",
    "            dx = xs[1] - xs[0]\n",
    "            dy = ys[1] - ys[0]\n",
    "            norm = np.hypot(dx, dy)\n",
    "            dx = 0.01*dx/norm\n",
    "            dy = 0.01*dy/norm\n",
    "            ax.arrow(xm, ym, dx, dy, head_width=scale)"
   ]
  },
  {
   "cell_type": "code",
   "execution_count": 88,
   "metadata": {},
   "outputs": [],
   "source": [
    "# Todo implement this as permutation array\n",
    "\n",
    "class Tour:\n",
    "\n",
    "    def __init__(self, xs, ys):\n",
    "        self._xs = np.asarray(xs)\n",
    "        self._ys = np.asarray(ys)\n",
    "        self._ix = np.arange(len(xs))\n",
    "        self._dist = pdist(np.column_stack((xs, ys)))\n",
    "        \n",
    "    @property\n",
    "    def xs(self):\n",
    "        return self._xs[self._ix]\n",
    "    \n",
    "    @property\n",
    "    def ys(self):\n",
    "        return self._ys[self._ix]\n",
    "\n",
    "    def swap(self, v0, v1):\n",
    "        \"\"\" Swap two vertices in the tour.\n",
    "        \"\"\"\n",
    "        self._ix[[v0, v1]] = self._ix[[v1, v0]]\n",
    "        self._recompute_distance(v0)\n",
    "        self._recompute_distance(v1)\n",
    "        \n",
    "    def reverse(self, v0, v1):\n",
    "        \"\"\" Reverse the orientation of the tour between v0 and v1.\n",
    "        \"\"\"\n",
    "        r = np.arange(v0, v1)\n",
    "        self._ix[r] = self._ix[r[::-1]]\n",
    "\n",
    "    def _recompute_distance(self, v):\n",
    "        \"\"\" Recompute the distance between two vertices.\n",
    "        \"\"\"\n",
    "        n = len(self._ix)\n",
    "        i = (v-1) % n \n",
    "        j = (v+1) % n\n",
    "        prev, vert, succ = self._ix[[i, v, j]]\n",
    "        \n",
    "        self._dist[[prev*vert]] = np.hypot(\n",
    "            self._xs[prev] - self._xs[vert],\n",
    "            self._ys[prev] - self._ys[vert]\n",
    "        )\n",
    "        self._dist[[succ*vert]] = np.hypot(\n",
    "            self._xs[succ] - self._xs[vert],\n",
    "            self._ys[succ] - self._ys[vert]\n",
    "        )\n",
    "\n",
    "    def dist(self):\n",
    "        xs = np.hstack([self.xs, self.xs[0]])\n",
    "        ys = np.hstack([self.ys, self.ys[0]])\n",
    "        dx = xs[1:] - xs[:-1]\n",
    "        dy = ys[1:] - ys[:-1]\n",
    "        return np.hypot(dx, dy).sum()\n",
    "        \n",
    "    def plot(self, ax=None):\n",
    "        if ax is None:\n",
    "            _, ax = plt.subplots()\n",
    "        axs = np.hstack([self.xs, self.xs[0]])\n",
    "        ays = np.hstack([self.ys, self.ys[0]])\n",
    "        ax.plot(axs, ays)\n",
    "        ax.plot(self.xs, self.ys, 'ro')\n",
    "        for i, x, y in zip(self._ix, self.xs, self.ys):\n",
    "            ax.annotate(i, (x, y))\n",
    "        add_arrows(ax, 0.05)\n",
    "        ax.set_title(f\"d = {self.dist():.03f}\")"
   ]
  },
  {
   "cell_type": "code",
   "execution_count": 103,
   "metadata": {},
   "outputs": [],
   "source": [
    "# def two_opt(tour, v0, v1):\n",
    "#     n = len(self.xs)\n",
    "#     minchange = 0\n",
    "#     swap_i = swap_j = None\n",
    "#     for i in range(n-2):\n",
    "#         for j in range(i+2, n-1):\n",
    "#             change = (self._dist[i, j] + self._dist[i+1, j+1] -\n",
    "#                       self._dist[i, i+1] - self._dist[j, j+1])\n",
    "#             if minchange > change:\n",
    "#                 minchange = change\n",
    "#                 swap_i = i\n",
    "#                 swap_j = j\n",
    "\n",
    "#     if minchange < 0:\n",
    "#         self.xs[[swap_i+1, swap_j]] = self.xs[[swap_j, swap_i+1]]\n",
    "#         self.ys[[swap_i+1, swap_j]] = self.ys[[swap_j, swap_i+1]]\n",
    "\n",
    "#     return minchange, swap_i, swap_j\n",
    "\n",
    "def two_opt(tour, v0, v1):\n",
    "    tour.swap(v0+1, v1)\n",
    "    tour.reverse(v0+2, v1)"
   ]
  },
  {
   "cell_type": "code",
   "execution_count": 104,
   "metadata": {},
   "outputs": [],
   "source": [
    "prng = np.random.RandomState(seed=12345)\n",
    "\n",
    "xs = prng.uniform(size=20)\n",
    "ys = prng.uniform(size=20)\n",
    "\n",
    "xs = np.array([1, 2, 3, 4, 4, 3, 2, 1])\n",
    "ys = np.array([2, 2, 2, 2, 1, 1, 1, 1])"
   ]
  },
  {
   "cell_type": "code",
   "execution_count": 105,
   "metadata": {},
   "outputs": [
    {
     "data": {
      "image/png": "[encoded data removed]",
      "text/plain": [
       "<Figure size 432x288 with 1 Axes>"
      ]
     },
     "metadata": {
      "needs_background": "light"
     },
     "output_type": "display_data"
    }
   ],
   "source": [
    "t = Tour(xs, ys)\n",
    "\n",
    "t.plot()"
   ]
  },
  {
   "cell_type": "code",
   "execution_count": 106,
   "metadata": {},
   "outputs": [
    {
     "data": {
      "image/png": "[encoded data removed]",
      "text/plain": [
       "<Figure size 432x288 with 1 Axes>"
      ]
     },
     "metadata": {
      "needs_background": "light"
     },
     "output_type": "display_data"
    }
   ],
   "source": [
    "two_opt(t, 1, 5)\n",
    "t.plot()"
   ]
  },
  {
   "cell_type": "code",
   "execution_count": null,
   "metadata": {},
   "outputs": [],
   "source": []
  }
 ],
 "metadata": {
  "kernelspec": {
   "display_name": "Python 3",
   "language": "python",
   "name": "python3"
  },
  "language_info": {
   "codemirror_mode": {
    "name": "ipython",
    "version": 3
   },
   "file_extension": ".py",
   "mimetype": "text/x-python",
   "name": "python",
   "nbconvert_exporter": "python",
   "pygments_lexer": "ipython3",
   "version": "3.6.0"
  }
 },
 "nbformat": 4,
 "nbformat_minor": 2
}
