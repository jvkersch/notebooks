{
 "cells": [
  {
   "cell_type": "code",
   "execution_count": 1,
   "id": "e9e276cf",
   "metadata": {},
   "outputs": [],
   "source": [
    "%matplotlib inline"
   ]
  },
  {
   "cell_type": "code",
   "execution_count": null,
   "id": "aea4ccf7",
   "metadata": {},
   "outputs": [],
   "source": []
  },
  {
   "cell_type": "code",
   "execution_count": 2,
   "id": "5a8bb91c",
   "metadata": {},
   "outputs": [],
   "source": [
    "import numpy as np\n",
    "import matplotlib.pyplot as plt\n"
   ]
  },
  {
   "cell_type": "code",
   "execution_count": 3,
   "id": "d7757706",
   "metadata": {},
   "outputs": [],
   "source": [
    "def s(r, f=0.5, l=1.5):\n",
    "    return f*np.exp(-r/l) - np.exp(-r)"
   ]
  },
  {
   "cell_type": "code",
   "execution_count": 4,
   "id": "d3a035e2",
   "metadata": {},
   "outputs": [
    {
     "data": {
      "text/plain": [
       "[<matplotlib.lines.Line2D at 0x1145d2fa0>]"
      ]
     },
     "execution_count": 4,
     "metadata": {},
     "output_type": "execute_result"
    },
    {
     "data": {
      "image/png": "[encoded data removed]",
      "text/plain": [
       "<Figure size 432x288 with 1 Axes>"
      ]
     },
     "metadata": {
      "needs_background": "light"
     },
     "output_type": "display_data"
    }
   ],
   "source": [
    "x = np.linspace(0.5, 5)\n",
    "y = s(x)\n",
    "\n",
    "plt.plot(x, y)"
   ]
  },
  {
   "cell_type": "code",
   "execution_count": 5,
   "id": "1ffa5c64",
   "metadata": {},
   "outputs": [],
   "source": [
    "def f_spherical(x):\n",
    "    return np.sum(x**2, axis=1)"
   ]
  },
  {
   "cell_type": "code",
   "execution_count": 6,
   "id": "1d3d67a2",
   "metadata": {},
   "outputs": [],
   "source": [
    "def select_best(f_obj, x):\n",
    "    f_vals = f_obj(x)\n",
    "    return x[np.argmin(f_vals)]\n",
    "\n",
    "\n",
    "def goa(f_obj, x0, lower=None, upper=None, s=s, c_min=1e-5, c_max=1, n_iter=100):\n",
    "    \n",
    "    n, d = x0.shape\n",
    "    x = np.empty((n_iter, n, d))\n",
    "    x[0] = x0\n",
    "    \n",
    "    x_best = select_best(f_obj, x[0]) \n",
    "    for k in range(1, n_iter):\n",
    "        c = c_max - (k - 1)*(c_max - c_min)/(n_iter - 2)\n",
    "        for i in range(n):\n",
    "            x[k, i] = x_best\n",
    "            for j in range(n):\n",
    "                if j == i:\n",
    "                    continue\n",
    "\n",
    "                diff = x[k-1, j] - x[k-1, i]\n",
    "                x[k, i] += c**2 * (upper - lower)/2 * s(np.abs(diff)) * diff/max(np.linalg.norm(diff), 1e-6)\n",
    "        \n",
    "        x = np.clip(x, lower, upper)\n",
    "        x_best = select_best(f_obj, x[k])\n",
    "  \n",
    "    return x"
   ]
  },
  {
   "cell_type": "code",
   "execution_count": 7,
   "id": "c1297ac6",
   "metadata": {},
   "outputs": [],
   "source": [
    "np.random.seed(1234)\n",
    "x0 = 20 + 10 * np.random.uniform(size=(5, 2))\n",
    "\n",
    "#goa(f_spherical, x0, -500, 500)[:4]"
   ]
  },
  {
   "cell_type": "code",
   "execution_count": 8,
   "id": "525d583c",
   "metadata": {},
   "outputs": [
    {
     "data": {
      "text/plain": [
       "array([[[  22.22367664,  -20.93140786],\n",
       "        [  22.228402  ,  -22.18075939],\n",
       "        [  22.50125294,  -20.93140786],\n",
       "        [  22.22367664,  -22.18075939],\n",
       "        [  22.50479208,  -20.93142809]],\n",
       "\n",
       "       [[-319.95403064,   48.38391567],\n",
       "        [ 197.84660356, -123.26305945],\n",
       "        [  18.28323668,   48.17249708],\n",
       "        [-300.66457551, -123.20923311],\n",
       "        [ 500.        ,   45.25884051]],\n",
       "\n",
       "       [[  18.28330761,   48.25316418],\n",
       "        [  18.28323668,   48.14789112],\n",
       "        [  18.28323668,   48.00607396],\n",
       "        [  18.28316574,   48.19710304],\n",
       "        [  18.28323668,   48.25825308]],\n",
       "\n",
       "       [[  22.46400386,  411.80353297],\n",
       "        [  18.46736273, -393.49336604],\n",
       "        [  18.30344585, -500.        ],\n",
       "        [  16.96318162,   14.19764916],\n",
       "        [  15.21818932,  500.        ]]])"
      ]
     },
     "execution_count": 8,
     "metadata": {},
     "output_type": "execute_result"
    }
   ],
   "source": [
    "y = np.array([[  22.22367664,  -20.93140786],\n",
    "            [  22.228402  ,  -22.18075939],\n",
    "            [  22.50125294,  -20.93140786],\n",
    "            [  22.22367664,  -22.18075939],\n",
    "            [  22.50479208,  -20.93142809]])\n",
    "goa(f_spherical, y, -500, 500)[:4]"
   ]
  },
  {
   "cell_type": "code",
   "execution_count": null,
   "id": "13dff160",
   "metadata": {},
   "outputs": [],
   "source": []
  }
 ],
 "metadata": {
  "kernelspec": {
   "display_name": "datascience",
   "language": "python",
   "name": "datascience"
  },
  "language_info": {
   "codemirror_mode": {
    "name": "ipython",
    "version": 3
   },
   "file_extension": ".py",
   "mimetype": "text/x-python",
   "name": "python",
   "nbconvert_exporter": "python",
   "pygments_lexer": "ipython3",
   "version": "3.9.7"
  }
 },
 "nbformat": 4,
 "nbformat_minor": 5
}
