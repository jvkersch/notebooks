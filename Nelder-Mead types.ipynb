{
 "cells": [
  {
   "cell_type": "code",
   "execution_count": 1,
   "id": "68901be6",
   "metadata": {},
   "outputs": [],
   "source": [
    "# From https://stackoverflow.com/questions/19270673/matplotlib-radius-in-polygon-edges-is-it-possible\n",
    "\n",
    "from matplotlib import patches, path, pyplot as plt\n",
    "\n",
    "class RoundedPolygon(patches.PathPatch):\n",
    "    def __init__(self, xy, pad, **kwargs):\n",
    "        p = path.Path(*self.__round(xy=xy, pad=pad))\n",
    "        super().__init__(path=p, **kwargs)\n",
    "\n",
    "    def __round(self, xy, pad):\n",
    "        n = len(xy)\n",
    "\n",
    "        for i in range(0, n):\n",
    "\n",
    "            x0, x1, x2 = np.atleast_1d(xy[i - 1], xy[i], xy[(i + 1) % n])\n",
    "\n",
    "            d01, d12 = x1 - x0, x2 - x1\n",
    "            d01, d12 = d01 / np.linalg.norm(d01), d12 / np.linalg.norm(d12)\n",
    "\n",
    "            x00 = x0 + pad * d01\n",
    "            x01 = x1 - pad * d01\n",
    "            x10 = x1 + pad * d12\n",
    "            x11 = x2 - pad * d12\n",
    "\n",
    "            if i == 0:\n",
    "                verts = [x00, x01, x1, x10]\n",
    "            else:\n",
    "                verts += [x01, x1, x10]\n",
    "        codes = [path.Path.MOVETO] + n*[path.Path.LINETO, path.Path.CURVE3, path.Path.CURVE3]\n",
    "\n",
    "        return np.atleast_1d(verts, codes)"
   ]
  },
  {
   "cell_type": "code",
   "execution_count": 2,
   "id": "492683cf",
   "metadata": {},
   "outputs": [
    {
     "ename": "TypeError",
     "evalue": "__init__() missing 1 required positional argument: 'pad'",
     "output_type": "error",
     "traceback": [
      "\u001b[0;31m---------------------------------------------------------------------------\u001b[0m",
      "\u001b[0;31mTypeError\u001b[0m                                 Traceback (most recent call last)",
      "\u001b[0;32m/var/folders/1y/kwtrqbyd3dqfm_yfnx75n9jr0000gn/T/ipykernel_15290/2372853521.py\u001b[0m in \u001b[0;36m<module>\u001b[0;34m\u001b[0m\n\u001b[0;32m----> 1\u001b[0;31m triangle = RoundedPolygon([\n\u001b[0m\u001b[1;32m      2\u001b[0m     \u001b[0;34m[\u001b[0m\u001b[0;36m1\u001b[0m\u001b[0;34m,\u001b[0m \u001b[0;36m2\u001b[0m\u001b[0;34m]\u001b[0m\u001b[0;34m,\u001b[0m\u001b[0;34m\u001b[0m\u001b[0;34m\u001b[0m\u001b[0m\n\u001b[1;32m      3\u001b[0m     \u001b[0;34m[\u001b[0m\u001b[0;36m4\u001b[0m\u001b[0;34m,\u001b[0m \u001b[0;36m4\u001b[0m\u001b[0;34m]\u001b[0m\u001b[0;34m,\u001b[0m\u001b[0;34m\u001b[0m\u001b[0;34m\u001b[0m\u001b[0m\n\u001b[1;32m      4\u001b[0m     [5, 1]])\n",
      "\u001b[0;31mTypeError\u001b[0m: __init__() missing 1 required positional argument: 'pad'"
     ]
    }
   ],
   "source": [
    "triangle = RoundedPolygon([\n",
    "    [1, 2],\n",
    "    [4, 4],\n",
    "    [5, 1]], pad=)"
   ]
  },
  {
   "cell_type": "code",
   "execution_count": null,
   "id": "84b40078",
   "metadata": {},
   "outputs": [],
   "source": []
  }
 ],
 "metadata": {
  "kernelspec": {
   "display_name": "Python 3 (ipykernel)",
   "language": "python",
   "name": "python3"
  },
  "language_info": {
   "codemirror_mode": {
    "name": "ipython",
    "version": 3
   },
   "file_extension": ".py",
   "mimetype": "text/x-python",
   "name": "python",
   "nbconvert_exporter": "python",
   "pygments_lexer": "ipython3",
   "version": "3.9.7"
  }
 },
 "nbformat": 4,
 "nbformat_minor": 5
}
