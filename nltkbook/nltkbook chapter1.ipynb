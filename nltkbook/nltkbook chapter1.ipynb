{
 "cells": [
  {
   "cell_type": "code",
   "execution_count": 1,
   "metadata": {
    "collapsed": true
   },
   "outputs": [],
   "source": [
    "%matplotlib inline"
   ]
  },
  {
   "cell_type": "code",
   "execution_count": 2,
   "metadata": {
    "collapsed": true
   },
   "outputs": [],
   "source": [
    "import nltk"
   ]
  },
  {
   "cell_type": "code",
   "execution_count": 3,
   "metadata": {
    "collapsed": false
   },
   "outputs": [
    {
     "name": "stdout",
     "output_type": "stream",
     "text": [
      "*** Introductory Examples for the NLTK Book ***\n",
      "Loading text1, ..., text9 and sent1, ..., sent9\n",
      "Type the name of the text or sentence to view it.\n",
      "Type: 'texts()' or 'sents()' to list the materials.\n",
      "text1: Moby Dick by Herman Melville 1851\n",
      "text2: Sense and Sensibility by Jane Austen 1811\n",
      "text3: The Book of Genesis\n",
      "text4: Inaugural Address Corpus\n",
      "text5: Chat Corpus\n",
      "text6: Monty Python and the Holy Grail\n",
      "text7: Wall Street Journal\n",
      "text8: Personals Corpus\n",
      "text9: The Man Who Was Thursday by G . K . Chesterton 1908\n"
     ]
    }
   ],
   "source": [
    "from nltk.book import text1"
   ]
  },
  {
   "cell_type": "code",
   "execution_count": 4,
   "metadata": {
    "collapsed": false
   },
   "outputs": [
    {
     "name": "stdout",
     "output_type": "stream",
     "text": [
      "Displaying 11 of 11 matches:\n",
      "ong the former , one was of a most monstrous size . ... This came towards us , \n",
      "ON OF THE PSALMS . \" Touching that monstrous bulk of the whale or ork we have r\n",
      "ll over with a heathenish array of monstrous clubs and spears . Some were thick\n",
      "d as you gazed , and wondered what monstrous cannibal and savage could ever hav\n",
      "that has survived the flood ; most monstrous and most mountainous ! That Himmal\n",
      "they might scout at Moby Dick as a monstrous fable , or still worse and more de\n",
      "th of Radney .'\" CHAPTER 55 Of the Monstrous Pictures of Whales . I shall ere l\n",
      "ing Scenes . In connexion with the monstrous pictures of whales , I am strongly\n",
      "ere to enter upon those still more monstrous stories of them which are to be fo\n",
      "ght have been rummaged out of this monstrous cabinet there is no telling . But \n",
      "of Whale - Bones ; for Whales of a monstrous size are oftentimes cast up dead u\n"
     ]
    }
   ],
   "source": [
    "text1.concordance('monstrous')"
   ]
  },
  {
   "cell_type": "code",
   "execution_count": 5,
   "metadata": {
    "collapsed": false
   },
   "outputs": [],
   "source": [
    "from nltk.book import text2"
   ]
  },
  {
   "cell_type": "code",
   "execution_count": 6,
   "metadata": {
    "collapsed": false
   },
   "outputs": [
    {
     "name": "stdout",
     "output_type": "stream",
     "text": [
      "Displaying 11 of 11 matches:\n",
      ". \" Now , Palmer , you shall see a monstrous pretty girl .\" He immediately went\n",
      "your sister is to marry him . I am monstrous glad of it , for then I shall have\n",
      "ou may tell your sister . She is a monstrous lucky girl to get him , upon my ho\n",
      "k how you will like them . Lucy is monstrous pretty , and so good humoured and \n",
      " Jennings , \" I am sure I shall be monstrous glad of Miss Marianne ' s company \n",
      " usual noisy cheerfulness , \" I am monstrous glad to see you -- sorry I could n\n",
      "t however , as it turns out , I am monstrous glad there was never any thing in \n",
      "so scornfully ! for they say he is monstrous fond of her , as well he may . I s\n",
      "possible that she should .\" \" I am monstrous glad of it . Good gracious ! I hav\n",
      "thing of the kind . So then he was monstrous happy , and talked on some time ab\n",
      "e very genteel people . He makes a monstrous deal of money , and they keep thei\n"
     ]
    }
   ],
   "source": [
    "text2.concordance('monstrous')"
   ]
  },
  {
   "cell_type": "code",
   "execution_count": 7,
   "metadata": {
    "collapsed": false
   },
   "outputs": [
    {
     "name": "stdout",
     "output_type": "stream",
     "text": [
      "true contemptible christian abundant few part mean careful puzzled\n",
      "mystifying passing curious loving wise doleful gamesome singular\n",
      "delightfully perilous fearless\n"
     ]
    }
   ],
   "source": [
    "text1.similar(\"monstrous\")"
   ]
  },
  {
   "cell_type": "code",
   "execution_count": 8,
   "metadata": {
    "collapsed": false
   },
   "outputs": [
    {
     "name": "stdout",
     "output_type": "stream",
     "text": [
      "very so exceedingly heartily a as good great extremely remarkably\n",
      "sweet vast amazingly\n"
     ]
    }
   ],
   "source": [
    "text2.similar(\"monstrous\")"
   ]
  },
  {
   "cell_type": "code",
   "execution_count": 9,
   "metadata": {
    "collapsed": false
   },
   "outputs": [
    {
     "name": "stdout",
     "output_type": "stream",
     "text": [
      "a_pretty am_glad a_lucky is_pretty be_glad\n"
     ]
    }
   ],
   "source": [
    "text2.common_contexts([\"monstrous\", \"very\"])"
   ]
  },
  {
   "cell_type": "code",
   "execution_count": 10,
   "metadata": {
    "collapsed": false
   },
   "outputs": [
    {
     "name": "stdout",
     "output_type": "stream",
     "text": [
      "much long good that there well when said in so as to before soon what\n",
      "with far strong amiable little\n"
     ]
    }
   ],
   "source": [
    "text2.similar('handsome')"
   ]
  },
  {
   "cell_type": "code",
   "execution_count": 11,
   "metadata": {
    "collapsed": false
   },
   "outputs": [
    {
     "name": "stdout",
     "output_type": "stream",
     "text": [
      "as_as very_and so_as\n"
     ]
    }
   ],
   "source": [
    "text2.common_contexts(['handsome', 'well'])"
   ]
  },
  {
   "cell_type": "code",
   "execution_count": 12,
   "metadata": {
    "collapsed": false
   },
   "outputs": [],
   "source": [
    "from nltk.book import text4"
   ]
  },
  {
   "cell_type": "code",
   "execution_count": 13,
   "metadata": {
    "collapsed": false
   },
   "outputs": [
    {
     "data": {
      "image/png": "[encoded data removed]",
      "text/plain": [
       "<matplotlib.figure.Figure at 0x127502d30>"
      ]
     },
     "metadata": {},
     "output_type": "display_data"
    }
   ],
   "source": [
    "text4.dispersion_plot(['God', 'citizen', 'America', 'free', 'liberty'])"
   ]
  },
  {
   "cell_type": "code",
   "execution_count": 14,
   "metadata": {
    "collapsed": true
   },
   "outputs": [],
   "source": [
    "from nltk.book import text3"
   ]
  },
  {
   "cell_type": "code",
   "execution_count": 15,
   "metadata": {
    "collapsed": false
   },
   "outputs": [
    {
     "data": {
      "image/png": "[encoded data removed]",
      "text/plain": [
       "<matplotlib.figure.Figure at 0x11aa0b8d0>"
      ]
     },
     "metadata": {},
     "output_type": "display_data"
    }
   ],
   "source": [
    "text3.dispersion_plot(['Abraham', 'Cain', 'Abel', 'God', 'LORD'])"
   ]
  },
  {
   "cell_type": "code",
   "execution_count": 16,
   "metadata": {
    "collapsed": false,
    "scrolled": false
   },
   "outputs": [
    {
     "name": "stdout",
     "output_type": "stream",
     "text": [
      "!, ', (, ), ,, ,), ., .), :, ;, ;), ?, ?), A, Abel, Abelmizraim, Abidah, Abide, Abimael, Abimelech, Abr, Abrah, Abraham, Abram, Accad, Achbor, Adah, Adam, Adbeel, Admah, Adullamite, After, Aholibamah, Ahuzzath, Ajah, Akan, All, Allonbachuth, Almighty, Almodad, Also, Alvah, Alvan, Am, Amal, Amalek, Amalekites, Ammon, Amorite, Amorites, Amraphel, An, Anah, Anamim, And, Aner, Angel, Appoint, Aram, Aran, Ararat, Arbah, Ard, Are, Areli, Arioch, Arise, Arkite, Arodi, Arphaxad, Art, Arvadite, As, Asenath, Ashbel, Asher, Ashkenaz, Ashteroth, Ask, Asshur, Asshurim, Assyr, Assyria, At, Atad, Avith, Baalhanan, Babel, Bashemath, Be, Because, Becher, Bedad, Beeri, Beerlahairoi, Beersheba, Behold, Bela, Belah, Benam\n"
     ]
    }
   ],
   "source": [
    "s_tokens = sorted(set(text3))\n",
    "print(', '.join(s_tokens[:100]))"
   ]
  },
  {
   "cell_type": "code",
   "execution_count": 17,
   "metadata": {
    "collapsed": true
   },
   "outputs": [],
   "source": [
    "from nltk.book import FreqDist"
   ]
  },
  {
   "cell_type": "code",
   "execution_count": 18,
   "metadata": {
    "collapsed": true
   },
   "outputs": [],
   "source": [
    "dist = FreqDist(text3)"
   ]
  },
  {
   "cell_type": "code",
   "execution_count": 19,
   "metadata": {
    "collapsed": false
   },
   "outputs": [
    {
     "data": {
      "text/plain": [
       "[(',', 3681),\n",
       " ('and', 2428),\n",
       " ('the', 2411),\n",
       " ('of', 1358),\n",
       " ('.', 1315),\n",
       " ('And', 1250),\n",
       " ('his', 651),\n",
       " ('he', 648),\n",
       " ('to', 611),\n",
       " (';', 605),\n",
       " ('unto', 590),\n",
       " ('in', 588),\n",
       " ('that', 509),\n",
       " ('I', 484),\n",
       " ('said', 476),\n",
       " ('him', 387),\n",
       " ('a', 342),\n",
       " ('my', 325),\n",
       " ('was', 317),\n",
       " ('for', 297),\n",
       " ('it', 290),\n",
       " ('with', 289),\n",
       " ('me', 282),\n",
       " ('thou', 272),\n",
       " (\"'\", 268),\n",
       " ('is', 267),\n",
       " ('thy', 267),\n",
       " ('s', 263),\n",
       " ('thee', 257),\n",
       " ('be', 254),\n",
       " ('shall', 253),\n",
       " ('they', 249),\n",
       " ('all', 245),\n",
       " (':', 238),\n",
       " ('God', 231),\n",
       " ('them', 230),\n",
       " ('not', 224),\n",
       " ('which', 198),\n",
       " ('father', 198),\n",
       " ('will', 195),\n",
       " ('land', 184),\n",
       " ('Jacob', 179),\n",
       " ('came', 177),\n",
       " ('her', 173),\n",
       " ('LORD', 166),\n",
       " ('were', 163),\n",
       " ('she', 161),\n",
       " ('from', 157),\n",
       " ('Joseph', 157),\n",
       " ('their', 153)]"
      ]
     },
     "execution_count": 19,
     "metadata": {},
     "output_type": "execute_result"
    }
   ],
   "source": [
    "dist.most_common(50)"
   ]
  },
  {
   "cell_type": "code",
   "execution_count": 20,
   "metadata": {
    "collapsed": false
   },
   "outputs": [
    {
     "data": {
      "image/png": "[encoded data removed]",
      "text/plain": [
       "<matplotlib.figure.Figure at 0x11aa0b860>"
      ]
     },
     "metadata": {},
     "output_type": "display_data"
    }
   ],
   "source": [
    "dist.plot(50, cumulative=True)"
   ]
  },
  {
   "cell_type": "code",
   "execution_count": 21,
   "metadata": {
    "collapsed": false
   },
   "outputs": [
    {
     "name": "stdout",
     "output_type": "stream",
     "text": [
      "form, void, Day, Night, firmame, Heaven, appe, Earth, signs, seasons, lesser, nig, darkne, fly, whales, winged, seas, likene, subdue, finished, sanctified, plant, gr, mist, breathed, parted, Pison, bdellium, onyx, Gihon, Ethiopia, Hiddekel, Assyria, Euphrates, freely, eatest, sle, ribs, rib, Woman, Man, cleave, ashamed, subtil, gard, knowing, desired, sewed, fig, leaves, aprons, walking, cool, whereof, gavest, belly, enmity, conception, Thorns, thistles, sweat, tak, coats, clothed, Cherubims, flaming, tiller, firstlings, fallen, crieth, tillest, henceforth, punishment, driven, findeth, whosoever, slayeth, vengeance, mark, finding, Nod, Methusa, Methusael, Jabal, Jubal, handle, organ, instructor, artificer, brass, ir, Naamah, spee, wounding, avenged, En, book, Male, begotten, Eno\n"
     ]
    }
   ],
   "source": [
    "ha = dist.hapaxes()\n",
    "print(', '.join(ha[:100]))"
   ]
  },
  {
   "cell_type": "code",
   "execution_count": 22,
   "metadata": {
    "collapsed": false
   },
   "outputs": [
    {
     "name": "stdout",
     "output_type": "stream",
     "text": [
      "Displaying 1 of 1 matches:\n",
      " And the days of Adam after he had begotten Seth were eight hundred yea and he\n"
     ]
    }
   ],
   "source": [
    "text3.concordance(\"begotten\")"
   ]
  },
  {
   "cell_type": "code",
   "execution_count": 23,
   "metadata": {
    "collapsed": false
   },
   "outputs": [],
   "source": [
    "long_words = [word for word in set(text3) if len(word) > 12]"
   ]
  },
  {
   "cell_type": "code",
   "execution_count": 24,
   "metadata": {
    "collapsed": false
   },
   "outputs": [
    {
     "data": {
      "text/plain": [
       "['womenservants',\n",
       " 'interpretations',\n",
       " 'Jegarsahadutha',\n",
       " 'interpretation',\n",
       " 'threshingfloor',\n",
       " 'uncircumcised',\n",
       " 'EleloheIsrael',\n",
       " 'plenteousness',\n",
       " 'sheepshearers',\n",
       " 'Zaphnathpaaneah',\n",
       " 'righteousness']"
      ]
     },
     "execution_count": 24,
     "metadata": {},
     "output_type": "execute_result"
    }
   ],
   "source": [
    "long_words"
   ]
  },
  {
   "cell_type": "code",
   "execution_count": 25,
   "metadata": {
    "collapsed": true
   },
   "outputs": [],
   "source": [
    "long_frequent_words = [word for word in set(text3) if len(word) > 5 and dist[word] > 10]"
   ]
  },
  {
   "cell_type": "code",
   "execution_count": 26,
   "metadata": {
    "collapsed": false
   },
   "outputs": [
    {
     "name": "stdout",
     "output_type": "stream",
     "text": [
      "Abimelech, Abraham, Because, Beersheba, Behold, Benjamin, Bethel, Canaan, Egyptians, Ephraim, Ephron, Ishmael, Israel, Joseph, Pharaoh, Rachel, Rebekah, Reuben, Shechem, Therefore, Wherefore, according, against, another, answered, became, because, before, behold, between, blessed, blessing, bought, brethren, brother, brought, buried, called, camels, cannot, cattle, children, circumcised, commanded, conceived, country, covenant, created, daughter, daughters, departed, destroy, digged, dreamed, famine, father, favoured, firstborn, flocks, fruitful, garden, gathered, generations, ground, heaven, himself, hundred, lifted, little, living, looked, master, morning, mother, multiply, nations, neither, opened, people, pillar, possession, returned, saying, second, servant, servants, should, sister, surely, themselves, thence, therefore, thereof, things, thirty, together, toward, twenty, waters, younger\n"
     ]
    }
   ],
   "source": [
    "print(', '.join(sorted(long_frequent_words)))"
   ]
  },
  {
   "cell_type": "code",
   "execution_count": 27,
   "metadata": {
    "collapsed": false
   },
   "outputs": [
    {
     "name": "stdout",
     "output_type": "stream",
     "text": [
      "said unto; pray thee; thou shalt; thou hast; thy seed; years old;\n",
      "spake unto; thou art; LORD God; every living; God hath; begat sons;\n",
      "seven years; shalt thou; little ones; living creature; creeping thing;\n",
      "savoury meat; thirty years; every beast\n"
     ]
    }
   ],
   "source": [
    "text3.collocations()"
   ]
  },
  {
   "cell_type": "code",
   "execution_count": 28,
   "metadata": {
    "collapsed": false
   },
   "outputs": [
    {
     "name": "stdout",
     "output_type": "stream",
     "text": [
      "United States; fellow citizens; four years; years ago; Federal\n",
      "Government; General Government; American people; Vice President; Old\n",
      "World; Almighty God; Fellow citizens; Chief Magistrate; Chief Justice;\n",
      "God bless; every citizen; Indian tribes; public debt; one another;\n",
      "foreign nations; political parties\n"
     ]
    }
   ],
   "source": [
    "text4.collocations()"
   ]
  },
  {
   "cell_type": "code",
   "execution_count": 29,
   "metadata": {
    "collapsed": false
   },
   "outputs": [
    {
     "data": {
      "text/plain": [
       "list"
      ]
     },
     "execution_count": 29,
     "metadata": {},
     "output_type": "execute_result"
    }
   ],
   "source": [
    "type(_)"
   ]
  },
  {
   "cell_type": "code",
   "execution_count": null,
   "metadata": {
    "collapsed": true
   },
   "outputs": [],
   "source": []
  },
  {
   "cell_type": "code",
   "execution_count": null,
   "metadata": {
    "collapsed": false
   },
   "outputs": [],
   "source": []
  },
  {
   "cell_type": "code",
   "execution_count": null,
   "metadata": {
    "collapsed": true
   },
   "outputs": [],
   "source": []
  }
 ],
 "metadata": {
  "kernelspec": {
   "display_name": "Python 3",
   "language": "python",
   "name": "python3"
  },
  "language_info": {
   "codemirror_mode": {
    "name": "ipython",
    "version": 3
   },
   "file_extension": ".py",
   "mimetype": "text/x-python",
   "name": "python",
   "nbconvert_exporter": "python",
   "pygments_lexer": "ipython3",
   "version": "3.6.0"
  }
 },
 "nbformat": 4,
 "nbformat_minor": 2
}
