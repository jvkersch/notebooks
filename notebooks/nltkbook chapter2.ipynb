{
 "cells": [
  {
   "cell_type": "code",
   "execution_count": 1,
   "metadata": {
    "collapsed": true
   },
   "outputs": [],
   "source": [
    "%matplotlib inline"
   ]
  },
  {
   "cell_type": "code",
   "execution_count": 2,
   "metadata": {
    "collapsed": false
   },
   "outputs": [],
   "source": [
    "import matplotlib\n",
    "\n",
    "matplotlib.rcParams['figure.figsize'] = (20, 10)"
   ]
  },
  {
   "cell_type": "code",
   "execution_count": null,
   "metadata": {
    "collapsed": false
   },
   "outputs": [],
   "source": []
  },
  {
   "cell_type": "code",
   "execution_count": 3,
   "metadata": {
    "collapsed": true
   },
   "outputs": [],
   "source": [
    "import nltk"
   ]
  },
  {
   "cell_type": "code",
   "execution_count": 4,
   "metadata": {
    "collapsed": false
   },
   "outputs": [
    {
     "data": {
      "text/plain": [
       "['austen-emma.txt',\n",
       " 'austen-persuasion.txt',\n",
       " 'austen-sense.txt',\n",
       " 'bible-kjv.txt',\n",
       " 'blake-poems.txt',\n",
       " 'bryant-stories.txt',\n",
       " 'burgess-busterbrown.txt',\n",
       " 'carroll-alice.txt',\n",
       " 'chesterton-ball.txt',\n",
       " 'chesterton-brown.txt',\n",
       " 'chesterton-thursday.txt',\n",
       " 'edgeworth-parents.txt',\n",
       " 'melville-moby_dick.txt',\n",
       " 'milton-paradise.txt',\n",
       " 'shakespeare-caesar.txt',\n",
       " 'shakespeare-hamlet.txt',\n",
       " 'shakespeare-macbeth.txt',\n",
       " 'whitman-leaves.txt']"
      ]
     },
     "execution_count": 4,
     "metadata": {},
     "output_type": "execute_result"
    }
   ],
   "source": [
    "nltk.corpus.gutenberg.fileids()"
   ]
  },
  {
   "cell_type": "code",
   "execution_count": 5,
   "metadata": {
    "collapsed": true
   },
   "outputs": [],
   "source": [
    "emma = nltk.corpus.gutenberg.words('austen-emma.txt')"
   ]
  },
  {
   "cell_type": "code",
   "execution_count": 6,
   "metadata": {
    "collapsed": false
   },
   "outputs": [
    {
     "data": {
      "text/plain": [
       "nltk.corpus.reader.util.StreamBackedCorpusView"
      ]
     },
     "execution_count": 6,
     "metadata": {},
     "output_type": "execute_result"
    }
   ],
   "source": [
    "type(emma)"
   ]
  },
  {
   "cell_type": "code",
   "execution_count": 7,
   "metadata": {
    "collapsed": false
   },
   "outputs": [
    {
     "data": {
      "text/plain": [
       "['[', 'Emma', 'by', 'Jane', 'Austen', '1816', ']', ...]"
      ]
     },
     "execution_count": 7,
     "metadata": {},
     "output_type": "execute_result"
    }
   ],
   "source": [
    "emma"
   ]
  },
  {
   "cell_type": "code",
   "execution_count": 8,
   "metadata": {
    "collapsed": true
   },
   "outputs": [],
   "source": [
    "emma_text = nltk.Text(emma)"
   ]
  },
  {
   "cell_type": "code",
   "execution_count": 9,
   "metadata": {
    "collapsed": false
   },
   "outputs": [
    {
     "name": "stdout",
     "output_type": "stream",
     "text": [
      "Displaying 25 of 37 matches:\n",
      "er father , was sometimes taken by surprize at his being still able to pity ` \n",
      "hem do the other any good .\" \" You surprize me ! Emma must do Harriet good : a\n",
      "Knightley actually looked red with surprize and displeasure , as he stood up ,\n",
      "r . Elton , and found to his great surprize , that Mr . Elton was actually on \n",
      "d aid .\" Emma saw Mrs . Weston ' s surprize , and felt that it must be great ,\n",
      "father was quite taken up with the surprize of so sudden a journey , and his f\n",
      "y , in all the favouring warmth of surprize and conjecture . She was , moreove\n",
      "he appeared , to have her share of surprize , introduction , and pleasure . Th\n",
      "ir plans ; and it was an agreeable surprize to her , therefore , to perceive t\n",
      "talking aunt had taken me quite by surprize , it must have been the death of m\n",
      "f all the dialogue which ensued of surprize , and inquiry , and congratulation\n",
      " the present . They might chuse to surprize her .\" Mrs . Cole had many to agre\n",
      "the mode of it , the mystery , the surprize , is more like a young woman ' s s\n",
      " to her song took her agreeably by surprize -- a second , slightly but correct\n",
      "\" \" Oh ! no -- there is nothing to surprize one at all .-- A pretty fortune ; \n",
      "t to be considered . Emma ' s only surprize was that Jane Fairfax should accep\n",
      "of your admiration may take you by surprize some day or other .\" Mr . Knightle\n",
      "ation for her will ever take me by surprize .-- I never had a thought of her i\n",
      " expected by the best judges , for surprize -- but there was great joy . Mr . \n",
      " sound of at first , without great surprize . \" So unreasonably early !\" she w\n",
      "d Frank Churchill , with a look of surprize and displeasure .-- \" That is easy\n",
      "; and Emma could imagine with what surprize and mortification she must be retu\n",
      "tled that Jane should go . Quite a surprize to me ! I had not the least idea !\n",
      " . It is impossible to express our surprize . He came to speak to his father o\n",
      "g engaged !\" Emma even jumped with surprize ;-- and , horror - struck , exclai\n"
     ]
    }
   ],
   "source": [
    "emma_text.concordance(\"surprize\")"
   ]
  },
  {
   "cell_type": "code",
   "execution_count": 10,
   "metadata": {
    "collapsed": false
   },
   "outputs": [
    {
     "name": "stdout",
     "output_type": "stream",
     "text": [
      "she it he i harriet you her jane him that me and all they them herself\n",
      "there but be isabella\n"
     ]
    }
   ],
   "source": [
    "emma_text.similar(\"Emma\")"
   ]
  },
  {
   "cell_type": "code",
   "execution_count": 11,
   "metadata": {
    "collapsed": false
   },
   "outputs": [
    {
     "data": {
      "image/png": "[encoded data removed]",
      "text/plain": [
       "<matplotlib.figure.Figure at 0x117cff470>"
      ]
     },
     "metadata": {},
     "output_type": "display_data"
    }
   ],
   "source": [
    "emma_text.dispersion_plot([\"Emma\", \"Jane\", \"Harriet\"])"
   ]
  },
  {
   "cell_type": "code",
   "execution_count": 12,
   "metadata": {
    "collapsed": true
   },
   "outputs": [],
   "source": [
    "from nltk.corpus import brown"
   ]
  },
  {
   "cell_type": "code",
   "execution_count": 13,
   "metadata": {
    "collapsed": false
   },
   "outputs": [
    {
     "data": {
      "text/plain": [
       "['adventure',\n",
       " 'belles_lettres',\n",
       " 'editorial',\n",
       " 'fiction',\n",
       " 'government',\n",
       " 'hobbies',\n",
       " 'humor',\n",
       " 'learned',\n",
       " 'lore',\n",
       " 'mystery',\n",
       " 'news',\n",
       " 'religion',\n",
       " 'reviews',\n",
       " 'romance',\n",
       " 'science_fiction']"
      ]
     },
     "execution_count": 13,
     "metadata": {},
     "output_type": "execute_result"
    }
   ],
   "source": [
    "brown.categories()"
   ]
  },
  {
   "cell_type": "code",
   "execution_count": 14,
   "metadata": {
    "collapsed": false
   },
   "outputs": [
    {
     "data": {
      "text/plain": [
       "[['Now', 'that', 'he', 'knew', 'himself', 'to', 'be', 'self', 'he', 'was', 'free', 'to', 'grok', 'ever', 'closer', 'to', 'his', 'brothers', ',', 'merge', 'without', 'let', '.'], [\"Self's\", 'integrity', 'was', 'and', 'is', 'and', 'ever', 'had', 'been', '.'], ...]"
      ]
     },
     "execution_count": 14,
     "metadata": {},
     "output_type": "execute_result"
    }
   ],
   "source": [
    "brown.sents(categories=['science_fiction'])"
   ]
  },
  {
   "cell_type": "code",
   "execution_count": 15,
   "metadata": {
    "collapsed": false
   },
   "outputs": [],
   "source": [
    "words = ['what', 'when', 'who', 'why', 'where']\n",
    "\n",
    "def list_word_frequencies(words, category):\n",
    "    print(\"Category: {}\".format(category))\n",
    "    news_text = brown.words(categories=[category])\n",
    "    dist = nltk.FreqDist(news_text)\n",
    "    for word in words:\n",
    "        print(\"{:10}: {:.5f}%\".format(word, 100*dist[word]/len(news_text)))"
   ]
  },
  {
   "cell_type": "code",
   "execution_count": 16,
   "metadata": {
    "collapsed": false
   },
   "outputs": [
    {
     "name": "stdout",
     "output_type": "stream",
     "text": [
      "Category: news\n",
      "what      : 0.07558%\n",
      "when      : 0.12729%\n",
      "who       : 0.26652%\n",
      "why       : 0.00895%\n",
      "where     : 0.05768%\n"
     ]
    }
   ],
   "source": [
    "list_word_frequencies(words, 'news')"
   ]
  },
  {
   "cell_type": "code",
   "execution_count": 17,
   "metadata": {
    "collapsed": false
   },
   "outputs": [
    {
     "name": "stdout",
     "output_type": "stream",
     "text": [
      "Category: government\n",
      "what      : 0.06133%\n",
      "when      : 0.07987%\n",
      "who       : 0.10554%\n",
      "why       : 0.00856%\n",
      "where     : 0.06560%\n"
     ]
    }
   ],
   "source": [
    "list_word_frequencies(words, 'government')"
   ]
  },
  {
   "cell_type": "code",
   "execution_count": 18,
   "metadata": {
    "collapsed": false
   },
   "outputs": [],
   "source": [
    "cfd = nltk.ConditionalFreqDist((genre, word)\n",
    "                               for genre in brown.categories()\n",
    "                               for word in brown.words(categories=genre))"
   ]
  },
  {
   "cell_type": "code",
   "execution_count": 19,
   "metadata": {
    "collapsed": false
   },
   "outputs": [
    {
     "name": "stdout",
     "output_type": "stream",
     "text": [
      "                  can could   may might  must  will \n",
      "           news    93    86    66    38    50   389 \n",
      "       religion    82    59    78    12    54    71 \n",
      "        hobbies   268    58   131    22    83   264 \n",
      "science_fiction    16    49     4    12     8    16 \n",
      "        romance    74   193    11    51    45    43 \n",
      "          humor    16    30     8     8     9    13 \n"
     ]
    }
   ],
   "source": [
    "genres = ['news', 'religion', 'hobbies', 'science_fiction', 'romance', 'humor']\n",
    "modals = ['can', 'could', 'may', 'might', 'must', 'will']\n",
    "cfd.tabulate(conditions=genres, samples=modals)"
   ]
  },
  {
   "cell_type": "code",
   "execution_count": 20,
   "metadata": {
    "collapsed": true
   },
   "outputs": [],
   "source": [
    "from nltk.corpus import reuters"
   ]
  },
  {
   "cell_type": "code",
   "execution_count": 21,
   "metadata": {
    "collapsed": false
   },
   "outputs": [
    {
     "name": "stdout",
     "output_type": "stream",
     "text": [
      "10788\n",
      "['test/14826', 'test/14828', 'test/14829', 'test/14832', 'test/14833']\n"
     ]
    }
   ],
   "source": [
    "fids = reuters.fileids()\n",
    "print(len(fids))\n",
    "print(fids[:5])"
   ]
  },
  {
   "cell_type": "code",
   "execution_count": 22,
   "metadata": {
    "collapsed": false
   },
   "outputs": [
    {
     "data": {
      "text/plain": [
       "['test/15618',\n",
       " 'test/15649',\n",
       " 'test/15676',\n",
       " 'test/15728',\n",
       " 'test/15871',\n",
       " 'test/15875',\n",
       " 'test/15952',\n",
       " 'test/17767',\n",
       " 'test/17769',\n",
       " 'test/18024',\n",
       " 'test/18263',\n",
       " 'test/18908',\n",
       " 'test/19275',\n",
       " 'test/19668',\n",
       " 'training/10175',\n",
       " 'training/1067',\n",
       " 'training/11208',\n",
       " 'training/11316',\n",
       " 'training/11885',\n",
       " 'training/12428',\n",
       " 'training/13099',\n",
       " 'training/13744',\n",
       " 'training/13795',\n",
       " 'training/13852',\n",
       " 'training/13856',\n",
       " 'training/1652',\n",
       " 'training/1970',\n",
       " 'training/2044',\n",
       " 'training/2171',\n",
       " 'training/2172',\n",
       " 'training/2191',\n",
       " 'training/2217',\n",
       " 'training/2232',\n",
       " 'training/3132',\n",
       " 'training/3324',\n",
       " 'training/395',\n",
       " 'training/4280',\n",
       " 'training/4296',\n",
       " 'training/5',\n",
       " 'training/501',\n",
       " 'training/5467',\n",
       " 'training/5610',\n",
       " 'training/5640',\n",
       " 'training/6626',\n",
       " 'training/7205',\n",
       " 'training/7579',\n",
       " 'training/8213',\n",
       " 'training/8257',\n",
       " 'training/8759',\n",
       " 'training/9865',\n",
       " 'training/9958']"
      ]
     },
     "execution_count": 22,
     "metadata": {},
     "output_type": "execute_result"
    }
   ],
   "source": [
    "reuters.fileids(\"barley\")"
   ]
  },
  {
   "cell_type": "code",
   "execution_count": 23,
   "metadata": {
    "collapsed": true
   },
   "outputs": [],
   "source": [
    "from nltk.corpus import inaugural"
   ]
  },
  {
   "cell_type": "code",
   "execution_count": 24,
   "metadata": {
    "collapsed": true
   },
   "outputs": [],
   "source": [
    "cfd = nltk.ConditionalFreqDist(\n",
    "    (target, fileid[:4])\n",
    "    for fileid in inaugural.fileids()\n",
    "    for word in inaugural.words(fileid)\n",
    "    for target in ('america', 'citizen', 'war')\n",
    "    if word.lower().startswith(target)\n",
    ")"
   ]
  },
  {
   "cell_type": "code",
   "execution_count": 25,
   "metadata": {
    "collapsed": false
   },
   "outputs": [
    {
     "data": {
      "image/png": "[encoded data removed]",
      "text/plain": [
       "<matplotlib.figure.Figure at 0x122670da0>"
      ]
     },
     "metadata": {},
     "output_type": "display_data"
    }
   ],
   "source": [
    "cfd.plot()"
   ]
  },
  {
   "cell_type": "code",
   "execution_count": 26,
   "metadata": {
    "collapsed": false
   },
   "outputs": [
    {
     "data": {
      "image/png": "[encoded data removed]",
      "text/plain": [
       "<matplotlib.figure.Figure at 0x12267b400>"
      ]
     },
     "metadata": {},
     "output_type": "display_data"
    }
   ],
   "source": [
    "words = nltk.corpus.udhr.words('Korean_Hankuko-UTF8')\n",
    "dist = nltk.FreqDist(words)\n",
    "dist.plot(50, cumulative=True)"
   ]
  },
  {
   "cell_type": "code",
   "execution_count": 27,
   "metadata": {
    "collapsed": false
   },
   "outputs": [],
   "source": [
    "from nltk.corpus import brown"
   ]
  },
  {
   "cell_type": "code",
   "execution_count": 28,
   "metadata": {
    "collapsed": false
   },
   "outputs": [],
   "source": [
    "cfd = nltk.ConditionalFreqDist(\n",
    "    (genre, word)\n",
    "    for genre in brown.categories()\n",
    "    for word in brown.words(categories=genre)\n",
    ")"
   ]
  },
  {
   "cell_type": "code",
   "execution_count": 29,
   "metadata": {
    "collapsed": false
   },
   "outputs": [
    {
     "data": {
      "text/plain": [
       "['adventure',\n",
       " 'belles_lettres',\n",
       " 'editorial',\n",
       " 'fiction',\n",
       " 'government',\n",
       " 'hobbies',\n",
       " 'humor',\n",
       " 'learned',\n",
       " 'lore',\n",
       " 'mystery',\n",
       " 'news',\n",
       " 'religion',\n",
       " 'reviews',\n",
       " 'romance',\n",
       " 'science_fiction']"
      ]
     },
     "execution_count": 29,
     "metadata": {},
     "output_type": "execute_result"
    }
   ],
   "source": [
    "cfd.conditions()"
   ]
  },
  {
   "cell_type": "code",
   "execution_count": 30,
   "metadata": {
    "collapsed": false
   },
   "outputs": [
    {
     "data": {
      "text/plain": [
       "FreqDist({'The': 806,\n",
       "          'Fulton': 14,\n",
       "          'County': 35,\n",
       "          'Grand': 6,\n",
       "          'Jury': 2,\n",
       "          'said': 402,\n",
       "          'Friday': 41,\n",
       "          'an': 300,\n",
       "          'investigation': 9,\n",
       "          'of': 2849,\n",
       "          \"Atlanta's\": 4,\n",
       "          'recent': 20,\n",
       "          'primary': 17,\n",
       "          'election': 38,\n",
       "          'produced': 6,\n",
       "          '``': 732,\n",
       "          'no': 109,\n",
       "          'evidence': 17,\n",
       "          \"''\": 702,\n",
       "          'that': 802,\n",
       "          'any': 90,\n",
       "          'irregularities': 3,\n",
       "          'took': 47,\n",
       "          'place': 25,\n",
       "          '.': 4030,\n",
       "          'jury': 44,\n",
       "          'further': 16,\n",
       "          'in': 1893,\n",
       "          'term-end': 1,\n",
       "          'presentments': 1,\n",
       "          'the': 5580,\n",
       "          'City': 44,\n",
       "          'Executive': 6,\n",
       "          'Committee': 37,\n",
       "          ',': 5188,\n",
       "          'which': 244,\n",
       "          'had': 279,\n",
       "          'over-all': 2,\n",
       "          'charge': 17,\n",
       "          'deserves': 3,\n",
       "          'praise': 2,\n",
       "          'and': 2146,\n",
       "          'thanks': 6,\n",
       "          'Atlanta': 14,\n",
       "          'for': 943,\n",
       "          'manner': 7,\n",
       "          'was': 717,\n",
       "          'conducted': 8,\n",
       "          'September-October': 1,\n",
       "          'term': 13,\n",
       "          'been': 212,\n",
       "          'charged': 12,\n",
       "          'by': 497,\n",
       "          'Superior': 5,\n",
       "          'Court': 26,\n",
       "          'Judge': 28,\n",
       "          'Durwood': 1,\n",
       "          'Pye': 1,\n",
       "          'to': 2116,\n",
       "          'investigate': 3,\n",
       "          'reports': 12,\n",
       "          'possible': 28,\n",
       "          'hard-fought': 1,\n",
       "          'won': 24,\n",
       "          'Mayor-nominate': 1,\n",
       "          'Ivan': 2,\n",
       "          'Allen': 7,\n",
       "          'Jr.': 46,\n",
       "          'Only': 8,\n",
       "          'a': 1993,\n",
       "          'relative': 3,\n",
       "          'handful': 1,\n",
       "          'such': 70,\n",
       "          'received': 33,\n",
       "          'considering': 2,\n",
       "          'widespread': 4,\n",
       "          'interest': 32,\n",
       "          'number': 32,\n",
       "          'voters': 12,\n",
       "          'size': 8,\n",
       "          'this': 250,\n",
       "          'city': 49,\n",
       "          'it': 363,\n",
       "          'did': 63,\n",
       "          'find': 16,\n",
       "          'many': 60,\n",
       "          \"Georgia's\": 7,\n",
       "          'registration': 2,\n",
       "          'laws': 30,\n",
       "          'are': 328,\n",
       "          'outmoded': 1,\n",
       "          'or': 173,\n",
       "          'inadequate': 4,\n",
       "          'often': 14,\n",
       "          'ambiguous': 1,\n",
       "          'It': 115,\n",
       "          'recommended': 9,\n",
       "          'legislators': 8,\n",
       "          'act': 20,\n",
       "          'have': 265,\n",
       "          'these': 59,\n",
       "          'studied': 7,\n",
       "          'revised': 2,\n",
       "          'end': 29,\n",
       "          'modernizing': 1,\n",
       "          'improving': 4,\n",
       "          'them': 96,\n",
       "          'grand': 13,\n",
       "          'commented': 7,\n",
       "          'on': 657,\n",
       "          'other': 149,\n",
       "          'topics': 2,\n",
       "          'among': 24,\n",
       "          'purchasing': 3,\n",
       "          'departments': 2,\n",
       "          'well': 43,\n",
       "          'operated': 4,\n",
       "          'follow': 12,\n",
       "          'generally': 14,\n",
       "          'accepted': 4,\n",
       "          'practices': 7,\n",
       "          'inure': 1,\n",
       "          'best': 29,\n",
       "          'both': 56,\n",
       "          'governments': 5,\n",
       "          'Merger': 1,\n",
       "          'proposed': 18,\n",
       "          'However': 12,\n",
       "          'believes': 8,\n",
       "          'two': 157,\n",
       "          'offices': 4,\n",
       "          'should': 59,\n",
       "          'be': 526,\n",
       "          'combined': 9,\n",
       "          'achieve': 6,\n",
       "          'greater': 10,\n",
       "          'efficiency': 2,\n",
       "          'reduce': 8,\n",
       "          'cost': 15,\n",
       "          'administration': 52,\n",
       "          'Purchasing': 1,\n",
       "          'Department': 20,\n",
       "          'is': 732,\n",
       "          'lacking': 3,\n",
       "          'experienced': 4,\n",
       "          'clerical': 4,\n",
       "          'personnel': 11,\n",
       "          'as': 481,\n",
       "          'result': 30,\n",
       "          'policies': 8,\n",
       "          'urged': 11,\n",
       "          'take': 48,\n",
       "          'steps': 8,\n",
       "          'remedy': 1,\n",
       "          'problem': 39,\n",
       "          'Implementation': 1,\n",
       "          'automobile': 4,\n",
       "          'title': 3,\n",
       "          'law': 38,\n",
       "          'also': 120,\n",
       "          'outgoing': 3,\n",
       "          'next': 40,\n",
       "          'Legislature': 19,\n",
       "          'provide': 24,\n",
       "          'enabling': 5,\n",
       "          'funds': 28,\n",
       "          're-set': 1,\n",
       "          'effective': 15,\n",
       "          'date': 16,\n",
       "          'so': 67,\n",
       "          'orderly': 3,\n",
       "          'implementation': 1,\n",
       "          'may': 66,\n",
       "          'effected': 1,\n",
       "          'swipe': 1,\n",
       "          'at': 598,\n",
       "          'State': 63,\n",
       "          'Welfare': 3,\n",
       "          \"Department's\": 2,\n",
       "          'handling': 3,\n",
       "          'federal': 35,\n",
       "          'granted': 5,\n",
       "          'child': 9,\n",
       "          'welfare': 13,\n",
       "          'services': 18,\n",
       "          'foster': 1,\n",
       "          'homes': 9,\n",
       "          'This': 70,\n",
       "          'one': 184,\n",
       "          'major': 28,\n",
       "          'items': 4,\n",
       "          'general': 29,\n",
       "          'assistance': 8,\n",
       "          'program': 66,\n",
       "          'but': 174,\n",
       "          'has': 300,\n",
       "          'seen': 7,\n",
       "          'fit': 3,\n",
       "          'distribute': 2,\n",
       "          'through': 54,\n",
       "          'all': 163,\n",
       "          'counties': 13,\n",
       "          'state': 90,\n",
       "          'with': 545,\n",
       "          'exception': 4,\n",
       "          'receives': 1,\n",
       "          'none': 7,\n",
       "          'money': 29,\n",
       "          'jurors': 4,\n",
       "          'they': 205,\n",
       "          'realize': 4,\n",
       "          'proportionate': 1,\n",
       "          'distribution': 7,\n",
       "          'might': 38,\n",
       "          'disable': 1,\n",
       "          'our': 55,\n",
       "          'less': 10,\n",
       "          'populous': 3,\n",
       "          'Nevertheless': 1,\n",
       "          'we': 77,\n",
       "          'feel': 19,\n",
       "          'future': 25,\n",
       "          'receive': 15,\n",
       "          'some': 95,\n",
       "          'portion': 2,\n",
       "          'available': 10,\n",
       "          'Failure': 2,\n",
       "          'do': 63,\n",
       "          'will': 389,\n",
       "          'continue': 11,\n",
       "          'disproportionate': 1,\n",
       "          'burden': 2,\n",
       "          'taxpayers': 5,\n",
       "          \"ordinary's\": 1,\n",
       "          'court': 29,\n",
       "          'under': 83,\n",
       "          'fire': 21,\n",
       "          'its': 174,\n",
       "          'appointment': 8,\n",
       "          'appraisers': 1,\n",
       "          'guardians': 2,\n",
       "          'administrators': 1,\n",
       "          'awarding': 1,\n",
       "          'fees': 13,\n",
       "          'compensation': 4,\n",
       "          'Wards': 1,\n",
       "          'protected': 1,\n",
       "          'found': 30,\n",
       "          'incorporated': 1,\n",
       "          'into': 114,\n",
       "          'operating': 4,\n",
       "          'procedures': 5,\n",
       "          'recommendations': 6,\n",
       "          'previous': 11,\n",
       "          'juries': 1,\n",
       "          'Bar': 2,\n",
       "          'Association': 18,\n",
       "          'interim': 2,\n",
       "          'citizens': 6,\n",
       "          'committee': 38,\n",
       "          'These': 11,\n",
       "          'actions': 6,\n",
       "          'serve': 7,\n",
       "          'protect': 2,\n",
       "          'fact': 25,\n",
       "          'effect': 17,\n",
       "          \"court's\": 1,\n",
       "          'wards': 1,\n",
       "          'from': 344,\n",
       "          'undue': 2,\n",
       "          'costs': 18,\n",
       "          'appointed': 6,\n",
       "          'elected': 11,\n",
       "          'servants': 5,\n",
       "          'unmeritorious': 1,\n",
       "          'criticisms': 2,\n",
       "          'Regarding': 1,\n",
       "          'new': 148,\n",
       "          'multi-million-dollar': 1,\n",
       "          'airport': 3,\n",
       "          'when': 128,\n",
       "          'management': 6,\n",
       "          'takes': 7,\n",
       "          'Jan.': 15,\n",
       "          '1': 47,\n",
       "          'eliminate': 5,\n",
       "          'political': 27,\n",
       "          'influences': 1,\n",
       "          'not': 254,\n",
       "          'elaborate': 3,\n",
       "          'added': 33,\n",
       "          'there': 131,\n",
       "          'periodic': 1,\n",
       "          'surveillance': 1,\n",
       "          'pricing': 3,\n",
       "          'concessionaires': 1,\n",
       "          'purpose': 9,\n",
       "          'keeping': 4,\n",
       "          'prices': 19,\n",
       "          'reasonable': 2,\n",
       "          'Ask': 1,\n",
       "          'jail': 6,\n",
       "          'deputies': 3,\n",
       "          'On': 34,\n",
       "          'matters': 3,\n",
       "          ':': 149,\n",
       "          '(': 168,\n",
       "          ')': 171,\n",
       "          'Four': 9,\n",
       "          'additional': 14,\n",
       "          'employed': 5,\n",
       "          'Jail': 2,\n",
       "          'doctor': 3,\n",
       "          'medical': 18,\n",
       "          'intern': 1,\n",
       "          'extern': 1,\n",
       "          'night': 64,\n",
       "          'weekend': 12,\n",
       "          'duty': 2,\n",
       "          '2': 33,\n",
       "          'work': 66,\n",
       "          'officials': 12,\n",
       "          'pass': 15,\n",
       "          'legislation': 14,\n",
       "          'permit': 6,\n",
       "          'establishment': 7,\n",
       "          'fair': 10,\n",
       "          'equitable': 1,\n",
       "          'pension': 5,\n",
       "          'plan': 45,\n",
       "          'employes': 9,\n",
       "          'praised': 3,\n",
       "          'operation': 15,\n",
       "          'Police': 9,\n",
       "          'Tax': 5,\n",
       "          \"Commissioner's\": 1,\n",
       "          'Office': 4,\n",
       "          'Bellwood': 1,\n",
       "          'Alpharetta': 1,\n",
       "          'prison': 7,\n",
       "          'farms': 3,\n",
       "          'Grady': 5,\n",
       "          'Hospital': 21,\n",
       "          'Health': 5,\n",
       "          'Mayor': 17,\n",
       "          'William': 36,\n",
       "          'B.': 31,\n",
       "          'Hartsfield': 5,\n",
       "          'filed': 7,\n",
       "          'suit': 6,\n",
       "          'divorce': 3,\n",
       "          'his': 399,\n",
       "          'wife': 35,\n",
       "          'Pearl': 1,\n",
       "          'Williams': 14,\n",
       "          'His': 29,\n",
       "          'petition': 6,\n",
       "          'mental': 1,\n",
       "          'cruelty': 1,\n",
       "          'couple': 13,\n",
       "          'married': 8,\n",
       "          'Aug.': 8,\n",
       "          '1913': 2,\n",
       "          'They': 62,\n",
       "          'son': 22,\n",
       "          'Berry': 5,\n",
       "          'daughter': 26,\n",
       "          'Mrs.': 253,\n",
       "          'J.': 42,\n",
       "          'M.': 22,\n",
       "          'Cheshire': 1,\n",
       "          'Griffin': 2,\n",
       "          'Attorneys': 2,\n",
       "          'mayor': 2,\n",
       "          'amicable': 1,\n",
       "          'property': 16,\n",
       "          'settlement': 3,\n",
       "          'agreed': 15,\n",
       "          'upon': 23,\n",
       "          'listed': 10,\n",
       "          \"mayor's\": 4,\n",
       "          'occupation': 4,\n",
       "          'attorney': 17,\n",
       "          'age': 11,\n",
       "          '71': 4,\n",
       "          \"wife's\": 1,\n",
       "          '74': 3,\n",
       "          'birth': 5,\n",
       "          'Opelika': 1,\n",
       "          'Ala.': 7,\n",
       "          'lived': 3,\n",
       "          'together': 27,\n",
       "          'man': 72,\n",
       "          'more': 171,\n",
       "          'than': 138,\n",
       "          'year': 138,\n",
       "          'home': 127,\n",
       "          '637': 1,\n",
       "          'E.': 34,\n",
       "          'Pelham': 5,\n",
       "          'Rd.': 3,\n",
       "          'Aj': 14,\n",
       "          'Henry': 18,\n",
       "          'L.': 25,\n",
       "          'Bowden': 2,\n",
       "          'brief': 2,\n",
       "          'interlude': 1,\n",
       "          'since': 61,\n",
       "          '1937': 2,\n",
       "          'career': 10,\n",
       "          'goes': 5,\n",
       "          'back': 69,\n",
       "          'council': 19,\n",
       "          '1923': 2,\n",
       "          'present': 30,\n",
       "          'office': 24,\n",
       "          'expires': 1,\n",
       "          'He': 191,\n",
       "          'succeeded': 3,\n",
       "          'who': 268,\n",
       "          'became': 20,\n",
       "          'candidate': 17,\n",
       "          'Sept.': 6,\n",
       "          '13': 16,\n",
       "          'after': 127,\n",
       "          'announced': 37,\n",
       "          'he': 451,\n",
       "          'would': 244,\n",
       "          'run': 35,\n",
       "          'reelection': 1,\n",
       "          'Georgia': 18,\n",
       "          'Republicans': 15,\n",
       "          'getting': 17,\n",
       "          'strong': 13,\n",
       "          'encouragement': 5,\n",
       "          'enter': 5,\n",
       "          '1962': 5,\n",
       "          \"governor's\": 4,\n",
       "          'race': 20,\n",
       "          'top': 34,\n",
       "          'official': 16,\n",
       "          'Wednesday': 22,\n",
       "          'Robert': 28,\n",
       "          'Snodgrass': 1,\n",
       "          'GOP': 5,\n",
       "          'chairman': 35,\n",
       "          'meeting': 62,\n",
       "          'held': 41,\n",
       "          'Tuesday': 43,\n",
       "          'Blue': 11,\n",
       "          'Ridge': 3,\n",
       "          'brought': 21,\n",
       "          'enthusiastic': 3,\n",
       "          'responses': 1,\n",
       "          'audience': 12,\n",
       "          'Party': 9,\n",
       "          'Chairman': 8,\n",
       "          'James': 37,\n",
       "          'W.': 38,\n",
       "          'Dorsey': 1,\n",
       "          'enthusiasm': 3,\n",
       "          'picking': 1,\n",
       "          'up': 168,\n",
       "          'rally': 3,\n",
       "          '8': 22,\n",
       "          'Savannah': 1,\n",
       "          'newly': 6,\n",
       "          'Texas': 48,\n",
       "          'Sen.': 18,\n",
       "          'John': 65,\n",
       "          'Tower': 1,\n",
       "          'featured': 3,\n",
       "          'speaker': 4,\n",
       "          'In': 127,\n",
       "          'warned': 2,\n",
       "          'entering': 5,\n",
       "          'governor': 13,\n",
       "          'force': 7,\n",
       "          'petitions': 6,\n",
       "          'out': 161,\n",
       "          'voting': 7,\n",
       "          'precincts': 4,\n",
       "          'obtain': 8,\n",
       "          'signatures': 5,\n",
       "          'registered': 2,\n",
       "          'Despite': 5,\n",
       "          'warning': 4,\n",
       "          'unanimous': 2,\n",
       "          'vote': 28,\n",
       "          'according': 23,\n",
       "          'attended': 10,\n",
       "          'When': 41,\n",
       "          'crowd': 8,\n",
       "          'asked': 34,\n",
       "          'whether': 18,\n",
       "          'wanted': 20,\n",
       "          'wait': 4,\n",
       "          'make': 43,\n",
       "          'voted': 9,\n",
       "          '--': 300,\n",
       "          'were': 252,\n",
       "          'dissents': 1,\n",
       "          'largest': 10,\n",
       "          'hurdle': 1,\n",
       "          'face': 19,\n",
       "          'says': 28,\n",
       "          'before': 86,\n",
       "          'making': 25,\n",
       "          'first': 143,\n",
       "          'alternative': 4,\n",
       "          'courses': 5,\n",
       "          'must': 50,\n",
       "          'taken': 30,\n",
       "          'Five': 4,\n",
       "          'per': 61,\n",
       "          'cent': 51,\n",
       "          'each': 61,\n",
       "          'county': 26,\n",
       "          'sign': 9,\n",
       "          'requesting': 1,\n",
       "          'allowed': 8,\n",
       "          'names': 6,\n",
       "          'candidates': 10,\n",
       "          'ballot': 8,\n",
       "          'hold': 10,\n",
       "          'unit': 10,\n",
       "          'system': 47,\n",
       "          'party': 34,\n",
       "          'opposes': 2,\n",
       "          'platform': 2,\n",
       "          'Sam': 13,\n",
       "          'Caldwell': 2,\n",
       "          'Highway': 6,\n",
       "          'public': 51,\n",
       "          'relations': 16,\n",
       "          'director': 30,\n",
       "          'resigned': 5,\n",
       "          'Lt.': 1,\n",
       "          'Gov.': 10,\n",
       "          'Garland': 3,\n",
       "          \"Byrd's\": 1,\n",
       "          'campaign': 17,\n",
       "          \"Caldwell's\": 1,\n",
       "          'resignation': 4,\n",
       "          'expected': 40,\n",
       "          'time': 97,\n",
       "          'Rob': 1,\n",
       "          'Ledford': 1,\n",
       "          'Gainesville': 1,\n",
       "          'assistant': 10,\n",
       "          'three': 97,\n",
       "          'years': 102,\n",
       "          'gubernatorial': 6,\n",
       "          'starts': 9,\n",
       "          'become': 23,\n",
       "          'coordinator': 5,\n",
       "          'Byrd': 1,\n",
       "          'wind': 4,\n",
       "          '1961': 42,\n",
       "          'session': 37,\n",
       "          'Monday': 54,\n",
       "          'head': 24,\n",
       "          'where': 58,\n",
       "          'highway': 7,\n",
       "          'bond': 11,\n",
       "          'approved': 8,\n",
       "          'shortly': 5,\n",
       "          'Before': 7,\n",
       "          'adjournment': 2,\n",
       "          'afternoon': 19,\n",
       "          'Senate': 32,\n",
       "          'approve': 2,\n",
       "          'study': 13,\n",
       "          'allotted': 2,\n",
       "          'rural': 9,\n",
       "          'urban': 4,\n",
       "          'areas': 12,\n",
       "          'determine': 3,\n",
       "          'what': 76,\n",
       "          'adjustments': 2,\n",
       "          'made': 107,\n",
       "          'Vandiver': 4,\n",
       "          'traditional': 8,\n",
       "          'visit': 6,\n",
       "          'chambers': 2,\n",
       "          'toward': 23,\n",
       "          'likely': 7,\n",
       "          'mention': 6,\n",
       "          '$100': 7,\n",
       "          'million': 45,\n",
       "          'issue': 30,\n",
       "          'earlier': 24,\n",
       "          'priority': 4,\n",
       "          'item': 1,\n",
       "          'Construction': 2,\n",
       "          'bonds': 29,\n",
       "          'Meanwhile': 4,\n",
       "          'learned': 7,\n",
       "          'very': 33,\n",
       "          'near': 16,\n",
       "          'being': 56,\n",
       "          'ready': 12,\n",
       "          '$30': 1,\n",
       "          'worth': 15,\n",
       "          'reconstruction': 1,\n",
       "          'go': 41,\n",
       "          'courts': 6,\n",
       "          'friendly': 3,\n",
       "          'test': 15,\n",
       "          'validity': 1,\n",
       "          'then': 56,\n",
       "          'sales': 51,\n",
       "          'begin': 10,\n",
       "          'contracts': 4,\n",
       "          'let': 10,\n",
       "          'repair': 2,\n",
       "          'most': 74,\n",
       "          'heavily': 5,\n",
       "          'traveled': 2,\n",
       "          'highways': 3,\n",
       "          'A': 137,\n",
       "          'source': 7,\n",
       "          '$3': 1,\n",
       "          '$4': 1,\n",
       "          'Rural': 2,\n",
       "          'Roads': 2,\n",
       "          'Authority': 4,\n",
       "          'road': 12,\n",
       "          'construction': 14,\n",
       "          'revolving': 3,\n",
       "          'fund': 12,\n",
       "          'department': 12,\n",
       "          'apparently': 12,\n",
       "          'intends': 1,\n",
       "          'issued': 8,\n",
       "          'every': 25,\n",
       "          'old': 23,\n",
       "          'ones': 8,\n",
       "          'paid': 25,\n",
       "          'off': 73,\n",
       "          'tax': 53,\n",
       "          'authorities': 7,\n",
       "          'opened': 9,\n",
       "          '1958': 19,\n",
       "          'battle': 15,\n",
       "          'against': 78,\n",
       "          'issuance': 2,\n",
       "          '$50': 2,\n",
       "          'roads': 10,\n",
       "          'Marvin': 2,\n",
       "          'told': 53,\n",
       "          'Constitution': 4,\n",
       "          'however': 37,\n",
       "          'consulted': 4,\n",
       "          'yet': 10,\n",
       "          'about': 136,\n",
       "          'plans': 22,\n",
       "          'Schley': 1,\n",
       "          'Rep.': 10,\n",
       "          'D.': 24,\n",
       "          'offer': 9,\n",
       "          'resolution': 21,\n",
       "          'House': 71,\n",
       "          'rescind': 2,\n",
       "          \"body's\": 1,\n",
       "          'action': 20,\n",
       "          'itself': 10,\n",
       "          '$10': 3,\n",
       "          'day': 61,\n",
       "          'increase': 24,\n",
       "          'expense': 7,\n",
       "          'allowances': 3,\n",
       "          'Sunday': 51,\n",
       "          'research': 15,\n",
       "          'done': 24,\n",
       "          'quickie': 1,\n",
       "          'can': 93,\n",
       "          'repealed': 1,\n",
       "          'outright': 3,\n",
       "          'notice': 5,\n",
       "          'given': 37,\n",
       "          'reconsideration': 2,\n",
       "          'sought': 6,\n",
       "          'While': 12,\n",
       "          'emphasizing': 1,\n",
       "          'technical': 7,\n",
       "          'details': 3,\n",
       "          'fully': 6,\n",
       "          'worked': 12,\n",
       "          'seek': 12,\n",
       "          'set': 51,\n",
       "          'aside': 5,\n",
       "          'privilege': 3,\n",
       "          '87-31': 1,\n",
       "          'similar': 17,\n",
       "          'passed': 18,\n",
       "          '29-5': 1,\n",
       "          'As': 36,\n",
       "          'word': 14,\n",
       "          'offered': 11,\n",
       "          'pointed': 9,\n",
       "          'last': 161,\n",
       "          'November': 10,\n",
       "          'rejected': 8,\n",
       "          'constitutional': 8,\n",
       "          'amendment': 5,\n",
       "          'allow': 5,\n",
       "          'pay': 33,\n",
       "          'raises': 3,\n",
       "          'sessions': 6,\n",
       "          'veteran': 11,\n",
       "          'Jackson': 5,\n",
       "          'legislator': 2,\n",
       "          'ask': 7,\n",
       "          'aid': 25,\n",
       "          'education': 31,\n",
       "          'something': 14,\n",
       "          'consistently': 1,\n",
       "          'opposed': 9,\n",
       "          'past': 35,\n",
       "          'Mac': 1,\n",
       "          'Barber': 5,\n",
       "          'Commerce': 7,\n",
       "          'asking': 5,\n",
       "          'endorse': 3,\n",
       "          'increased': 10,\n",
       "          'support': 24,\n",
       "          'provided': 8,\n",
       "          'expended': 1,\n",
       "          '13th': 5,\n",
       "          'members': 69,\n",
       "          'congressional': 6,\n",
       "          'delegation': 3,\n",
       "          'Washington': 48,\n",
       "          'like': 46,\n",
       "          'see': 38,\n",
       "          'But': 109,\n",
       "          'congressmen': 3,\n",
       "          'specifically': 1,\n",
       "          'him': 93,\n",
       "          'tossed': 1,\n",
       "          'hopper': 1,\n",
       "          'formally': 7,\n",
       "          'read': 13,\n",
       "          'event': 15,\n",
       "          'Congress': 21,\n",
       "          'does': 26,\n",
       "          'Board': 17,\n",
       "          'Education': 15,\n",
       "          'directed': 8,\n",
       "          'give': 32,\n",
       "          'teacher': 9,\n",
       "          'Colquitt': 2,\n",
       "          'After': 24,\n",
       "          'long': 39,\n",
       "          'hot': 9,\n",
       "          'controversy': 5,\n",
       "          'Miller': 3,\n",
       "          'school': 65,\n",
       "          'superintendent': 9,\n",
       "          'policeman': 2,\n",
       "          'put': 27,\n",
       "          'coolest': 2,\n",
       "          'I': 179,\n",
       "          'ever': 32,\n",
       "          'saw': 17,\n",
       "          'Harry': 10,\n",
       "          'Davis': 13,\n",
       "          'agriculture': 2,\n",
       "          'defeated': 5,\n",
       "          'Felix': 2,\n",
       "          'Bush': 3,\n",
       "          'principal': 9,\n",
       "          'Democratic': 37,\n",
       "          '1,119': 1,\n",
       "          'votes': 7,\n",
       "          \"Saturday's\": 2,\n",
       "          'got': 45,\n",
       "          '402': 1,\n",
       "          'Ordinary': 2,\n",
       "          'Carey': 5,\n",
       "          'armed': 7,\n",
       "          'pistol': 3,\n",
       "          'stood': 4,\n",
       "          'polls': 3,\n",
       "          'insure': 2,\n",
       "          'order': 19,\n",
       "          'calmest': 1,\n",
       "          'Policeman': 1,\n",
       "          'Tom': 6,\n",
       "          'Being': 1,\n",
       "          'just': 42,\n",
       "          'church': 16,\n",
       "          \"didn't\": 15,\n",
       "          'smell': 2,\n",
       "          'drop': 6,\n",
       "          'liquor': 4,\n",
       "          'bit': 7,\n",
       "          'trouble': 8,\n",
       "          'leading': 11,\n",
       "          'quiet': 5,\n",
       "          'marked': 4,\n",
       "          'anonymous': 4,\n",
       "          'midnight': 4,\n",
       "          'phone': 5,\n",
       "          'calls': 13,\n",
       "          'veiled': 3,\n",
       "          'threats': 1,\n",
       "          'violence': 3,\n",
       "          'former': 27,\n",
       "          'George': 23,\n",
       "          'P.': 18,\n",
       "          'Callan': 1,\n",
       "          'shot': 14,\n",
       "          'himself': 21,\n",
       "          'death': 10,\n",
       "          'March': 36,\n",
       "          '18': 20,\n",
       "          'four': 73,\n",
       "          'days': 38,\n",
       "          'post': 10,\n",
       "          'dispute': 2,\n",
       "          'board': 47,\n",
       "          'During': 5,\n",
       "          'reportedly': 4,\n",
       "          'telephone': 8,\n",
       "          'too': 37,\n",
       "          'subjected': 2,\n",
       "          'soon': 15,\n",
       "          'scheduled': 14,\n",
       "          'Many': 12,\n",
       "          'local': 39,\n",
       "          'feared': 1,\n",
       "          'carry': 11,\n",
       "          'gun': 2,\n",
       "          'promised': 4,\n",
       "          'Sheriff': 2,\n",
       "          'Tabb': 1,\n",
       "          'ordinary': 7,\n",
       "          'good': 50,\n",
       "          'promise': 3,\n",
       "          'Everything': 1,\n",
       "          'went': 37,\n",
       "          'real': 24,\n",
       "          'smooth': 1,\n",
       "          'sheriff': 3,\n",
       "          'There': 58,\n",
       "          \"wasn't\": 3,\n",
       "          'Austin': 15,\n",
       "          'approval': 8,\n",
       "          'Price': 3,\n",
       "          \"Daniel's\": 1,\n",
       "          'abandoned': 3,\n",
       "          'seemed': 12,\n",
       "          'certain': 18,\n",
       "          'Thursday': 20,\n",
       "          'despite': 11,\n",
       "          'adamant': 2,\n",
       "          'protests': 1,\n",
       "          'bankers': 8,\n",
       "          'Daniel': 5,\n",
       "          'personally': 3,\n",
       "          'led': 17,\n",
       "          'fight': 14,\n",
       "          'measure': 13,\n",
       "          'watered': 1,\n",
       "          'down': 50,\n",
       "          'considerably': 5,\n",
       "          'rejection': 3,\n",
       "          'Legislatures': 1,\n",
       "          'hearing': 14,\n",
       "          'Revenue': 5,\n",
       "          'Taxation': 1,\n",
       "          'Under': 8,\n",
       "          'rules': 11,\n",
       "          'automatically': 3,\n",
       "          'subcommittee': 1,\n",
       "          'week': 86,\n",
       "          'questions': 8,\n",
       "          'taunted': 1,\n",
       "          'appearing': 1,\n",
       "          'witnesses': 7,\n",
       "          'left': 39,\n",
       "          'little': 35,\n",
       "          'doubt': 6,\n",
       "          'recommend': 4,\n",
       "          'passage': 3,\n",
       "          'termed': 4,\n",
       "          'extremely': 2,\n",
       "          'conservative': 5,\n",
       "          'estimate': 3,\n",
       "          'produce': 7,\n",
       "          '17': 14,\n",
       "          'dollars': 15,\n",
       "          'help': 30,\n",
       "          'erase': 1,\n",
       "          'anticipated': 4,\n",
       "          'deficit': 1,\n",
       "          '63': 1,\n",
       "          'current': 13,\n",
       "          'fiscal': 5,\n",
       "          '31': 6,\n",
       "          'merely': 15,\n",
       "          'means': 18,\n",
       "          'enforcing': 1,\n",
       "          'escheat': 2,\n",
       "          'books': 12,\n",
       "          'republic': 1,\n",
       "          'permits': 4,\n",
       "          'over': 115,\n",
       "          'bank': 11,\n",
       "          'accounts': 2,\n",
       "          'stocks': 10,\n",
       "          'personal': 12,\n",
       "          'persons': 24,\n",
       "          'missing': 3,\n",
       "          'seven': 16,\n",
       "          'bill': 45,\n",
       "          'drafted': 1,\n",
       "          'banks': 4,\n",
       "          'insurance': 4,\n",
       "          'firms': 15,\n",
       "          'pipeline': 2,\n",
       "          'companies': 18,\n",
       "          'corporations': 2,\n",
       "          'report': 25,\n",
       "          'treasurer': 6,\n",
       "          'cannot': 15,\n",
       "          'enforced': 3,\n",
       "          'now': 76,\n",
       "          'because': 51,\n",
       "          'almost': 24,\n",
       "          'impossible': 4,\n",
       "          'locate': 1,\n",
       "          'declared': 15,\n",
       "          'Dewey': 1,\n",
       "          'Lawrence': 12,\n",
       "          'Tyler': 2,\n",
       "          'lawyer': 9,\n",
       "          'representing': 8,\n",
       "          'Bankers': 3,\n",
       "          'sounded': 1,\n",
       "          'opposition': 8,\n",
       "          'keynote': 3,\n",
       "          'violate': 2,\n",
       "          'their': 219,\n",
       "          'contractual': 1,\n",
       "          'obligations': 4,\n",
       "          'depositors': 1,\n",
       "          'undermine': 1,\n",
       "          'confidence': 6,\n",
       "          'customers': 7,\n",
       "          'If': 29,\n",
       "          'you': 55,\n",
       "          'destroy': 5,\n",
       "          'economy': 9,\n",
       "          'You': 11,\n",
       "          'circulation': 2,\n",
       "          'millions': 9,\n",
       "          'Charles': 22,\n",
       "          'Hughes': 22,\n",
       "          'Sherman': 9,\n",
       "          'sponsor': 4,\n",
       "          'failure': 5,\n",
       "          'enact': 1,\n",
       "          'amount': 18,\n",
       "          'gift': 5,\n",
       "          \"taxpayers'\": 2,\n",
       "          'pockets': 2,\n",
       "          'contention': 2,\n",
       "          'denied': 5,\n",
       "          'several': 34,\n",
       "          'including': 25,\n",
       "          'Scott': 3,\n",
       "          'Hudson': 2,\n",
       "          'Gaynor': 1,\n",
       "          'Jones': 22,\n",
       "          'Houston': 15,\n",
       "          'Brady': 1,\n",
       "          'Harlingen': 1,\n",
       "          'Howard': 13,\n",
       "          'Cox': 4,\n",
       "          'argued': 7,\n",
       "          'probably': 19,\n",
       "          'unconstitutional': 1,\n",
       "          'impair': 1,\n",
       "          'complained': 4,\n",
       "          'enough': 27,\n",
       "          'introduced': 10,\n",
       "          'only': 103,\n",
       "          'Senators': 4,\n",
       "          'unanimously': 2,\n",
       "          'Parkhouse': 5,\n",
       "          'Dallas': 49,\n",
       "          'authorizing': 2,\n",
       "          'schools': 37,\n",
       "          'deaf': 5,\n",
       "          'designed': 16,\n",
       "          'special': 41,\n",
       "          'schooling': 2,\n",
       "          ...})"
      ]
     },
     "execution_count": 30,
     "metadata": {},
     "output_type": "execute_result"
    }
   ],
   "source": [
    "cfd['news']"
   ]
  },
  {
   "cell_type": "code",
   "execution_count": 35,
   "metadata": {
    "collapsed": false
   },
   "outputs": [
    {
     "name": "stdout",
     "output_type": "stream",
     "text": [
      "           Monday   Tuesday Wednesday  Thursday    Friday  Saturday    Sunday \n",
      "   news        54        43        22        20        41        33        51 \n",
      "romance         2         3         3         1         3         4         5 \n"
     ]
    }
   ],
   "source": [
    "days = ['Monday', 'Tuesday', 'Wednesday', 'Thursday',\n",
    "       'Friday', 'Saturday', 'Sunday']\n",
    "cfd.tabulate(samples=days, conditions=['news', 'romance'])"
   ]
  },
  {
   "cell_type": "code",
   "execution_count": 36,
   "metadata": {
    "collapsed": false
   },
   "outputs": [
    {
     "data": {
      "image/png": "[encoded data removed]",
      "text/plain": [
       "<matplotlib.figure.Figure at 0x12362bba8>"
      ]
     },
     "metadata": {},
     "output_type": "display_data"
    }
   ],
   "source": [
    "cfd.plot(samples=days, conditions=['news', 'romance'])"
   ]
  },
  {
   "cell_type": "code",
   "execution_count": 37,
   "metadata": {
    "collapsed": false
   },
   "outputs": [
    {
     "name": "stdout",
     "output_type": "stream",
     "text": [
      "*** Introductory Examples for the NLTK Book ***\n",
      "Loading text1, ..., text9 and sent1, ..., sent9\n",
      "Type the name of the text or sentence to view it.\n",
      "Type: 'texts()' or 'sents()' to list the materials.\n",
      "text1: Moby Dick by Herman Melville 1851\n",
      "text2: Sense and Sensibility by Jane Austen 1811\n",
      "text3: The Book of Genesis\n",
      "text4: Inaugural Address Corpus\n",
      "text5: Chat Corpus\n",
      "text6: Monty Python and the Holy Grail\n",
      "text7: Wall Street Journal\n",
      "text8: Personals Corpus\n",
      "text9: The Man Who Was Thursday by G . K . Chesterton 1908\n"
     ]
    }
   ],
   "source": [
    "from nltk.book import text2"
   ]
  },
  {
   "cell_type": "code",
   "execution_count": 39,
   "metadata": {
    "collapsed": false
   },
   "outputs": [],
   "source": [
    "cfd = nltk.ConditionalFreqDist(nltk.bigrams(text2))"
   ]
  },
  {
   "cell_type": "code",
   "execution_count": 41,
   "metadata": {
    "collapsed": false
   },
   "outputs": [
    {
     "name": "stdout",
     "output_type": "stream",
     "text": [
      "handsome , and the same time , and the same time , and the same time , and the same "
     ]
    }
   ],
   "source": [
    "word = \"handsome\"\n",
    "for _ in range(20):\n",
    "    print(word, end=\" \")\n",
    "    word = cfd[word].max()"
   ]
  },
  {
   "cell_type": "code",
   "execution_count": 42,
   "metadata": {
    "collapsed": true
   },
   "outputs": [],
   "source": [
    "english_words = nltk.corpus.words.words()"
   ]
  },
  {
   "cell_type": "code",
   "execution_count": 43,
   "metadata": {
    "collapsed": false
   },
   "outputs": [
    {
     "data": {
      "text/plain": [
       "['A', 'a', 'aa', 'aal', 'aalii']"
      ]
     },
     "execution_count": 43,
     "metadata": {},
     "output_type": "execute_result"
    }
   ],
   "source": [
    "english_words[:5]"
   ]
  },
  {
   "cell_type": "code",
   "execution_count": 44,
   "metadata": {
    "collapsed": true
   },
   "outputs": [],
   "source": [
    "puzzle_letters = nltk.FreqDist('egivrvonl')"
   ]
  },
  {
   "cell_type": "code",
   "execution_count": 46,
   "metadata": {
    "collapsed": false
   },
   "outputs": [
    {
     "data": {
      "text/plain": [
       "FreqDist({'e': 1, 'g': 1, 'i': 1, 'l': 1, 'n': 1, 'o': 1, 'r': 1, 'v': 2})"
      ]
     },
     "execution_count": 46,
     "metadata": {},
     "output_type": "execute_result"
    }
   ],
   "source": [
    "puzzle_letters"
   ]
  },
  {
   "cell_type": "code",
   "execution_count": 47,
   "metadata": {
    "collapsed": false
   },
   "outputs": [
    {
     "data": {
      "text/plain": [
       "['enrol',\n",
       " 'ergon',\n",
       " 'genro',\n",
       " 'giver',\n",
       " 'glore',\n",
       " 'glover',\n",
       " 'goner',\n",
       " 'gorlin',\n",
       " 'govern',\n",
       " 'grein',\n",
       " 'groin',\n",
       " 'grove',\n",
       " 'grovel',\n",
       " 'ignore',\n",
       " 'involver',\n",
       " 'irone',\n",
       " 'levir',\n",
       " 'lienor',\n",
       " 'liner',\n",
       " 'linger',\n",
       " 'liver',\n",
       " 'livor',\n",
       " 'livre',\n",
       " 'longer',\n",
       " 'lover',\n",
       " 'lovering',\n",
       " 'negro',\n",
       " 'nigre',\n",
       " 'noiler',\n",
       " 'norie',\n",
       " 'ogler',\n",
       " 'oiler',\n",
       " 'oriel',\n",
       " 'overling',\n",
       " 'regin',\n",
       " 'region',\n",
       " 'reign',\n",
       " 'renvoi',\n",
       " 'reoil',\n",
       " 'revolving',\n",
       " 'rigol',\n",
       " 'ringe',\n",
       " 'ringle',\n",
       " 'rivel',\n",
       " 'riven',\n",
       " 'roving',\n",
       " 'vergi',\n",
       " 'vigor',\n",
       " 'viner',\n",
       " 'violer',\n",
       " 'vireo',\n",
       " 'virole',\n",
       " 'viron',\n",
       " 'viver']"
      ]
     },
     "execution_count": 47,
     "metadata": {},
     "output_type": "execute_result"
    }
   ],
   "source": [
    "obligatory = 'r'\n",
    "\n",
    "[word for word in english_words\n",
    " if len(word) > 4 and\n",
    "    obligatory in word and\n",
    "    nltk.FreqDist(word) <= puzzle_letters]"
   ]
  },
  {
   "cell_type": "code",
   "execution_count": 48,
   "metadata": {
    "collapsed": false
   },
   "outputs": [
    {
     "data": {
      "text/plain": [
       "['female.txt', 'male.txt']"
      ]
     },
     "execution_count": 48,
     "metadata": {},
     "output_type": "execute_result"
    }
   ],
   "source": [
    "names = nltk.corpus.names\n",
    "names.fileids()"
   ]
  },
  {
   "cell_type": "code",
   "execution_count": 49,
   "metadata": {
    "collapsed": true
   },
   "outputs": [],
   "source": [
    "female = names.words('female.txt')\n",
    "male = names.words('male.txt')"
   ]
  },
  {
   "cell_type": "code",
   "execution_count": 51,
   "metadata": {
    "collapsed": false
   },
   "outputs": [
    {
     "name": "stdout",
     "output_type": "stream",
     "text": [
      "Bobby, Lorne, Sunny, Jan, Jermaine, Brett, Abby, Torey, Daniel, Gabriell, Joey, Lesley, Tommy, Shawn, Eddy, Sydney, Niki, Jodie, Dani, Claude, Caryl, Gale, Nicky, Beau, Mel, Justin, Gill, Nat, Hazel, Jerry, Bryn, Blair, Jodi, Dorian, Vinnie, Jaime, Matty, Georgia, Lind, Jody, Trace, Evelyn, Bernie, Cris, Harley, Gus, Chad, Aubrey, Lou, Patty, Kerry, Lindsey, Randi, Meryl, George, Hannibal, Stacy, Ajay, Darby, Jackie, Page, Dory, Paige, Vin, Wallis, Brooke, Christie, Kip, Brooks, Jude, Luce, Holly, Francis, Ali, Shelley, Jerrie, Nikki, Courtney, Clair, Grace, Ike, Saundra, Sam, Blake, Clem, Barrie, Freddie, Sonnie, Jordan, Kit, Erin, Cass, Tobe, Sascha, Marietta, Daryl, Virgie, Angie, Tammy, Alix, Scotty, Isa, Regan, Max, Corrie, Jean, Winny, Sandy, Toby, Rory, Jere, Adrien, Addie, Pen, Maurise, Ira, Nickie, Shell, Timmie, Demetris, Deane, Tally, Allie, Cam, Ashley, Alex, Glenn, Vinny, Muffin, Martie, Morlee, Haleigh, Averil, Ginger, Tracey, Clare, Leigh, Cary, Winnie, Micky, Reggie, Sayre, Geri, Georgie, Merrill, Nichole, Shaine, Frank, Lyn, Darcy, Ricki, Tracy, Lauren, Barry, Judy, Jo, Chris, Bert, Tabby, Willie, Phil, Dana, Henrie, Darryl, Ikey, Van, Gretchen, Shayne, Devon, Lonnie, Leland, Timmy, Lorrie, Karel, Juanita, Fran, Billy, Sasha, Connie, Merle, Dallas, Kris, Donny, Lindy, Ricky, Tammie, Casey, Dominique, Whitney, Carlie, Gayle, Mead, Kim, Vale, Daffy, Ollie, Austin, Merry, Carey, Benny, Simone, Pooh, Angel, Lin, Freddy, Bill, Marty, Germaine, Millicent, Donnie, Bobbie, Val, Patsy, Michel, Isadore, Tabbie, Robbie, Allyn, Hillary, Leslie, Clemmie, Pennie, Cory, Jessie, Tracie, Elisha, Kelley, Christian, Tobie, Carroll, Ronny, Gene, Andie, Andrea, Brandy, Terri, Dennie, Ruby, Franky, Shay, Patrice, Lane, Lanny, Esme, Dion, Felice, Bennie, Wynn, Theo, Dionis, Cammy, Eddie, Dale, Shaun, Haley, Chrissy, Michele, Cecil, Perry, Lynn, Heath, Jess, Bo, Pat, Rene, Devin, Meade, Edie, Michal, Terry, Fred, Billie, Carlin, Judith, Quentin, Emmy, Maddy, Valentine, Rey, Loren, Cat, Christy, Shea, Gabriel, Mattie, Tommie, Wallie, Rickie, Ted, Dell, Marion, Laurie, Penny, Lindsay, Sonny, Rikki, Constantine, Lee, Britt, Augustine, Adrian, Cody, Marlo, Sean, Brook, Sal, Drew, Dannie, Gail, Frankie, Quinn, Cal, Randy, Randie, Danny, Tony, Abbey, Glen, Ray, Wally, Denny, Ronnie, Claire, Isador, Ariel, Maddie, Shannon, Shane, Kelsey, Gerry, Abbie, Jamie, Tim, Kirby, Hilary, Morgan, Alexis, Tate, Robin, Teddie, Julie, Sibyl, Maxie, Alfie, Pattie, Bertie, Del, Meredith, Sammy, Corey, Noel, Teddy, Tallie, Carmine, Jesse, Gerri, Gay, Kyle, Andy, Kelly, Kellen, Shelby, Willi, Willy, Mickie\n"
     ]
    }
   ],
   "source": [
    "print(', '.join(set(female) & set(male)))"
   ]
  },
  {
   "cell_type": "code",
   "execution_count": 52,
   "metadata": {
    "collapsed": true
   },
   "outputs": [],
   "source": [
    "cfd = nltk.ConditionalFreqDist(\n",
    "    (fileid, name[-1])\n",
    "    for fileid in names.fileids()\n",
    "    for name in names.words(fileid)\n",
    ")"
   ]
  },
  {
   "cell_type": "code",
   "execution_count": 53,
   "metadata": {
    "collapsed": false
   },
   "outputs": [
    {
     "data": {
      "image/png": "[encoded data removed]",
      "text/plain": [
       "<matplotlib.figure.Figure at 0x1287b69e8>"
      ]
     },
     "metadata": {},
     "output_type": "display_data"
    }
   ],
   "source": [
    "cfd.plot()"
   ]
  },
  {
   "cell_type": "code",
   "execution_count": 54,
   "metadata": {
    "collapsed": true
   },
   "outputs": [],
   "source": [
    "entries = nltk.corpus.cmudict.entries()"
   ]
  },
  {
   "cell_type": "code",
   "execution_count": 56,
   "metadata": {
    "collapsed": false
   },
   "outputs": [
    {
     "data": {
      "text/plain": [
       "[(\"addidas's\", ['AH0', 'D', 'IY1', 'D', 'AH0', 'S', 'IH0', 'Z']),\n",
       " ('addie', ['AE1', 'D', 'IY0']),\n",
       " ('adding', ['AE1', 'D', 'IH0', 'NG']),\n",
       " ('addington', ['AE1', 'D', 'IH0', 'NG', 'T', 'AH0', 'N']),\n",
       " ('addis', ['AA1', 'D', 'IH0', 'S']),\n",
       " ('addis-ababa', ['AA1', 'D', 'IH0', 'S', 'AH0', 'B', 'AA1', 'B', 'AH0']),\n",
       " ('addis-ababa', ['AA1', 'D', 'IY0', 'S', 'AH0', 'B', 'AA1', 'B', 'AH0']),\n",
       " ('addison', ['AE1', 'D', 'AH0', 'S', 'AH0', 'N']),\n",
       " ('addison', ['AE1', 'D', 'IH0', 'S', 'AH0', 'N']),\n",
       " (\"addison's\", ['AE1', 'D', 'IH0', 'S', 'AH0', 'N', 'Z'])]"
      ]
     },
     "execution_count": 56,
     "metadata": {},
     "output_type": "execute_result"
    }
   ],
   "source": [
    "entries[1000:1010]"
   ]
  },
  {
   "cell_type": "code",
   "execution_count": 57,
   "metadata": {
    "collapsed": false
   },
   "outputs": [
    {
     "data": {
      "text/plain": [
       "['F', 'IH1', 'SH']"
      ]
     },
     "execution_count": 57,
     "metadata": {},
     "output_type": "execute_result"
    }
   ],
   "source": [
    "phone_dict = dict(entries)\n",
    "phone_dict['fish']"
   ]
  },
  {
   "cell_type": "code",
   "execution_count": 58,
   "metadata": {
    "collapsed": true
   },
   "outputs": [],
   "source": [
    "fish_phones = _"
   ]
  },
  {
   "cell_type": "code",
   "execution_count": 59,
   "metadata": {
    "collapsed": true
   },
   "outputs": [],
   "source": [
    "word_map = nltk.ConditionalFreqDist(\n",
    "    (phone, word)\n",
    "    for word, phones in entries\n",
    "    for phone in phones\n",
    ")"
   ]
  },
  {
   "cell_type": "code",
   "execution_count": 62,
   "metadata": {
    "collapsed": false
   },
   "outputs": [
    {
     "name": "stdout",
     "output_type": "stream",
     "text": [
      "F   : february\n",
      "IH1 : didn't\n",
      "SH  : direction\n"
     ]
    }
   ],
   "source": [
    "for phone in fish_phones:\n",
    "    print('{:3} : {}'.format(phone, word_map[phone].max()))"
   ]
  },
  {
   "cell_type": "code",
   "execution_count": 69,
   "metadata": {
    "collapsed": false
   },
   "outputs": [
    {
     "name": "stdout",
     "output_type": "stream",
     "text": [
      "F   : chlebowski, cough, coughing, enough, enough's, korzeniewski, zaniewski, zhirinovsky, zhirinovsky's, zuchowski\n",
      "IH1 : belvedere, casebeer, dengler, gere, reso, reso's, sears's, spengler, wengler, when\n",
      "SH  : direction, directional, directionless, directions, educationally, evolution, evolutionary, internationalists, internationalization, internationally\n"
     ]
    }
   ],
   "source": [
    "blacklisted = {\n",
    "    'f': ('f', 'ph'),\n",
    "    'i': ('i', 'y'),\n",
    "    'sh': ('sh',)\n",
    "}\n",
    "\n",
    "def is_blacklisted(word, letter):\n",
    "    for b in blacklisted.get(letter, ()):\n",
    "        if b in word:\n",
    "            return True\n",
    "    return False\n",
    "\n",
    "for phone, letter in zip(fish_phones, ('f', 'i', 'sh')):\n",
    "    words = word_map[phone]\n",
    "    alternatives = []\n",
    "    for word, _ in words.most_common():\n",
    "        if not is_blacklisted(word, letter):\n",
    "            alternatives.append(word)\n",
    "        if len(alternatives) >= 10:\n",
    "            break\n",
    "    print(\"{:3} : {}\".format(phone, \", \".join(alternatives)))"
   ]
  },
  {
   "cell_type": "code",
   "execution_count": 70,
   "metadata": {
    "collapsed": false
   },
   "outputs": [],
   "source": [
    "from nltk.corpus import wordnet as wn"
   ]
  },
  {
   "cell_type": "code",
   "execution_count": 71,
   "metadata": {
    "collapsed": false
   },
   "outputs": [
    {
     "data": {
      "text/plain": [
       "[Synset('car.n.01')]"
      ]
     },
     "execution_count": 71,
     "metadata": {},
     "output_type": "execute_result"
    }
   ],
   "source": [
    "wn.synsets('motorcar')"
   ]
  },
  {
   "cell_type": "code",
   "execution_count": 72,
   "metadata": {
    "collapsed": false
   },
   "outputs": [
    {
     "data": {
      "text/plain": [
       "['car', 'auto', 'automobile', 'machine', 'motorcar']"
      ]
     },
     "execution_count": 72,
     "metadata": {},
     "output_type": "execute_result"
    }
   ],
   "source": [
    "wn.synset('car.n.01').lemma_names()"
   ]
  },
  {
   "cell_type": "code",
   "execution_count": 73,
   "metadata": {
    "collapsed": false
   },
   "outputs": [
    {
     "data": {
      "text/plain": [
       "['car', 'railcar', 'railway_car', 'railroad_car']"
      ]
     },
     "execution_count": 73,
     "metadata": {},
     "output_type": "execute_result"
    }
   ],
   "source": [
    "wn.synset('car.n.02').lemma_names()"
   ]
  },
  {
   "cell_type": "code",
   "execution_count": 74,
   "metadata": {
    "collapsed": false
   },
   "outputs": [
    {
     "data": {
      "text/plain": [
       "'a motor vehicle with four wheels; usually propelled by an internal combustion engine'"
      ]
     },
     "execution_count": 74,
     "metadata": {},
     "output_type": "execute_result"
    }
   ],
   "source": [
    "wn.synset('car.n.01').definition()"
   ]
  },
  {
   "cell_type": "code",
   "execution_count": 75,
   "metadata": {
    "collapsed": false
   },
   "outputs": [
    {
     "data": {
      "text/plain": [
       "'a wheeled vehicle adapted to the rails of railroad'"
      ]
     },
     "execution_count": 75,
     "metadata": {},
     "output_type": "execute_result"
    }
   ],
   "source": [
    "wn.synset('car.n.02').definition()"
   ]
  },
  {
   "cell_type": "code",
   "execution_count": 80,
   "metadata": {
    "collapsed": false
   },
   "outputs": [
    {
     "name": "stdout",
     "output_type": "stream",
     "text": [
      "a piece of dishware normally used as a container for holding or serving food\n",
      "a particular item of prepared food\n",
      "the quantity that a dish will hold\n",
      "a very attractive or seductive looking woman\n",
      "directional antenna consisting of a parabolic reflector for microwave or radio frequency radiation\n",
      "an activity that you like or at which you are superior\n",
      "provide (usually but not necessarily food)\n",
      "make concave; shape like a dish\n"
     ]
    }
   ],
   "source": [
    "for synset in wn.synsets('dish'):\n",
    "    print(synset.definition())"
   ]
  },
  {
   "cell_type": "code",
   "execution_count": 81,
   "metadata": {
    "collapsed": true
   },
   "outputs": [],
   "source": [
    "rr_car = wn.synset('car.n.02')"
   ]
  },
  {
   "cell_type": "code",
   "execution_count": 84,
   "metadata": {
    "collapsed": false
   },
   "outputs": [
    {
     "data": {
      "text/plain": [
       "['baggage_car',\n",
       " 'cabin_car',\n",
       " 'caboose',\n",
       " 'carriage',\n",
       " 'club_car',\n",
       " 'coach',\n",
       " 'freight_car',\n",
       " \"guard's_van\",\n",
       " 'handcar',\n",
       " 'lounge_car',\n",
       " 'luggage_van',\n",
       " 'mail_car',\n",
       " 'passenger_car',\n",
       " 'slip_carriage',\n",
       " 'slip_coach',\n",
       " 'tender',\n",
       " 'van']"
      ]
     },
     "execution_count": 84,
     "metadata": {},
     "output_type": "execute_result"
    }
   ],
   "source": [
    "sorted(set(\n",
    "    lemma.name() for synset in rr_car.hyponyms() for lemma in synset.lemmas()))"
   ]
  },
  {
   "cell_type": "code",
   "execution_count": null,
   "metadata": {
    "collapsed": true
   },
   "outputs": [],
   "source": []
  }
 ],
 "metadata": {
  "kernelspec": {
   "display_name": "Python 3",
   "language": "python",
   "name": "python3"
  },
  "language_info": {
   "codemirror_mode": {
    "name": "ipython",
    "version": 3
   },
   "file_extension": ".py",
   "mimetype": "text/x-python",
   "name": "python",
   "nbconvert_exporter": "python",
   "pygments_lexer": "ipython3",
   "version": "3.6.0"
  }
 },
 "nbformat": 4,
 "nbformat_minor": 2
}
