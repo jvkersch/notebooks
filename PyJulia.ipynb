{
 "cells": [
  {
   "cell_type": "code",
   "execution_count": 2,
   "metadata": {},
   "outputs": [
    {
     "ename": "RuntimeError",
     "evalue": "It seems your Julia and PyJulia setup are not supported.\n\nJulia interpreter:\n    julia\nPython interpreter and libpython used by PyCall.jl:\n    /Users/jvankerschaver/.julia/conda/3/bin/python\n    /Users/jvankerschaver/.julia/conda/3/lib/libpython3.7m.dylib\nPython interpreter used to import PyJulia and its libpython.\n    /Users/jvankerschaver/.julia/conda/3/bin/python\n    /Users/jvankerschaver/.julia/conda/3/lib/libpython3.7m.dylib\n\nYour Python interpreter \"/Users/jvankerschaver/.julia/conda/3/bin/python\"\nis statically linked to libpython.  Currently, PyJulia does not support\nsuch Python interpreter.  One easy workaround is to run your Python\nscript with `python-jl` command bundled in PyJulia.  You can simply do:\n\n    python-jl PATH/TO/YOUR/SCRIPT.py\n\nSee `python-jl --help` for more information.\n\nFor other available workarounds, see:\n    https://github.com/JuliaPy/pyjulia#troubleshooting\n\nFor more information, see:\n    https://github.com/JuliaPy/pyjulia\n    https://github.com/JuliaPy/PyCall.jl\n",
     "output_type": "error",
     "traceback": [
      "\u001b[0;31m---------------------------------------------------------------------------\u001b[0m",
      "\u001b[0;31mRuntimeError\u001b[0m                              Traceback (most recent call last)",
      "\u001b[0;32m<ipython-input-2-5063b14d431c>\u001b[0m in \u001b[0;36m<module>\u001b[0;34m\u001b[0m\n\u001b[0;32m----> 1\u001b[0;31m \u001b[0;32mfrom\u001b[0m \u001b[0mjulia\u001b[0m \u001b[0;32mimport\u001b[0m \u001b[0mBase\u001b[0m\u001b[0;34m\u001b[0m\u001b[0;34m\u001b[0m\u001b[0m\n\u001b[0m",
      "\u001b[0;32m~/.julia/conda/3/lib/python3.7/importlib/_bootstrap.py\u001b[0m in \u001b[0;36m_find_and_load\u001b[0;34m(name, import_)\u001b[0m\n",
      "\u001b[0;32m~/.julia/conda/3/lib/python3.7/importlib/_bootstrap.py\u001b[0m in \u001b[0;36m_find_and_load_unlocked\u001b[0;34m(name, import_)\u001b[0m\n",
      "\u001b[0;32m~/.julia/conda/3/lib/python3.7/importlib/_bootstrap.py\u001b[0m in \u001b[0;36m_load_unlocked\u001b[0;34m(spec)\u001b[0m\n",
      "\u001b[0;32m~/.julia/conda/3/lib/python3.7/importlib/_bootstrap.py\u001b[0m in \u001b[0;36m_load_backward_compatible\u001b[0;34m(spec)\u001b[0m\n",
      "\u001b[0;32m~/.julia/conda/3/lib/python3.7/site-packages/julia/core.py\u001b[0m in \u001b[0;36mload_module\u001b[0;34m(self, fullname)\u001b[0m\n\u001b[1;32m    179\u001b[0m             return sys.modules.setdefault(fullname,\n\u001b[1;32m    180\u001b[0m                                           JuliaMainModule(self, fullname))\n\u001b[0;32m--> 181\u001b[0;31m         \u001b[0;32melif\u001b[0m \u001b[0misafunction\u001b[0m\u001b[0;34m(\u001b[0m\u001b[0mself\u001b[0m\u001b[0;34m.\u001b[0m\u001b[0mjulia\u001b[0m\u001b[0;34m,\u001b[0m \u001b[0mjuliapath\u001b[0m\u001b[0;34m)\u001b[0m\u001b[0;34m:\u001b[0m\u001b[0;34m\u001b[0m\u001b[0;34m\u001b[0m\u001b[0m\n\u001b[0m\u001b[1;32m    182\u001b[0m             \u001b[0;32mreturn\u001b[0m \u001b[0mself\u001b[0m\u001b[0;34m.\u001b[0m\u001b[0mjulia\u001b[0m\u001b[0;34m.\u001b[0m\u001b[0meval\u001b[0m\u001b[0;34m(\u001b[0m\u001b[0mjuliapath\u001b[0m\u001b[0;34m)\u001b[0m\u001b[0;34m\u001b[0m\u001b[0;34m\u001b[0m\u001b[0m\n\u001b[1;32m    183\u001b[0m \u001b[0;34m\u001b[0m\u001b[0m\n",
      "\u001b[0;32m~/.julia/conda/3/lib/python3.7/site-packages/julia/core.py\u001b[0m in \u001b[0;36mjulia\u001b[0;34m(self)\u001b[0m\n\u001b[1;32m    170\u001b[0m     \u001b[0;34m@\u001b[0m\u001b[0mproperty\u001b[0m\u001b[0;34m\u001b[0m\u001b[0;34m\u001b[0m\u001b[0m\n\u001b[1;32m    171\u001b[0m     \u001b[0;32mdef\u001b[0m \u001b[0mjulia\u001b[0m\u001b[0;34m(\u001b[0m\u001b[0mself\u001b[0m\u001b[0;34m)\u001b[0m\u001b[0;34m:\u001b[0m\u001b[0;34m\u001b[0m\u001b[0;34m\u001b[0m\u001b[0m\n\u001b[0;32m--> 172\u001b[0;31m         \u001b[0mself\u001b[0m\u001b[0;34m.\u001b[0m\u001b[0m__class__\u001b[0m\u001b[0;34m.\u001b[0m\u001b[0mjulia\u001b[0m \u001b[0;34m=\u001b[0m \u001b[0mjulia\u001b[0m \u001b[0;34m=\u001b[0m \u001b[0mJulia\u001b[0m\u001b[0;34m(\u001b[0m\u001b[0;34m)\u001b[0m\u001b[0;34m\u001b[0m\u001b[0;34m\u001b[0m\u001b[0m\n\u001b[0m\u001b[1;32m    173\u001b[0m         \u001b[0;32mreturn\u001b[0m \u001b[0mjulia\u001b[0m\u001b[0;34m\u001b[0m\u001b[0;34m\u001b[0m\u001b[0m\n\u001b[1;32m    174\u001b[0m \u001b[0;34m\u001b[0m\u001b[0m\n",
      "\u001b[0;32m~/.julia/conda/3/lib/python3.7/site-packages/julia/core.py\u001b[0m in \u001b[0;36m__init__\u001b[0;34m(self, init_julia, jl_init_path, runtime, jl_runtime_path, debug)\u001b[0m\n\u001b[1;32m    612\u001b[0m                         \"PyJulia does not support Julia < 0.6 anymore\")\n\u001b[1;32m    613\u001b[0m                 \u001b[0;32melif\u001b[0m \u001b[0mversion_range\u001b[0m \u001b[0;34m==\u001b[0m \u001b[0;36m1\u001b[0m\u001b[0;34m:\u001b[0m\u001b[0;34m\u001b[0m\u001b[0;34m\u001b[0m\u001b[0m\n\u001b[0;32m--> 614\u001b[0;31m                     \u001b[0mraise_separate_cache_error\u001b[0m\u001b[0;34m(\u001b[0m\u001b[0mruntime\u001b[0m\u001b[0;34m,\u001b[0m \u001b[0mjlinfo\u001b[0m\u001b[0;34m)\u001b[0m\u001b[0;34m\u001b[0m\u001b[0;34m\u001b[0m\u001b[0m\n\u001b[0m\u001b[1;32m    615\u001b[0m                 \u001b[0;31m# Intercept precompilation\u001b[0m\u001b[0;34m\u001b[0m\u001b[0;34m\u001b[0m\u001b[0;34m\u001b[0m\u001b[0m\n\u001b[1;32m    616\u001b[0m                 \u001b[0mos\u001b[0m\u001b[0;34m.\u001b[0m\u001b[0menviron\u001b[0m\u001b[0;34m[\u001b[0m\u001b[0;34m\"PYCALL_PYTHON_EXE\"\u001b[0m\u001b[0;34m]\u001b[0m \u001b[0;34m=\u001b[0m \u001b[0msys\u001b[0m\u001b[0;34m.\u001b[0m\u001b[0mexecutable\u001b[0m\u001b[0;34m\u001b[0m\u001b[0;34m\u001b[0m\u001b[0m\n",
      "\u001b[0;32m~/.julia/conda/3/lib/python3.7/site-packages/julia/core.py\u001b[0m in \u001b[0;36mraise_separate_cache_error\u001b[0;34m(runtime, jlinfo, _determine_if_statically_linked)\u001b[0m\n\u001b[1;32m    426\u001b[0m         \u001b[0mjl_libpython\u001b[0m\u001b[0;34m=\u001b[0m\u001b[0mnormalize_path\u001b[0m\u001b[0;34m(\u001b[0m\u001b[0mjlinfo\u001b[0m\u001b[0;34m.\u001b[0m\u001b[0mlibpython\u001b[0m\u001b[0;34m)\u001b[0m\u001b[0;34m,\u001b[0m\u001b[0;34m\u001b[0m\u001b[0;34m\u001b[0m\u001b[0m\n\u001b[1;32m    427\u001b[0m         sys=sys)\n\u001b[0;32m--> 428\u001b[0;31m     \u001b[0;32mraise\u001b[0m \u001b[0mRuntimeError\u001b[0m\u001b[0;34m(\u001b[0m\u001b[0mmessage\u001b[0m\u001b[0;34m)\u001b[0m\u001b[0;34m\u001b[0m\u001b[0;34m\u001b[0m\u001b[0m\n\u001b[0m\u001b[1;32m    429\u001b[0m \u001b[0;34m\u001b[0m\u001b[0m\n\u001b[1;32m    430\u001b[0m \u001b[0;34m\u001b[0m\u001b[0m\n",
      "\u001b[0;31mRuntimeError\u001b[0m: It seems your Julia and PyJulia setup are not supported.\n\nJulia interpreter:\n    julia\nPython interpreter and libpython used by PyCall.jl:\n    /Users/jvankerschaver/.julia/conda/3/bin/python\n    /Users/jvankerschaver/.julia/conda/3/lib/libpython3.7m.dylib\nPython interpreter used to import PyJulia and its libpython.\n    /Users/jvankerschaver/.julia/conda/3/bin/python\n    /Users/jvankerschaver/.julia/conda/3/lib/libpython3.7m.dylib\n\nYour Python interpreter \"/Users/jvankerschaver/.julia/conda/3/bin/python\"\nis statically linked to libpython.  Currently, PyJulia does not support\nsuch Python interpreter.  One easy workaround is to run your Python\nscript with `python-jl` command bundled in PyJulia.  You can simply do:\n\n    python-jl PATH/TO/YOUR/SCRIPT.py\n\nSee `python-jl --help` for more information.\n\nFor other available workarounds, see:\n    https://github.com/JuliaPy/pyjulia#troubleshooting\n\nFor more information, see:\n    https://github.com/JuliaPy/pyjulia\n    https://github.com/JuliaPy/PyCall.jl\n"
     ]
    }
   ],
   "source": [
    "from julia import Base"
   ]
  },
  {
   "cell_type": "code",
   "execution_count": null,
   "metadata": {},
   "outputs": [],
   "source": []
  }
 ],
 "metadata": {
  "kernelspec": {
   "display_name": "Python 3",
   "language": "python",
   "name": "python3"
  },
  "language_info": {
   "codemirror_mode": {
    "name": "ipython",
    "version": 3
   },
   "file_extension": ".py",
   "mimetype": "text/x-python",
   "name": "python",
   "nbconvert_exporter": "python",
   "pygments_lexer": "ipython3",
   "version": "3.7.1"
  }
 },
 "nbformat": 4,
 "nbformat_minor": 2
}
