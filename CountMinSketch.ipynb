{
 "cells": [
  {
   "cell_type": "code",
   "execution_count": 16,
   "id": "badb3f01",
   "metadata": {},
   "outputs": [],
   "source": [
    "%matplotlib inline"
   ]
  },
  {
   "cell_type": "code",
   "execution_count": 17,
   "id": "f201b6fc",
   "metadata": {},
   "outputs": [],
   "source": [
    "from math import ceil, e, log\n",
    "import hashlib\n",
    "\n",
    "import matplotlib.pyplot as plt\n",
    "import numpy as np"
   ]
  },
  {
   "cell_type": "code",
   "execution_count": 38,
   "id": "a2803573",
   "metadata": {},
   "outputs": [],
   "source": [
    "def _hash(message: str, index: int) -> int:\n",
    "    message = f\"{message}-{index}\"\n",
    "    digest = hashlib.md5(message.encode()).hexdigest()\n",
    "    return int(digest, 16)"
   ]
  },
  {
   "cell_type": "code",
   "execution_count": 53,
   "id": "7736cb96",
   "metadata": {},
   "outputs": [],
   "source": [
    "class Sketch:\n",
    "    def __init__(self, epsilon, delta):\n",
    "        self.width = ceil(e/epsilon)\n",
    "        self.depth = ceil(-log(delta))\n",
    "        self._sketch = np.zeros((self.depth, self.width), dtype=int)\n",
    "        \n",
    "    def count(self, element):\n",
    "        for i in range(self.depth):\n",
    "            h = _hash(element, i)\n",
    "            self._sketch[i, h % self.width] += 1\n",
    "            \n",
    "    def estimate(self, element):\n",
    "        return min(self._sketch[i, _hash(element, i) % self.width]\n",
    "                   for i in range(self.depth))\n",
    "    \n",
    "    @property\n",
    "    def size(self):\n",
    "        return self._sketch.shape"
   ]
  },
  {
   "cell_type": "code",
   "execution_count": 73,
   "id": "8ca61e11",
   "metadata": {},
   "outputs": [],
   "source": [
    "s = Sketch(0.05, 0.01)"
   ]
  },
  {
   "cell_type": "code",
   "execution_count": 55,
   "id": "37092885",
   "metadata": {},
   "outputs": [],
   "source": [
    "for _ in range(10):\n",
    "    s.count(\"foo\")\n",
    "    s.count(\"bar\")\n",
    "    s.count(\"baz\")\n",
    "    s.count(\"foo\")\n",
    "    s.count(\"foo\")"
   ]
  },
  {
   "cell_type": "code",
   "execution_count": 56,
   "id": "c32c0b59",
   "metadata": {},
   "outputs": [
    {
     "data": {
      "text/plain": [
       "array([50, 50, 50, 50, 50])"
      ]
     },
     "execution_count": 56,
     "metadata": {},
     "output_type": "execute_result"
    }
   ],
   "source": [
    "s._sketch.sum(axis=1)"
   ]
  },
  {
   "cell_type": "code",
   "execution_count": 57,
   "id": "a2c962ab",
   "metadata": {
    "scrolled": true
   },
   "outputs": [
    {
     "data": {
      "text/plain": [
       "30"
      ]
     },
     "execution_count": 57,
     "metadata": {},
     "output_type": "execute_result"
    }
   ],
   "source": [
    "s.estimate(\"foo\")"
   ]
  },
  {
   "cell_type": "code",
   "execution_count": 58,
   "id": "e0069910",
   "metadata": {},
   "outputs": [
    {
     "data": {
      "text/plain": [
       "10"
      ]
     },
     "execution_count": 58,
     "metadata": {},
     "output_type": "execute_result"
    }
   ],
   "source": [
    "s.estimate(\"bar\")"
   ]
  },
  {
   "cell_type": "code",
   "execution_count": 59,
   "id": "80d63ec2",
   "metadata": {},
   "outputs": [
    {
     "data": {
      "text/plain": [
       "10"
      ]
     },
     "execution_count": 59,
     "metadata": {},
     "output_type": "execute_result"
    }
   ],
   "source": [
    "s.estimate(\"baz\")"
   ]
  },
  {
   "cell_type": "code",
   "execution_count": 87,
   "id": "b99e0a6c",
   "metadata": {},
   "outputs": [],
   "source": [
    "prng = np.random.RandomState(1234)"
   ]
  },
  {
   "cell_type": "code",
   "execution_count": 88,
   "id": "ea46215e",
   "metadata": {},
   "outputs": [],
   "source": [
    "s = Sketch(0.01, 0.05)\n",
    "data = prng.randint(0, 1000, 10000)\n",
    "\n",
    "for d in data:\n",
    "    s.count(d)"
   ]
  },
  {
   "cell_type": "code",
   "execution_count": 89,
   "id": "84ed7016",
   "metadata": {},
   "outputs": [
    {
     "data": {
      "text/plain": [
       "(3, 272)"
      ]
     },
     "execution_count": 89,
     "metadata": {},
     "output_type": "execute_result"
    }
   ],
   "source": [
    "s.size"
   ]
  },
  {
   "cell_type": "code",
   "execution_count": 90,
   "id": "5e7723d0",
   "metadata": {},
   "outputs": [],
   "source": [
    "from collections import Counter\n",
    "\n",
    "exact = Counter(data)"
   ]
  },
  {
   "cell_type": "code",
   "execution_count": 93,
   "id": "c3e78f30",
   "metadata": {},
   "outputs": [],
   "source": [
    "errors = []\n",
    "for value, count in exact.items():\n",
    "    error = s.estimate(value) - count\n",
    "    errors.append(error)"
   ]
  },
  {
   "cell_type": "code",
   "execution_count": 94,
   "id": "2aa128dd",
   "metadata": {},
   "outputs": [
    {
     "data": {
      "image/png": "[encoded data removed]",
      "text/plain": [
       "<Figure size 432x288 with 1 Axes>"
      ]
     },
     "metadata": {
      "needs_background": "light"
     },
     "output_type": "display_data"
    }
   ],
   "source": [
    "plt.hist(errors)\n",
    "\n",
    "pass"
   ]
  },
  {
   "cell_type": "code",
   "execution_count": 99,
   "id": "eafbb557",
   "metadata": {},
   "outputs": [
    {
     "data": {
      "text/plain": [
       "<matplotlib.lines.Line2D at 0x7f97597e37b8>"
      ]
     },
     "execution_count": 99,
     "metadata": {},
     "output_type": "execute_result"
    },
    {
     "data": {
      "image/png": "[encoded data removed]",
      "text/plain": [
       "<Figure size 432x288 with 1 Axes>"
      ]
     },
     "metadata": {
      "needs_background": "light"
     },
     "output_type": "display_data"
    }
   ],
   "source": [
    "errors = [s.estimate(d) - exact[d] for d in data]\n",
    "\n",
    "plt.plot(data, errors, 'o')\n",
    "plt.axhline(100, color=\"red\")"
   ]
  },
  {
   "cell_type": "code",
   "execution_count": null,
   "id": "c90a9683",
   "metadata": {},
   "outputs": [],
   "source": []
  }
 ],
 "metadata": {
  "kernelspec": {
   "display_name": "Python 3 (ipykernel)",
   "language": "python",
   "name": "python3"
  },
  "language_info": {
   "codemirror_mode": {
    "name": "ipython",
    "version": 3
   },
   "file_extension": ".py",
   "mimetype": "text/x-python",
   "name": "python",
   "nbconvert_exporter": "python",
   "pygments_lexer": "ipython3",
   "version": "3.9.7"
  }
 },
 "nbformat": 4,
 "nbformat_minor": 5
}
